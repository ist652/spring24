{
 "cells": [
  {
   "cell_type": "markdown",
   "metadata": {
    "tags": []
   },
   "source": [
    "### Review "
   ]
  },
  {
   "cell_type": "markdown",
   "metadata": {
    "tags": []
   },
   "source": [
    "## Warm-Up 1\n",
    "\n",
    "Load the following data set into a data frame, called `exam_df`\n",
    "\n",
    "https://raw.githubusercontent.com/mafudge/datasets/master/exam-scores/exam-scores.csv\n"
   ]
  },
  {
   "cell_type": "code",
   "execution_count": null,
   "metadata": {},
   "outputs": [],
   "source": []
  },
  {
   "cell_type": "code",
   "execution_count": null,
   "metadata": {},
   "outputs": [],
   "source": [
    "Show grades where the students made their own study guide and finished in 30 minutes or less. What are your findings?"
   ]
  },
  {
   "cell_type": "code",
   "execution_count": null,
   "metadata": {},
   "outputs": [],
   "source": []
  },
  {
   "cell_type": "markdown",
   "metadata": {},
   "source": [
    "Show grades for students who created their own study guide"
   ]
  },
  {
   "cell_type": "code",
   "execution_count": null,
   "metadata": {},
   "outputs": [],
   "source": []
  },
  {
   "cell_type": "markdown",
   "metadata": {},
   "source": [
    "## Warm-Up 2\n",
    "Load the following HTML table into a data frame called res_df\n",
    "\n",
    "https://en.wikipedia.org/wiki/Graphics_display_resolution#High-definition"
   ]
  },
  {
   "cell_type": "code",
   "execution_count": null,
   "metadata": {},
   "outputs": [],
   "source": []
  },
  {
   "cell_type": "markdown",
   "metadata": {},
   "source": [
    "Show displays which are larger than 1920 x 1080. Show columns Name and H:V only"
   ]
  },
  {
   "cell_type": "code",
   "execution_count": null,
   "metadata": {},
   "outputs": [],
   "source": []
  },
  {
   "cell_type": "code",
   "execution_count": null,
   "metadata": {},
   "outputs": [],
   "source": []
  },
  {
   "cell_type": "markdown",
   "metadata": {},
   "source": [
    "## Challenge UFO Sightings DataSet\n",
    "\n",
    "The following data was taken from the National UFO Reporting Center http://www.nuforc.org/ and represents 5 months of reported UFO sightings from January 2016 to May 2016. \n",
    "\n",
    "Let's Perform a data analysis on 3 months of data by answering the questions below\n"
   ]
  },
  {
   "cell_type": "code",
   "execution_count": null,
   "metadata": {},
   "outputs": [],
   "source": []
  },
  {
   "cell_type": "code",
   "execution_count": 2,
   "metadata": {
    "tags": []
   },
   "outputs": [
    {
     "data": {
      "text/html": [
       "<div>\n",
       "<style scoped>\n",
       "    .dataframe tbody tr th:only-of-type {\n",
       "        vertical-align: middle;\n",
       "    }\n",
       "\n",
       "    .dataframe tbody tr th {\n",
       "        vertical-align: top;\n",
       "    }\n",
       "\n",
       "    .dataframe thead th {\n",
       "        text-align: right;\n",
       "    }\n",
       "</style>\n",
       "<table border=\"1\" class=\"dataframe\">\n",
       "  <thead>\n",
       "    <tr style=\"text-align: right;\">\n",
       "      <th></th>\n",
       "      <th>Date / Time</th>\n",
       "      <th>City</th>\n",
       "      <th>State</th>\n",
       "      <th>Shape</th>\n",
       "      <th>Duration</th>\n",
       "      <th>Summary</th>\n",
       "      <th>Posted</th>\n",
       "    </tr>\n",
       "  </thead>\n",
       "  <tbody>\n",
       "    <tr>\n",
       "      <th>0</th>\n",
       "      <td>1/31/16 23:10</td>\n",
       "      <td>Stanton</td>\n",
       "      <td>TX</td>\n",
       "      <td>Triangle</td>\n",
       "      <td>4 seconds</td>\n",
       "      <td>Flying Triangle object Martin County, TX.</td>\n",
       "      <td>2/4/2016</td>\n",
       "    </tr>\n",
       "    <tr>\n",
       "      <th>1</th>\n",
       "      <td>1/31/16 23:00</td>\n",
       "      <td>Emigrant Pass (near; foothills of)</td>\n",
       "      <td>OR</td>\n",
       "      <td>Other</td>\n",
       "      <td>NaN</td>\n",
       "      <td>Seen a object with a solid orange bar that lit...</td>\n",
       "      <td>2/4/2016</td>\n",
       "    </tr>\n",
       "    <tr>\n",
       "      <th>2</th>\n",
       "      <td>1/31/16 22:00</td>\n",
       "      <td>Allentown</td>\n",
       "      <td>PA</td>\n",
       "      <td>Fireball</td>\n",
       "      <td>4 seconds</td>\n",
       "      <td>Yellow beam of light falling from the sky, wit...</td>\n",
       "      <td>2/4/2016</td>\n",
       "    </tr>\n",
       "    <tr>\n",
       "      <th>3</th>\n",
       "      <td>1/31/16 20:57</td>\n",
       "      <td>Sandpoint</td>\n",
       "      <td>ID</td>\n",
       "      <td>Fireball</td>\n",
       "      <td>90 seconds</td>\n",
       "      <td>Object came in from west to east below approx ...</td>\n",
       "      <td>2/4/2016</td>\n",
       "    </tr>\n",
       "    <tr>\n",
       "      <th>4</th>\n",
       "      <td>1/31/16 20:46</td>\n",
       "      <td>West Suffield</td>\n",
       "      <td>CT</td>\n",
       "      <td>Circle</td>\n",
       "      <td>~2 minutes</td>\n",
       "      <td>I saw 3 orange lights in a formation coming to...</td>\n",
       "      <td>2/4/2016</td>\n",
       "    </tr>\n",
       "  </tbody>\n",
       "</table>\n",
       "</div>"
      ],
      "text/plain": [
       "     Date / Time                                City State     Shape  \\\n",
       "0  1/31/16 23:10                             Stanton    TX  Triangle   \n",
       "1  1/31/16 23:00  Emigrant Pass (near; foothills of)    OR     Other   \n",
       "2  1/31/16 22:00                           Allentown    PA  Fireball   \n",
       "3  1/31/16 20:57                           Sandpoint    ID  Fireball   \n",
       "4  1/31/16 20:46                       West Suffield    CT    Circle   \n",
       "\n",
       "     Duration                                            Summary    Posted  \n",
       "0   4 seconds          Flying Triangle object Martin County, TX.  2/4/2016  \n",
       "1         NaN  Seen a object with a solid orange bar that lit...  2/4/2016  \n",
       "2   4 seconds  Yellow beam of light falling from the sky, wit...  2/4/2016  \n",
       "3  90 seconds  Object came in from west to east below approx ...  2/4/2016  \n",
       "4  ~2 minutes  I saw 3 orange lights in a formation coming to...  2/4/2016  "
      ]
     },
     "execution_count": 2,
     "metadata": {},
     "output_type": "execute_result"
    }
   ],
   "source": [
    "import pandas as pd\n",
    "jan_ufo = pd.read_csv('https://raw.githubusercontent.com/mafudge/datasets/master/ufo-sightings/ufo-sightings-2016-01.csv')\n",
    "jan_ufo.head()"
   ]
  },
  {
   "cell_type": "markdown",
   "metadata": {},
   "source": [
    "Filter to just sighting in NY"
   ]
  },
  {
   "cell_type": "code",
   "execution_count": null,
   "metadata": {},
   "outputs": [],
   "source": []
  },
  {
   "cell_type": "code",
   "execution_count": null,
   "metadata": {},
   "outputs": [],
   "source": []
  },
  {
   "cell_type": "code",
   "execution_count": 7,
   "metadata": {
    "tags": []
   },
   "outputs": [],
   "source": [
    "# Code to read sightings from feb (2016-01) and march (2016-02) \n",
    "feb_ufo = pd.read_csv('https://raw.githubusercontent.com/mafudge/datasets/master/ufo-sightings/ufo-sightings-2016-02.csv')\n",
    "mar_ufo = pd.read_csv('https://raw.githubusercontent.com/mafudge/datasets/master/ufo-sightings/ufo-sightings-2016-03.csv')\n"
   ]
  },
  {
   "cell_type": "markdown",
   "metadata": {
    "tags": []
   },
   "source": [
    "Combine all three dataframes"
   ]
  },
  {
   "cell_type": "markdown",
   "metadata": {
    "tags": []
   },
   "source": []
  },
  {
   "cell_type": "markdown",
   "metadata": {},
   "source": [
    "Let's answer some questions! Get a summary of sightings by state"
   ]
  },
  {
   "cell_type": "code",
   "execution_count": null,
   "metadata": {},
   "outputs": [],
   "source": []
  },
  {
   "cell_type": "markdown",
   "metadata": {},
   "source": [
    "Are there any Allentown, PA sightings?  List them."
   ]
  },
  {
   "cell_type": "code",
   "execution_count": null,
   "metadata": {},
   "outputs": [],
   "source": []
  },
  {
   "cell_type": "code",
   "execution_count": null,
   "metadata": {},
   "outputs": [],
   "source": []
  },
  {
   "cell_type": "markdown",
   "metadata": {},
   "source": [
    "List sightings that have \"orange\" in the summary. You can  use .str.find to locate the word orange\" in the summary"
   ]
  },
  {
   "cell_type": "code",
   "execution_count": null,
   "metadata": {},
   "outputs": [],
   "source": []
  },
  {
   "cell_type": "code",
   "execution_count": null,
   "metadata": {},
   "outputs": [],
   "source": []
  },
  {
   "cell_type": "code",
   "execution_count": null,
   "metadata": {},
   "outputs": [],
   "source": []
  },
  {
   "cell_type": "markdown",
   "metadata": {},
   "source": [
    "Finally write a program to ask for a search term such as \"orange\" and then returns the sightings with the term in summary.\n",
    "\n"
   ]
  },
  {
   "cell_type": "code",
   "execution_count": null,
   "metadata": {},
   "outputs": [],
   "source": []
  },
  {
   "cell_type": "markdown",
   "metadata": {
    "jupyter": {
     "outputs_hidden": true
    },
    "tags": []
   },
   "source": [
    "Discuss your observations"
   ]
  },
  {
   "cell_type": "code",
   "execution_count": null,
   "metadata": {},
   "outputs": [],
   "source": []
  }
 ],
 "metadata": {
  "anaconda-cloud": {},
  "kernelspec": {
   "display_name": "Python 3 (ipykernel)",
   "language": "python",
   "name": "python3"
  },
  "language_info": {
   "codemirror_mode": {
    "name": "ipython",
    "version": 3
   },
   "file_extension": ".py",
   "mimetype": "text/x-python",
   "name": "python",
   "nbconvert_exporter": "python",
   "pygments_lexer": "ipython3",
   "version": "3.11.7"
  },
  "varInspector": {
   "cols": {
    "lenName": 16,
    "lenType": 16,
    "lenVar": 40
   },
   "kernels_config": {
    "python": {
     "delete_cmd_postfix": "",
     "delete_cmd_prefix": "del ",
     "library": "var_list.py",
     "varRefreshCmd": "print(var_dic_list())"
    },
    "r": {
     "delete_cmd_postfix": ") ",
     "delete_cmd_prefix": "rm(",
     "library": "var_list.r",
     "varRefreshCmd": "cat(var_dic_list()) "
    }
   },
   "types_to_exclude": [
    "module",
    "function",
    "builtin_function_or_method",
    "instance",
    "_Feature"
   ],
   "window_display": false
  }
 },
 "nbformat": 4,
 "nbformat_minor": 4
}
