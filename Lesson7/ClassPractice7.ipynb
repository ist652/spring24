{
 "cells": [
  {
   "cell_type": "markdown",
   "id": "38754762-825f-48f2-8d60-a5b10ce07f30",
   "metadata": {},
   "source": [
    "## Beautiful Soup "
   ]
  },
  {
   "cell_type": "markdown",
   "id": "c6f9bf8f-5d23-4598-977f-f1eb0d5261f0",
   "metadata": {},
   "source": [
    "### Beautiful Soup is a Python library for parsing structured data. It allows you to interact with HTML in a similar way to how you interact with a web page using developer tools"
   ]
  },
  {
   "cell_type": "markdown",
   "id": "2a3efdc3-8134-4c2b-bcfc-a92a456b44fe",
   "metadata": {},
   "source": [
    "### PART 1\n",
    "\n",
    "### Use urllib to read the HTML from the data file below, and parse the data, extracting numbers and compute the sum of the numbers in the file. URL http://py4e-data.dr-chuck.net/comments_24964.html"
   ]
  },
  {
   "cell_type": "code",
   "execution_count": null,
   "id": "eb7c345b-d321-456a-9452-28538d0ceb8c",
   "metadata": {},
   "outputs": [],
   "source": []
  },
  {
   "cell_type": "code",
   "execution_count": null,
   "id": "a88d6227-9657-4208-b6cb-c01e7d862ba3",
   "metadata": {},
   "outputs": [],
   "source": []
  },
  {
   "cell_type": "code",
   "execution_count": null,
   "id": "cbc8fe5d-0dc3-4643-80c5-1a58b7942a52",
   "metadata": {},
   "outputs": [],
   "source": []
  },
  {
   "cell_type": "markdown",
   "id": "4285beb7-5d1d-4fb7-bf16-1b0e2116effd",
   "metadata": {},
   "source": [
    "#### PART 2\n",
    "\n",
    "### Consider the URL : https://realpython.github.io/fake-jobs/\n",
    "\n",
    "### Find elements by ID\n",
    "### When you use the element’s ID, you can pick out one element from among the rest of the HTML. \n",
    "\n",
    "\n",
    "\n",
    "\n",
    "    "
   ]
  },
  {
   "cell_type": "markdown",
   "id": "41ed1e87-9cba-4be1-ac12-ec5469f323e2",
   "metadata": {},
   "source": [
    "### Find Elements by HTML Class Name.\n",
    "### Job posting is wrapped in a div element with the class card-content. Work with your new object and select only the job postings in it."
   ]
  },
  {
   "cell_type": "code",
   "execution_count": null,
   "id": "3f140766-ade9-43de-b05f-0c85a2b47727",
   "metadata": {},
   "outputs": [],
   "source": []
  },
  {
   "cell_type": "code",
   "execution_count": null,
   "id": "ae778ea1-0a08-45e1-a128-d734dc594d92",
   "metadata": {},
   "outputs": [],
   "source": []
  },
  {
   "cell_type": "code",
   "execution_count": null,
   "id": "6a0964d0-7f8d-47b4-9d6e-9543f829502b",
   "metadata": {},
   "outputs": [],
   "source": []
  },
  {
   "cell_type": "code",
   "execution_count": null,
   "id": "5b32acc7-a785-411a-b296-36236f56328c",
   "metadata": {},
   "outputs": [],
   "source": []
  },
  {
   "cell_type": "markdown",
   "id": "2d9cdd71-9dac-4906-b743-6f8c18a18420",
   "metadata": {},
   "source": [
    "### Extract Text From HTML Elements\n",
    "### Only extract title, company, and location of each job posting. "
   ]
  },
  {
   "cell_type": "code",
   "execution_count": null,
   "id": "aed0e10c-bd82-4320-a6d1-303d2f770185",
   "metadata": {},
   "outputs": [],
   "source": []
  },
  {
   "cell_type": "code",
   "execution_count": null,
   "id": "3519adf5-50a4-4738-862c-976b2e8d9553",
   "metadata": {},
   "outputs": [],
   "source": []
  },
  {
   "cell_type": "markdown",
   "id": "8064cf4d-6023-41eb-93da-b4b687039476",
   "metadata": {},
   "source": [
    "### Find Elements by Class Name and Text Content\n",
    "### Filter to locate jobs for python developers"
   ]
  },
  {
   "cell_type": "code",
   "execution_count": null,
   "id": "3210b81a-bb7f-4747-893a-78c0b99754ba",
   "metadata": {},
   "outputs": [],
   "source": []
  }
 ],
 "metadata": {
  "kernelspec": {
   "display_name": "Python 3 (ipykernel)",
   "language": "python",
   "name": "python3"
  },
  "language_info": {
   "codemirror_mode": {
    "name": "ipython",
    "version": 3
   },
   "file_extension": ".py",
   "mimetype": "text/x-python",
   "name": "python",
   "nbconvert_exporter": "python",
   "pygments_lexer": "ipython3",
   "version": "3.11.7"
  }
 },
 "nbformat": 4,
 "nbformat_minor": 5
}
