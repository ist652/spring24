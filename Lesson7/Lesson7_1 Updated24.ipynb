{
 "cells": [
  {
   "cell_type": "markdown",
   "id": "english-plastic",
   "metadata": {},
   "source": [
    "## HTML - Web Scraping - Simple example using Pandas"
   ]
  },
  {
   "cell_type": "code",
   "execution_count": 1,
   "id": "violent-magnet",
   "metadata": {
    "tags": []
   },
   "outputs": [
    {
     "name": "stdout",
     "output_type": "stream",
     "text": [
      "Requirement already satisfied: lxml in /home/jovyan/.local/lib/python3.11/site-packages (5.0.1)\n"
     ]
    }
   ],
   "source": [
    "#You will likely have to restart your kernel (Jupyter environment) after executing this\n",
    "#To restart the kernel - Go to the \"Kernel\" menu item and click \"Restart\". Note that all your previously\n",
    "#created variables will be removed from memory\n",
    "!pip install lxml"
   ]
  },
  {
   "cell_type": "markdown",
   "id": "a45feea7-f695-408e-b200-c860ad0c01ae",
   "metadata": {},
   "source": [
    "#### \"lxml\" is a widely used library for working with XML and HTML documents, parsing and manipulating them\n",
    "\n",
    "#### This library is commonly used for web scraping, parsing XML and HTML data, and performing various tasks related to structured document processing. Here are some use cases for installing the \"lxml\" library:\n",
    "\n",
    "- Web Scraping: \"lxml\" is often used for web scraping tasks where you need to extract data from web pages that are written in HTML.\n",
    "\n",
    "- XML and HTML Parsing: It's commonly used for parsing and manipulating XML and HTML documents. This can be useful for extracting data from XML-based APIs or web pages.\n",
    "\n",
    "- Data Extraction and Transformation: You can use \"lxml\" to extract specific data from structured documents, clean and transform it, and then save it in a more usable format.\n",
    "\n",
    "- Web Crawling: When building web crawlers to navigate websites and gather information, \"lxml\" can help parse and process the web pages efficiently.\n",
    "\n"
   ]
  },
  {
   "cell_type": "code",
   "execution_count": 2,
   "id": "21459af8-84e2-46d8-8ed1-40cf830ac04a",
   "metadata": {
    "tags": []
   },
   "outputs": [
    {
     "name": "stdout",
     "output_type": "stream",
     "text": [
      "Requirement already satisfied: html5lib in /opt/conda/lib/python3.11/site-packages (1.1)\n",
      "Requirement already satisfied: six>=1.9 in /opt/conda/lib/python3.11/site-packages (from html5lib) (1.16.0)\n",
      "Requirement already satisfied: webencodings in /opt/conda/lib/python3.11/site-packages (from html5lib) (0.5.1)\n"
     ]
    }
   ],
   "source": [
    "!pip install html5lib"
   ]
  },
  {
   "cell_type": "markdown",
   "id": "c8853a2e-a4b3-42f6-b99c-db1201aee800",
   "metadata": {},
   "source": [
    "#### The `html5lib` package is a Python library that provides a way to parse and process HTML documents. Used in web scraping and web page parsing tasks. It can be useful when you need to work with HTML data and extract information from web pages, \n",
    "\n",
    "Here's an example of how you might use this package after installing it:\n",
    "\n",
    "```python\n",
    "import html5lib\n",
    "\n",
    "# Parse an HTML document\n",
    "html = \"<html><body><h1>Hello, World!</h1></body></html>\"\n",
    "document = html5lib.parse(html)\n",
    "\n",
    "# Access elements in the HTML document\n",
    "h1_text = document.find(\".//h1\").text\n",
    "print(h1_text)  # Output: \"Hello, World!\"\n",
    "```\n",
    "\n",
    "Here, `html5lib` is used to parse an HTML document and extract the text content of an `<h1>` element. "
   ]
  },
  {
   "cell_type": "code",
   "execution_count": 3,
   "id": "designing-right",
   "metadata": {
    "tags": []
   },
   "outputs": [
    {
     "data": {
      "text/plain": [
       "1"
      ]
     },
     "execution_count": 3,
     "metadata": {},
     "output_type": "execute_result"
    }
   ],
   "source": [
    "import pandas as pd\n",
    "import html5lib\n",
    "tables = pd.read_html('FDIC_ Failed Bank List.html') #Read HTML tables (from the webpage) into a list of DataFrame objects\n",
    "len(tables)   #How many tables are defined in the DOM?  (how many tables are in the document?)"
   ]
  },
  {
   "cell_type": "code",
   "execution_count": 4,
   "id": "incomplete-luther",
   "metadata": {
    "tags": []
   },
   "outputs": [
    {
     "data": {
      "text/html": [
       "<div>\n",
       "<style scoped>\n",
       "    .dataframe tbody tr th:only-of-type {\n",
       "        vertical-align: middle;\n",
       "    }\n",
       "\n",
       "    .dataframe tbody tr th {\n",
       "        vertical-align: top;\n",
       "    }\n",
       "\n",
       "    .dataframe thead th {\n",
       "        text-align: right;\n",
       "    }\n",
       "</style>\n",
       "<table border=\"1\" class=\"dataframe\">\n",
       "  <thead>\n",
       "    <tr style=\"text-align: right;\">\n",
       "      <th></th>\n",
       "      <th>Bank Name</th>\n",
       "      <th>City</th>\n",
       "      <th>ST</th>\n",
       "      <th>CERT</th>\n",
       "      <th>Acquiring Institution</th>\n",
       "      <th>Closing Date</th>\n",
       "      <th>Updated Date</th>\n",
       "    </tr>\n",
       "  </thead>\n",
       "  <tbody>\n",
       "    <tr>\n",
       "      <th>0</th>\n",
       "      <td>Allied Bank</td>\n",
       "      <td>Mulberry</td>\n",
       "      <td>AR</td>\n",
       "      <td>91</td>\n",
       "      <td>Today's Bank</td>\n",
       "      <td>September 23, 2016</td>\n",
       "      <td>November 17, 2016</td>\n",
       "    </tr>\n",
       "    <tr>\n",
       "      <th>1</th>\n",
       "      <td>The Woodbury Banking Company</td>\n",
       "      <td>Woodbury</td>\n",
       "      <td>GA</td>\n",
       "      <td>11297</td>\n",
       "      <td>United Bank</td>\n",
       "      <td>August 19, 2016</td>\n",
       "      <td>November 17, 2016</td>\n",
       "    </tr>\n",
       "    <tr>\n",
       "      <th>2</th>\n",
       "      <td>First CornerStone Bank</td>\n",
       "      <td>King of Prussia</td>\n",
       "      <td>PA</td>\n",
       "      <td>35312</td>\n",
       "      <td>First-Citizens Bank &amp; Trust Company</td>\n",
       "      <td>May 6, 2016</td>\n",
       "      <td>September 6, 2016</td>\n",
       "    </tr>\n",
       "    <tr>\n",
       "      <th>3</th>\n",
       "      <td>Trust Company Bank</td>\n",
       "      <td>Memphis</td>\n",
       "      <td>TN</td>\n",
       "      <td>9956</td>\n",
       "      <td>The Bank of Fayette County</td>\n",
       "      <td>April 29, 2016</td>\n",
       "      <td>September 6, 2016</td>\n",
       "    </tr>\n",
       "    <tr>\n",
       "      <th>4</th>\n",
       "      <td>North Milwaukee State Bank</td>\n",
       "      <td>Milwaukee</td>\n",
       "      <td>WI</td>\n",
       "      <td>20364</td>\n",
       "      <td>First-Citizens Bank &amp; Trust Company</td>\n",
       "      <td>March 11, 2016</td>\n",
       "      <td>June 16, 2016</td>\n",
       "    </tr>\n",
       "  </tbody>\n",
       "</table>\n",
       "</div>"
      ],
      "text/plain": [
       "                      Bank Name             City  ST   CERT  \\\n",
       "0                   Allied Bank         Mulberry  AR     91   \n",
       "1  The Woodbury Banking Company         Woodbury  GA  11297   \n",
       "2        First CornerStone Bank  King of Prussia  PA  35312   \n",
       "3            Trust Company Bank          Memphis  TN   9956   \n",
       "4    North Milwaukee State Bank        Milwaukee  WI  20364   \n",
       "\n",
       "                 Acquiring Institution        Closing Date       Updated Date  \n",
       "0                         Today's Bank  September 23, 2016  November 17, 2016  \n",
       "1                          United Bank     August 19, 2016  November 17, 2016  \n",
       "2  First-Citizens Bank & Trust Company         May 6, 2016  September 6, 2016  \n",
       "3           The Bank of Fayette County      April 29, 2016  September 6, 2016  \n",
       "4  First-Citizens Bank & Trust Company      March 11, 2016      June 16, 2016  "
      ]
     },
     "execution_count": 4,
     "metadata": {},
     "output_type": "execute_result"
    }
   ],
   "source": [
    "failures = tables[0] # The [0] index indicates that we are selecting the first table in the list\n",
    "failures.head()"
   ]
  },
  {
   "cell_type": "code",
   "execution_count": 8,
   "id": "8ce68423",
   "metadata": {
    "tags": []
   },
   "outputs": [
    {
     "name": "stdout",
     "output_type": "stream",
     "text": [
      "<class 'pandas.core.frame.DataFrame'>\n",
      "RangeIndex: 547 entries, 0 to 546\n",
      "Data columns (total 7 columns):\n",
      " #   Column                 Non-Null Count  Dtype \n",
      "---  ------                 --------------  ----- \n",
      " 0   Bank Name              547 non-null    object\n",
      " 1   City                   547 non-null    object\n",
      " 2   ST                     547 non-null    object\n",
      " 3   CERT                   547 non-null    int64 \n",
      " 4   Acquiring Institution  547 non-null    object\n",
      " 5   Closing Date           547 non-null    object\n",
      " 6   Updated Date           547 non-null    object\n",
      "dtypes: int64(1), object(6)\n",
      "memory usage: 30.0+ KB\n"
     ]
    }
   ],
   "source": [
    "failures.info()"
   ]
  },
  {
   "cell_type": "code",
   "execution_count": null,
   "id": "679ad34d-b5a5-4944-a6ce-33ca4f77c60e",
   "metadata": {},
   "outputs": [],
   "source": []
  },
  {
   "cell_type": "code",
   "execution_count": 9,
   "id": "brilliant-mobile",
   "metadata": {
    "tags": []
   },
   "outputs": [
    {
     "data": {
      "text/plain": [
       "Closing Date\n",
       "2010    157\n",
       "2009    140\n",
       "2011     92\n",
       "2012     51\n",
       "2008     25\n",
       "2013     24\n",
       "2014     18\n",
       "2002     11\n",
       "2015      8\n",
       "2016      5\n",
       "2004      4\n",
       "2001      4\n",
       "2007      3\n",
       "2003      3\n",
       "2000      2\n",
       "Name: count, dtype: int64"
      ]
     },
     "execution_count": 9,
     "metadata": {},
     "output_type": "execute_result"
    }
   ],
   "source": [
    "close_timestamps = pd.to_datetime(failures['Closing Date'])\n",
    "close_timestamps.dt.year.value_counts()"
   ]
  },
  {
   "cell_type": "markdown",
   "id": "cd423dc6-7c90-419d-bdda-9d984685166f",
   "metadata": {},
   "source": [
    "### Code Explanation\n",
    "\n",
    "1. `close_timestamps = pd.to_datetime(failures['Closing Date'])`:\n",
    "   - `pd.to_datetime()`  is used to convert a column of data containing date and time information into Pandas `Datetime` objects. In this case, it is applied to the 'Closing Date' column of the 'failures' DataFrame.\n",
    "   \n",
    "\n",
    "2. `close_timestamps.dt.year.value_counts()`:\n",
    "   - `close_timestamps.dt`  allows you to access various attributes of the DateTime objects, such as year, month, day, etc.\n",
    "   - `.year` is used to extract the year component from each DateTime object in `close_timestamps` Series. Transforms the series of timestamps into a series of years, grouping the data by year.\n",
    "   - `value_counts()` is a Pandas method that counts the occurrences of unique values in a Series and returns a new Series with the counts, indexed by the unique values.\n",
    "   - In this case, it is used to count the number of failures that occurred in each year and returns a Series where each year is the index, and the number of failures is the corresponding value.\n",
    "\n"
   ]
  },
  {
   "cell_type": "code",
   "execution_count": null,
   "id": "01294b7e-1a15-4698-8c94-9554efcb448c",
   "metadata": {},
   "outputs": [],
   "source": []
  },
  {
   "cell_type": "code",
   "execution_count": null,
   "id": "perfect-bunch",
   "metadata": {},
   "outputs": [],
   "source": []
  }
 ],
 "metadata": {
  "kernelspec": {
   "display_name": "Python 3 (ipykernel)",
   "language": "python",
   "name": "python3"
  },
  "language_info": {
   "codemirror_mode": {
    "name": "ipython",
    "version": 3
   },
   "file_extension": ".py",
   "mimetype": "text/x-python",
   "name": "python",
   "nbconvert_exporter": "python",
   "pygments_lexer": "ipython3",
   "version": "3.11.7"
  }
 },
 "nbformat": 4,
 "nbformat_minor": 5
}
