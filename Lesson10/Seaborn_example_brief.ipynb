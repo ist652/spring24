{
 "cells": [
  {
   "cell_type": "code",
   "execution_count": null,
   "id": "978d2e12",
   "metadata": {},
   "outputs": [],
   "source": [
    "import seaborn as sns"
   ]
  },
  {
   "cell_type": "code",
   "execution_count": null,
   "id": "cecc5e01",
   "metadata": {},
   "outputs": [],
   "source": [
    "# Load the example tips dataset\n",
    "tips = sns.load_dataset(\"tips\")\n",
    "tips"
   ]
  },
  {
   "cell_type": "markdown",
   "id": "b11b3f81",
   "metadata": {},
   "source": [
    "Dataset description: \n",
    "https://rdrr.io/cran/reshape2/man/tips.html"
   ]
  },
  {
   "cell_type": "code",
   "execution_count": null,
   "id": "93f4b07a",
   "metadata": {},
   "outputs": [],
   "source": [
    "tips.info()"
   ]
  },
  {
   "cell_type": "code",
   "execution_count": null,
   "id": "61a25d8e",
   "metadata": {},
   "outputs": [],
   "source": [
    "tips.head()"
   ]
  },
  {
   "cell_type": "code",
   "execution_count": null,
   "id": "b79b4ef7",
   "metadata": {},
   "outputs": [],
   "source": [
    "tips.day.unique()"
   ]
  },
  {
   "cell_type": "code",
   "execution_count": null,
   "id": "7e6ff855",
   "metadata": {},
   "outputs": [],
   "source": [
    "#Let's build a boxplot \n",
    "sns.set_theme(style=\"ticks\", palette=\"pastel\")\n",
    "\n",
    "# Draw a nested boxplot to show bills by day and smoker type\n",
    "sns.boxplot(x=\"day\", y=\"total_bill\",\n",
    "            hue=\"smoker\", palette=[\"m\", \"g\"],\n",
    "            data=tips)"
   ]
  },
  {
   "cell_type": "markdown",
   "id": "5c71f02f",
   "metadata": {},
   "source": [
    "Understanding Box Plots: https://www.simplypsychology.org/boxplots.html"
   ]
  },
  {
   "cell_type": "code",
   "execution_count": null,
   "id": "81f9a32a",
   "metadata": {},
   "outputs": [],
   "source": [
    "#another boxplot \n",
    "sns.set_theme(style=\"ticks\", palette=\"pastel\")\n",
    "\n",
    "# Draw a nested boxplot to show bills by day and gender\n",
    "sns.boxplot(x=\"day\", y=\"total_bill\",\n",
    "            hue=\"sex\", palette=[\"m\", \"g\"],\n",
    "            data=tips)"
   ]
  },
  {
   "cell_type": "code",
   "execution_count": null,
   "id": "581d6093",
   "metadata": {},
   "outputs": [],
   "source": [
    "sns.set_theme(style=\"ticks\", palette=\"pastel\")\n",
    "\n",
    "# Draw a nested boxplot to show bills by day and gender\n",
    "sns.boxplot(x=\"day\", y=\"tip\",\n",
    "            hue=\"sex\", palette=[\"m\", \"g\"],\n",
    "            data=tips)"
   ]
  }
 ],
 "metadata": {
  "kernelspec": {
   "display_name": "Python 3 (ipykernel)",
   "language": "python",
   "name": "python3"
  },
  "language_info": {
   "codemirror_mode": {
    "name": "ipython",
    "version": 3
   },
   "file_extension": ".py",
   "mimetype": "text/x-python",
   "name": "python",
   "nbconvert_exporter": "python",
   "pygments_lexer": "ipython3",
   "version": "3.9.6"
  }
 },
 "nbformat": 4,
 "nbformat_minor": 5
}
