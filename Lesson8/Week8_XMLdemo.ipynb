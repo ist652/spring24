{
 "cells": [
  {
   "cell_type": "markdown",
   "metadata": {},
   "source": [
    "## Parsing an XML document"
   ]
  },
  {
   "cell_type": "code",
   "execution_count": null,
   "metadata": {},
   "outputs": [],
   "source": [
    "#Data to use for this demo\n",
    "# Country_data.xml\n",
    "#<?xml version=\"1.0\"?>\n",
    "#<data>\n",
    "#    <country name=\"Liechtenstein\">\n",
    "#        <rank>1</rank>\n",
    "#        <year>2008</year>\n",
    "#        <gdppc>141100</gdppc>\n",
    "#        <neighbor name=\"Austria\" direction=\"E\"/>\n",
    "#        <neighbor name=\"Switzerland\" direction=\"W\"/>\n",
    "#    </country>\n",
    "#    <country name=\"Singapore\">\n",
    "#        <rank>4</rank>\n",
    "#        <year>2011</year>\n",
    "#        <gdppc>59900</gdppc>\n",
    "#        <neighbor name=\"Malaysia\" direction=\"N\"/>\n",
    "#    </country>\n",
    "#    <country name=\"Panama\">\n",
    "#        <rank>68</rank>\n",
    "#        <year>2011</year>\n",
    "#        <gdppc>13600</gdppc>\n",
    "#        <neighbor name=\"Costa Rica\" direction=\"W\"/>\n",
    "#        <neighbor name=\"Colombia\" direction=\"E\"/>\n",
    "#    </country>\n",
    "#</data>"
   ]
  },
  {
   "cell_type": "markdown",
   "metadata": {},
   "source": [
    "### xml.etree.ElementTree module implements a straightforward and efficient API for parsing and creating XML data. The goal here is to demonstrate some of the building blocks and basic concepts of the module."
   ]
  },
  {
   "cell_type": "code",
   "execution_count": 1,
   "metadata": {},
   "outputs": [],
   "source": [
    "import xml.etree.ElementTree as ET\n",
    "tree = ET.parse('country_data.xml')\n",
    "root = tree.getroot()"
   ]
  },
  {
   "cell_type": "code",
   "execution_count": 2,
   "metadata": {},
   "outputs": [
    {
     "data": {
      "text/plain": [
       "'data'"
      ]
     },
     "execution_count": 2,
     "metadata": {},
     "output_type": "execute_result"
    }
   ],
   "source": [
    "root.tag"
   ]
  },
  {
   "cell_type": "code",
   "execution_count": 3,
   "metadata": {},
   "outputs": [
    {
     "data": {
      "text/plain": [
       "{}"
      ]
     },
     "execution_count": 3,
     "metadata": {},
     "output_type": "execute_result"
    }
   ],
   "source": [
    "root.attrib # a dictionary"
   ]
  },
  {
   "cell_type": "markdown",
   "metadata": {},
   "source": [
    "### There are  children nodes over which we can iterate:"
   ]
  },
  {
   "cell_type": "code",
   "execution_count": 6,
   "metadata": {},
   "outputs": [
    {
     "name": "stdout",
     "output_type": "stream",
     "text": [
      "country {'name': 'Liechtenstein'}\n",
      "country {'name': 'Singapore'}\n",
      "country {'name': 'Panama'}\n"
     ]
    }
   ],
   "source": [
    "for child in root:\n",
    "    print(child.tag, child.attrib)"
   ]
  },
  {
   "cell_type": "markdown",
   "metadata": {},
   "source": [
    "### Children are nested, and we can access specific child nodes by index:"
   ]
  },
  {
   "cell_type": "code",
   "execution_count": 8,
   "metadata": {},
   "outputs": [
    {
     "data": {
      "text/plain": [
       "'141100'"
      ]
     },
     "execution_count": 8,
     "metadata": {},
     "output_type": "execute_result"
    }
   ],
   "source": [
    "root[0][2].text  #we can access specific child nodes by index:\n"
   ]
  },
  {
   "cell_type": "code",
   "execution_count": 5,
   "metadata": {},
   "outputs": [
    {
     "name": "stdout",
     "output_type": "stream",
     "text": [
      "{'name': 'Austria', 'direction': 'E'}\n",
      "{'name': 'Switzerland', 'direction': 'W'}\n",
      "{'name': 'Malaysia', 'direction': 'N'}\n",
      "{'name': 'Costa Rica', 'direction': 'W'}\n",
      "{'name': 'Colombia', 'direction': 'E'}\n"
     ]
    }
   ],
   "source": [
    "#ElementTree has some useful methods that help iterate recursively over all the sub-tree below it \n",
    "#(its children, their children, and so on). \n",
    "\n",
    "for neighborcountry in root.iter('neighbor'):\n",
    "    print(neighborcountry.attrib)"
   ]
  },
  {
   "cell_type": "code",
   "execution_count": null,
   "metadata": {},
   "outputs": [],
   "source": []
  },
  {
   "cell_type": "markdown",
   "metadata": {},
   "source": [
    "### Element.findall() finds only elements with a tag which are direct children of the current element. \n",
    "### Element.find() finds the first child with a particular tag, and Element.text accesses the element’s text content. \n",
    "### Element.get() gets the element’s attributes:\n"
   ]
  },
  {
   "cell_type": "code",
   "execution_count": 12,
   "metadata": {},
   "outputs": [
    {
     "name": "stdout",
     "output_type": "stream",
     "text": [
      "Liechtenstein 1\n",
      "Singapore 4\n",
      "Panama 68\n"
     ]
    }
   ],
   "source": [
    "for country in root.findall('country'):\n",
    "    name = country.get('name')\n",
    "    rank = country.find('rank').text\n",
    "    print(name, rank)"
   ]
  },
  {
   "cell_type": "markdown",
   "metadata": {},
   "source": [
    "## Modifying an XML File\n",
    "\n",
    "### ElementTree provides a simple way to build XML documents and write them to files. The ElementTree.write() method serves this purpose.\n",
    "\n",
    "### Once created, an Element object may be manipulated by directly changing its fields (such as Element.text), \n",
    "### Adding and modifying attributes (Element.set() method), as well as adding new children (for example with Element.append()).\n",
    "\n",
    "### Let’s say we want to add one to each country’s rank, and add an updated attribute to the rank element:\n"
   ]
  },
  {
   "cell_type": "code",
   "execution_count": 15,
   "metadata": {},
   "outputs": [],
   "source": [
    "for rank in root.iter('rank'):\n",
    "    new_rank = int(rank.text) + 1  #increase the rank value by 1\n",
    "    rank.text = str(new_rank)      #convert the new rank value to a string\n",
    "    rank.set('updated', 'yes')     #add new attribute = updated to the rank element\n",
    "    \n",
    "tree.write('output.xml')"
   ]
  },
  {
   "cell_type": "markdown",
   "metadata": {},
   "source": [
    "### Our XML now looks like this:"
   ]
  },
  {
   "cell_type": "code",
   "execution_count": null,
   "metadata": {},
   "outputs": [],
   "source": [
    "'''\n",
    "\n",
    "<?xml version=\"1.0\"?>\n",
    "<data>\n",
    "    <country name=\"Liechtenstein\">\n",
    "        <rank updated=\"yes\">2</rank>\n",
    "        <year>2008</year>\n",
    "        <gdppc>141100</gdppc>\n",
    "        <neighbor name=\"Austria\" direction=\"E\"/>\n",
    "        <neighbor name=\"Switzerland\" direction=\"W\"/>\n",
    "    </country>\n",
    "    <country name=\"Singapore\">\n",
    "        <rank updated=\"yes\">5</rank>\n",
    "        <year>2011</year>\n",
    "        <gdppc>59900</gdppc>\n",
    "        <neighbor name=\"Malaysia\" direction=\"N\"/>\n",
    "    </country>\n",
    "    <country name=\"Panama\">\n",
    "        <rank updated=\"yes\">69</rank>\n",
    "        <year>2011</year>\n",
    "        <gdppc>13600</gdppc>\n",
    "        <neighbor name=\"Costa Rica\" direction=\"W\"/>\n",
    "        <neighbor name=\"Colombia\" direction=\"E\"/>\n",
    "    </country>\n",
    "</data>\n",
    "\n",
    "\n",
    "\n",
    "\n",
    "'''"
   ]
  }
 ],
 "metadata": {
  "kernelspec": {
   "display_name": "Python 3 (ipykernel)",
   "language": "python",
   "name": "python3"
  },
  "language_info": {
   "codemirror_mode": {
    "name": "ipython",
    "version": 3
   },
   "file_extension": ".py",
   "mimetype": "text/x-python",
   "name": "python",
   "nbconvert_exporter": "python",
   "pygments_lexer": "ipython3",
   "version": "3.9.7"
  },
  "varInspector": {
   "cols": {
    "lenName": 16,
    "lenType": 16,
    "lenVar": 40
   },
   "kernels_config": {
    "python": {
     "delete_cmd_postfix": "",
     "delete_cmd_prefix": "del ",
     "library": "var_list.py",
     "varRefreshCmd": "print(var_dic_list())"
    },
    "r": {
     "delete_cmd_postfix": ") ",
     "delete_cmd_prefix": "rm(",
     "library": "var_list.r",
     "varRefreshCmd": "cat(var_dic_list()) "
    }
   },
   "types_to_exclude": [
    "module",
    "function",
    "builtin_function_or_method",
    "instance",
    "_Feature"
   ],
   "window_display": false
  }
 },
 "nbformat": 4,
 "nbformat_minor": 2
}
