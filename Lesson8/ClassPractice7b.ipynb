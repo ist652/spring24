{
 "cells": [
  {
   "cell_type": "markdown",
   "id": "58e8389b-deab-40db-9ce2-212ba2fd446b",
   "metadata": {},
   "source": [
    "### CLASS PRACTICE - SQLLite"
   ]
  },
  {
   "cell_type": "markdown",
   "id": "c9d039ee-a3f4-4fb0-9c4c-5f5f0bcfec46",
   "metadata": {},
   "source": [
    "#### Step 1 — Creating a Connection to a SQLite Database"
   ]
  },
  {
   "cell_type": "code",
   "execution_count": 21,
   "id": "c2dd93b0-cfdf-4caf-88a7-d3e58544dcc3",
   "metadata": {
    "tags": []
   },
   "outputs": [],
   "source": [
    "# Example Code\n",
    "import sqlite3\n",
    "connection = sqlite3.connect(\"mydb.db\")"
   ]
  },
  {
   "cell_type": "markdown",
   "id": "671be442-8ec8-424f-8a55-e984000f1985",
   "metadata": {},
   "source": [
    "You can connect to a SQLite database that resides in memory (and not in a file) by passing the special string \":memory:\" into sqlite3.connect(). For example, sqlite3.connect(\":memory:\"). This creates a temporary sandbox and don’t need to persist any data after your program exits."
   ]
  },
  {
   "cell_type": "markdown",
   "id": "9389ec2a-a18c-49f4-9ef0-510236c6005c",
   "metadata": {},
   "source": [
    "connection.total_changes is the total number of database rows that have been changed by connection. \n",
    "Since we have not executed any SQL commands yet, 0 total_changes is correct."
   ]
  },
  {
   "cell_type": "code",
   "execution_count": 22,
   "id": "8f781672-061e-4d76-bf82-8c0f311bec32",
   "metadata": {
    "tags": []
   },
   "outputs": [
    {
     "name": "stdout",
     "output_type": "stream",
     "text": [
      "0\n"
     ]
    }
   ],
   "source": [
    "# verify we successfully created our connection object by running\n",
    "print(connection.total_changes)"
   ]
  },
  {
   "cell_type": "markdown",
   "id": "4cd2f5cc-33a1-4e5a-a75b-110049b7e6e7",
   "metadata": {
    "tags": []
   },
   "source": [
    "#### Now you create a database"
   ]
  },
  {
   "cell_type": "markdown",
   "id": "dded22e1-b2db-41de-8e3d-46fe139d61ae",
   "metadata": {
    "tags": []
   },
   "source": [
    "### Step 2 — Adding Data to the SQLite Database"
   ]
  },
  {
   "cell_type": "markdown",
   "id": "ee912a46-e274-49cf-8706-621823100f08",
   "metadata": {},
   "source": [
    "Create a table"
   ]
  },
  {
   "cell_type": "code",
   "execution_count": 23,
   "id": "b7755316-172d-42a5-bd15-c7fb9d541755",
   "metadata": {
    "tags": []
   },
   "outputs": [
    {
     "data": {
      "text/plain": [
       "<sqlite3.Cursor at 0x7f4de2556ec0>"
      ]
     },
     "execution_count": 23,
     "metadata": {},
     "output_type": "execute_result"
    }
   ],
   "source": [
    "#Example code \n",
    "\n",
    "cursor = connection.cursor()\n",
    "cursor.execute(\"CREATE TABLE cats (name TEXT, species TEXT, age INTEGER)\")"
   ]
  },
  {
   "cell_type": "code",
   "execution_count": 24,
   "id": "05a35b7b-a871-4654-a371-6964694cfc3f",
   "metadata": {
    "tags": []
   },
   "outputs": [
    {
     "data": {
      "text/plain": [
       "<sqlite3.Cursor at 0x7f4de2556ec0>"
      ]
     },
     "execution_count": 24,
     "metadata": {},
     "output_type": "execute_result"
    }
   ],
   "source": [
    "cursor.execute(\"INSERT INTO cats VALUES ('Jake', 'very_cute', 4)\")\n",
    "cursor.execute(\"INSERT INTO cats VALUES ('Lucky', 'cute', 3)\")\n",
    "cursor.execute(\"INSERT INTO cats VALUES ('Lois', 'super_cute', 3)\")"
   ]
  },
  {
   "cell_type": "markdown",
   "id": "939a11a5-aa0b-413c-8cf7-6dc3553f748a",
   "metadata": {
    "tags": []
   },
   "source": [
    "### Now you create a table"
   ]
  },
  {
   "cell_type": "markdown",
   "id": "62316d3e-5062-4c49-b3c1-4383b57c43c5",
   "metadata": {},
   "source": [
    "### Step 3 — Reading Data from the SQLite Database"
   ]
  },
  {
   "cell_type": "markdown",
   "id": "25c8651a-4bc2-4962-9ade-2c6cc0a3fe3d",
   "metadata": {},
   "source": [
    "#### We added two rows to a SQLite table. We can retrieve those rows using a SELECT SQL statement:"
   ]
  },
  {
   "cell_type": "code",
   "execution_count": 25,
   "id": "5c462d8f-ae1a-4a75-86fa-384941fb6fa9",
   "metadata": {
    "tags": []
   },
   "outputs": [
    {
     "data": {
      "text/plain": [
       "[('Jake', 'very_cute', 4), ('Lucky', 'cute', 3), ('Lois', 'super_cute', 3)]"
      ]
     },
     "execution_count": 25,
     "metadata": {},
     "output_type": "execute_result"
    }
   ],
   "source": [
    "rows = cursor.execute(\"SELECT name, species, age FROM cats\").fetchall()\n",
    "rows"
   ]
  },
  {
   "cell_type": "markdown",
   "id": "9b7106b7-c1ce-4e84-a41d-b9f534562ec3",
   "metadata": {},
   "source": [
    "The cursor.execute() function runs a SELECT statement to retrieve values for the name, species, and age columns in the fish table. \n",
    "fetchall() retrieves all the results of the SELECT statement. \n",
    "When we print(rows) we see a list of two tuples. "
   ]
  },
  {
   "cell_type": "code",
   "execution_count": 26,
   "id": "64bc5e57-c8b4-45ce-bf8f-737e19c09fa2",
   "metadata": {
    "tags": []
   },
   "outputs": [
    {
     "name": "stdout",
     "output_type": "stream",
     "text": [
      "[('Lucky', 'cute', 3)]\n"
     ]
    }
   ],
   "source": [
    "# If we wanted to retrieve rows in thetable that match a specific set of criteria, we can use a WHERE clause:\n",
    "\n",
    "target_cat_name = \"Lucky\"\n",
    "rows = cursor.execute(\n",
    "    \"SELECT name, species, age FROM cats WHERE name = ?\",\n",
    "    (target_cat_name,),\n",
    ").fetchall()\n",
    "print(rows)"
   ]
  },
  {
   "cell_type": "markdown",
   "id": "10287b59-901a-4970-9178-667f406670c8",
   "metadata": {},
   "source": [
    "cursor.execute(<SQL statement>).fetchall() allows us to fetch all the results of a SELECT statement. The WHERE clause in the SELECT statement filters for rows where the value of name is target_cat_name. Notice that we use ? to substitute our target_cat_name variable into the SELECT statement. We expect to only match one row, and indeed we only see the row for Lucky returned."
   ]
  },
  {
   "cell_type": "markdown",
   "id": "8f59be45-1887-4deb-8289-b733f2d6c365",
   "metadata": {},
   "source": [
    "### Step 4 — Modifying Data in the SQLite Database"
   ]
  },
  {
   "cell_type": "markdown",
   "id": "fef04968-7334-4421-b297-31659e8467be",
   "metadata": {},
   "source": [
    "#### Rows in a SQLite database can be modified using UPDATE and DELETE SQL statements.\n",
    "\n",
    "#### Let’s say, for example, we want to modify Lucky age"
   ]
  },
  {
   "cell_type": "code",
   "execution_count": 28,
   "id": "a5851520-0e71-4146-8e98-5fd3cf2cf181",
   "metadata": {
    "tags": []
   },
   "outputs": [
    {
     "data": {
      "text/plain": [
       "<sqlite3.Cursor at 0x7f4de2556ec0>"
      ]
     },
     "execution_count": 28,
     "metadata": {},
     "output_type": "execute_result"
    }
   ],
   "source": [
    "new_age = 2\n",
    "age_name = \"Lucky\"\n",
    "cursor.execute(\n",
    "    \"UPDATE cats SET age = ? WHERE name = ?\",\n",
    "    (new_age, age_name)\n",
    ")"
   ]
  },
  {
   "cell_type": "markdown",
   "id": "1a27181c-9692-4f32-b0f7-a66e9a666ad3",
   "metadata": {},
   "source": [
    "#### We issue an UPDATE SQL statement to change age to its new value of 2. The WHERE clause in the UPDATE statement ensures we only change the age if a row has name = \"Lucky\"."
   ]
  },
  {
   "cell_type": "code",
   "execution_count": 29,
   "id": "8f1777ee-f4e5-45c0-ba8b-5a8e30daa01a",
   "metadata": {
    "tags": []
   },
   "outputs": [
    {
     "name": "stdout",
     "output_type": "stream",
     "text": [
      "[('Jake', 'very_cute', 4), ('Lucky', 'cute', 2), ('Lois', 'super_cute', 3)]\n"
     ]
    }
   ],
   "source": [
    "# Let us check \n",
    "\n",
    "rows = cursor.execute(\"SELECT name, species, age FROM cats\").fetchall()\n",
    "print(rows)"
   ]
  },
  {
   "cell_type": "code",
   "execution_count": null,
   "id": "30131c4d-6f75-4d57-b0b6-03186d9134f5",
   "metadata": {},
   "outputs": [],
   "source": [
    "# We can also delete an entry\n",
    "# Say Jacke is going on vction ot Europe \n",
    "\n",
    "vacation_cat = \"Jake\"\n",
    "cursor.execute(\n",
    "    \"DELETE FROM cats WHERE name = ?\",\n",
    "    (vacation_cat,)\n",
    ")"
   ]
  },
  {
   "cell_type": "markdown",
   "id": "9c9a4219-199a-4ed7-8257-d7f114fc0131",
   "metadata": {},
   "source": [
    "#### We issue a DELETE SQL statement to remove the row for Jake. The WHERE clause in the DELETE statement ensures we only delete a row if that row has name = \"Jake\".\n",
    "\n",
    "#### If we run the following SELECT statement, we can confirm our deletion was made correctly:"
   ]
  },
  {
   "cell_type": "markdown",
   "id": "858f77fd-d9e1-4b83-855d-7793d0651a75",
   "metadata": {},
   "source": [
    "### Now you try"
   ]
  },
  {
   "cell_type": "code",
   "execution_count": null,
   "id": "e05d4c46-448a-4d9f-8c77-76a1ceef7a52",
   "metadata": {},
   "outputs": [],
   "source": []
  },
  {
   "cell_type": "markdown",
   "id": "d4597741-1930-4032-8e88-ae6510ce1f29",
   "metadata": {
    "tags": []
   },
   "source": [
    "#### Step 5 — Using with Statements For Automatic Cleanup"
   ]
  },
  {
   "cell_type": "markdown",
   "id": "587740dd-c94f-4183-8ed9-a82ee7229540",
   "metadata": {},
   "source": [
    "We’ve used two primary objects to interact with the \"mydb.db\" SQLite database: a Connection object named connection, and a Cursor object named cursor.\n",
    "\n",
    "In the same way that Python files should be closed when we are done working with them, Connection and Cursor objects should also be closed when they are no longer needed.\n",
    "\n",
    "We can use a with statement to help us automatically close Connection and Cursor objects:\n",
    "closing is a convenience function provided by the contextlib module. When a with statement exits, closing ensures that close() is called on whatever object is passed to it. The closing function is used twice in this example. Once to ensure that the Connection object returned by sqlite3.connect() is automatically closed, and a second time to ensure that the Cursor object returned by connection.cursor() is automatically closed.\n",
    "\n",
    "Since \"SELECT 1\" is a SQL statement that always returns a single row with a single column with a value of 1, it makes sense to see a single tuple with 1 as its only value returned by our code."
   ]
  },
  {
   "cell_type": "code",
   "execution_count": 31,
   "id": "062e0450-e038-41e3-8511-7dd714b039c2",
   "metadata": {
    "tags": []
   },
   "outputs": [
    {
     "name": "stdout",
     "output_type": "stream",
     "text": [
      "[(1,)]\n"
     ]
    }
   ],
   "source": [
    "from contextlib import closing\n",
    "\n",
    "with closing(sqlite3.connect(\"mydb.db\")) as connection: \n",
    "    with closing(connection.cursor()) as cursor:\n",
    "        rows = cursor.execute(\"SELECT 1\").fetchall()\n",
    "        print(rows)"
   ]
  },
  {
   "cell_type": "code",
   "execution_count": null,
   "id": "83c29e56-d5b0-494d-8d84-429fedcb8e15",
   "metadata": {},
   "outputs": [],
   "source": []
  }
 ],
 "metadata": {
  "kernelspec": {
   "display_name": "Python 3 (ipykernel)",
   "language": "python",
   "name": "python3"
  },
  "language_info": {
   "codemirror_mode": {
    "name": "ipython",
    "version": 3
   },
   "file_extension": ".py",
   "mimetype": "text/x-python",
   "name": "python",
   "nbconvert_exporter": "python",
   "pygments_lexer": "ipython3",
   "version": "3.11.3"
  }
 },
 "nbformat": 4,
 "nbformat_minor": 5
}
