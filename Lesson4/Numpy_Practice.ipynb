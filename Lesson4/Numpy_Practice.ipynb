{
  "cells": [
    {
      "cell_type": "markdown",
      "id": "818bbfce",
      "metadata": {
        "id": "818bbfce"
      },
      "source": [
        "# PRACTICE - NUMPY"
      ]
    },
    {
      "cell_type": "markdown",
      "id": "6dad7682",
      "metadata": {
        "id": "6dad7682"
      },
      "source": [
        "### Complete the following questions. Add additional code cells as needed (recommended)."
      ]
    },
    {
      "cell_type": "code",
      "execution_count": null,
      "id": "38eabd1f",
      "metadata": {
        "id": "38eabd1f"
      },
      "outputs": [],
      "source": [
        "import numpy as np"
      ]
    },
    {
      "cell_type": "markdown",
      "id": "9c6f9190",
      "metadata": {
        "id": "9c6f9190"
      },
      "source": [
        "### Creating Arrays"
      ]
    },
    {
      "cell_type": "code",
      "execution_count": null,
      "id": "7f27d2f6",
      "metadata": {
        "id": "7f27d2f6"
      },
      "outputs": [],
      "source": [
        "# QUESTION 1\n",
        "\n",
        "# Create an 1d array from a list\n",
        "# Print the array and its type\n",
        "# Add 2 to each element of an array\n",
        "# Explain the key difference between a list and an array\n",
        "# What happens when you put an integer, a Boolean, and a string in the same array. Illustrate.\n",
        "\n"
      ]
    },
    {
      "cell_type": "code",
      "execution_count": null,
      "id": "1f86d1b0",
      "metadata": {
        "id": "1f86d1b0"
      },
      "outputs": [],
      "source": [
        "# QUESTION 2\n",
        "\n",
        "# Create a 2d array from a list of lists\n",
        "# Create a float 2d array\n",
        "# Convert to 'int' datatype\n",
        "# Convert to int then to str datatype\n",
        "# # Create an object to hold numbers as well as strings\n",
        "# If you want your array will hold characters and numbers in the same array, what will you set you datatype as...\n",
        "# Convert an array back to a list\n",
        "\n"
      ]
    },
    {
      "cell_type": "markdown",
      "id": "c76237b5",
      "metadata": {
        "id": "c76237b5"
      },
      "source": [
        "### Inspecting size and shape"
      ]
    },
    {
      "cell_type": "code",
      "execution_count": null,
      "id": "f490824b",
      "metadata": {
        "id": "f490824b"
      },
      "outputs": [],
      "source": [
        "# QUESTION 3\n",
        "\n",
        "# Create a 2d array with 3 rows and 4 columns\n",
        "# Print the shape of the array. Explain the output\n",
        "# Print the size of the array. Explain the output\n",
        "# Print the dimensions of the array. Explain the output.\n"
      ]
    },
    {
      "cell_type": "markdown",
      "id": "ef1653b4",
      "metadata": {
        "id": "ef1653b4"
      },
      "source": [
        "### Extracting Items, Reversing Rows and adding Missing Values"
      ]
    },
    {
      "cell_type": "code",
      "execution_count": null,
      "id": "80c55e4b",
      "metadata": {
        "id": "80c55e4b"
      },
      "outputs": [],
      "source": [
        "# QUESTION 4\n",
        "\n",
        "# Using the array in Q3 extract the first 2 rows and columns\n",
        "# Get a boolean output by applying the condition to each element.\n",
        "# Reverse only the row positions\n",
        "# Reverse the row and column positions\n",
        "# Insert a nan and an inf in positions of your choosing\n",
        "# # Replace nan and inf with -1.\n"
      ]
    },
    {
      "cell_type": "markdown",
      "id": "3c8f0533",
      "metadata": {
        "id": "3c8f0533"
      },
      "source": [
        "### Creating a new array from existing array"
      ]
    },
    {
      "cell_type": "code",
      "execution_count": null,
      "id": "c23f6126",
      "metadata": {
        "id": "c23f6126"
      },
      "outputs": [],
      "source": [
        "# QUESTION 5\n",
        "\n",
        "# Explain the precautions you need to take when assigning a portion of an array to a new array. Illustrate with an example.\n",
        "# What are some approaches you can take to keep the parent array intact? Illustrate with examples.\n"
      ]
    },
    {
      "cell_type": "markdown",
      "id": "0f0373d8",
      "metadata": {
        "id": "0f0373d8"
      },
      "source": [
        "### Reshaping and Flattening"
      ]
    },
    {
      "cell_type": "code",
      "execution_count": null,
      "id": "74a4fecc",
      "metadata": {
        "id": "74a4fecc"
      },
      "outputs": [],
      "source": [
        "# QUESTION 6\n",
        "\n",
        "# Describe what is reshaping an array. Illustrate with an example.\n",
        "# Describe what is flattening an array. Illustrate with an example.\n",
        "# What are the two methods for flattening an array? Illustrate both methods with an example.\n",
        "# What are the differences between these two methods."
      ]
    },
    {
      "cell_type": "markdown",
      "id": "27582ff1",
      "metadata": {
        "id": "27582ff1"
      },
      "source": [
        "### Creating Sequences, repetitions and random numbers"
      ]
    },
    {
      "cell_type": "code",
      "execution_count": null,
      "id": "addb17d4",
      "metadata": {
        "id": "addb17d4"
      },
      "outputs": [],
      "source": [
        "# QUESTION 7\n",
        "\n",
        "\n",
        "# Create an array with numbers 0 to 9\n",
        "# Create an array 0 to 9 with step of 2\n",
        "# Create an array 10 to 1, decreasing order\n",
        "# Create an array with zeros or ones\n",
        "\n",
        "'''\n",
        "SIDENOTE: If you want to create an array of exactly 10 numbers between 1 and 50 you can use np.linspace.\n",
        "\n",
        "np.linspace(start=1, stop=50, num=10, dtype=int)\n",
        "array([ 1,  6, 11, 17, 22, 28, 33, 39, 44, 50])\n",
        "\n",
        "Note the dtype is forced as type int\n",
        "\n",
        "\n",
        "To repeat an entire array n times use np.tile()\n",
        "If you have an array assign to a variable a. To repeat the array twice ...np.tile(a, 2)\n",
        "\n",
        "To repeat an element n times use np.repeat()\n",
        "To repeat each element in the array a twice  ... np.repeat(a, 2))\n",
        "\n",
        "'''\n",
        "\n",
        "# Create an array using np.linspace()\n",
        "# Repeat your array 4 times\n",
        "# Repeat each element in the array 3 times\n",
        "\n",
        "\n",
        "# Create an array with random numbers between [0,1) of shape 2,2\n",
        "# Create an array with random integers between [0, 10) of shape 2,2"
      ]
    },
    {
      "cell_type": "markdown",
      "id": "050488ab",
      "metadata": {
        "id": "050488ab"
      },
      "source": [
        "### Use Case"
      ]
    },
    {
      "cell_type": "code",
      "execution_count": null,
      "id": "7c45a947",
      "metadata": {
        "id": "7c45a947"
      },
      "outputs": [],
      "source": []
    }
  ],
  "metadata": {
    "kernelspec": {
      "display_name": "Python 3 (ipykernel)",
      "language": "python",
      "name": "python3"
    },
    "language_info": {
      "codemirror_mode": {
        "name": "ipython",
        "version": 3
      },
      "file_extension": ".py",
      "mimetype": "text/x-python",
      "name": "python",
      "nbconvert_exporter": "python",
      "pygments_lexer": "ipython3",
      "version": "3.9.6"
    },
    "colab": {
      "provenance": []
    }
  },
  "nbformat": 4,
  "nbformat_minor": 5
}