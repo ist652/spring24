{
 "cells": [
  {
   "cell_type": "markdown",
   "id": "818bbfce",
   "metadata": {
    "id": "818bbfce"
   },
   "source": [
    "# PRACTICE - NUMPY"
   ]
  },
  {
   "cell_type": "markdown",
   "id": "6dad7682",
   "metadata": {
    "id": "6dad7682"
   },
   "source": [
    "### Complete the following questions. Add additional code cells as needed (recommended)."
   ]
  },
  {
   "cell_type": "code",
   "execution_count": null,
   "id": "38eabd1f",
   "metadata": {
    "id": "38eabd1f"
   },
   "outputs": [],
   "source": [
    "import numpy as np"
   ]
  },
  {
   "cell_type": "markdown",
   "id": "9c6f9190",
   "metadata": {
    "id": "9c6f9190"
   },
   "source": [
    "### Creating Arrays"
   ]
  },
  {
   "cell_type": "code",
   "execution_count": null,
   "id": "7f27d2f6",
   "metadata": {
    "id": "7f27d2f6"
   },
   "outputs": [],
   "source": [
    "# QUESTION 1\n",
    "\n",
    "# Create an 1d array from a list\n",
    "# Print the array and its type\n",
    "# Add 2 to each element of an array\n",
    "# Explain the key difference between a list and an array\n",
    "# What happens when you put an integer, a Boolean, and a string in the same array. Illustrate.\n",
    "\n"
   ]
  },
  {
   "cell_type": "code",
   "execution_count": null,
   "id": "d72fd301-51e5-4c8d-88c4-71fdaaea355e",
   "metadata": {},
   "outputs": [],
   "source": [
    "# Create an 1d array from a list"
   ]
  },
  {
   "cell_type": "code",
   "execution_count": 15,
   "id": "ecb175a6-5229-400a-9390-973a5168d1ea",
   "metadata": {},
   "outputs": [
    {
     "name": "stdout",
     "output_type": "stream",
     "text": [
      "Array: [1 2 3 4 5]\n",
      "Type: <class 'numpy.ndarray'>\n",
      "Array after adding 2 to each element: [3 4 5 6 7]\n",
      "Array with mixed types: ['1' 'True' 'Hello']\n"
     ]
    }
   ],
   "source": [
    "my_list = [1, 2, 3, 4, 5]\n",
    "\n",
    "# Create an 1d array from a list\n",
    "my_array = np.array(my_list)\n",
    "\n",
    "# Print the array and its type\n",
    "print(\"Array:\", my_array)\n",
    "print(\"Type:\", type(my_array))\n",
    "\n",
    "# Add 2 to each element of an array\n",
    "my_array += 2\n",
    "print(\"Array after adding 2 to each element:\", my_array)\n",
    "\n",
    "# Key difference between a list and an array:\n",
    "# The key difference between a list and an array is that a list can contain elements of different data types,\n",
    "# while an array typically contains elements of the same data type.\n",
    "\n",
    "# What happens when you put an integer, a Boolean, and a string in the same array:\n",
    "mixed_array = np.array([1, True, \"Hello\"])\n",
    "print(\"Array with mixed types:\", mixed_array)\n",
    "\n"
   ]
  },
  {
   "cell_type": "code",
   "execution_count": null,
   "id": "29fa0830-a604-4c23-a03d-7291fc393768",
   "metadata": {},
   "outputs": [],
   "source": []
  },
  {
   "cell_type": "code",
   "execution_count": null,
   "id": "e83294ed-7697-43d2-a456-0acd523ef6e8",
   "metadata": {},
   "outputs": [],
   "source": []
  },
  {
   "cell_type": "code",
   "execution_count": null,
   "id": "306e8013-7727-4a08-a59b-6c1460bbd0c0",
   "metadata": {},
   "outputs": [],
   "source": []
  },
  {
   "cell_type": "code",
   "execution_count": null,
   "id": "1f86d1b0",
   "metadata": {
    "id": "1f86d1b0"
   },
   "outputs": [],
   "source": [
    "# QUESTION 2\n",
    "\n",
    "# Create a 2d array from a list of lists\n",
    "# Create a float 2d array\n",
    "# Convert to 'int' datatype\n",
    "# Convert to int then to str datatype\n",
    "# # Create an object to hold numbers as well as strings\n",
    "# If you want your array will hold characters and numbers in the same array, what will you set you datatype as...\n",
    "# Convert an array back to a list\n",
    "\n"
   ]
  },
  {
   "cell_type": "code",
   "execution_count": null,
   "id": "b4cf8109-cc0d-40f0-824d-6dfb2c7dd7f4",
   "metadata": {},
   "outputs": [],
   "source": [
    "# Create a 2d array from a list of lists\n",
    "c=np.array([[1,2,3],[4,5,6]])\n",
    "c\n",
    "\n",
    "# Create a float 2d array\n",
    "float_c = np.array(c, dtype=float)\n",
    "float_c\n",
    "\n",
    "# Convert to 'int' datatype\n",
    "int_c = np.array(c, dtype=int)\n",
    "int_c\n",
    "\n",
    "# Convert to int then to str datatype\n",
    "str_c = np.array(c, dtype=str)\n",
    "str_c\n",
    "\n",
    "# Create an object to hold numbers as well as strings\n",
    "num_str = np.array([8, 9, 'Hello', 10, 'Name'])\n",
    "num_str\n",
    "\n",
    "# If you want your array will hold characters and numbers in the same array, what will you set you datatype as...\n",
    "\n",
    "# Convert an array back to a list\n"
   ]
  },
  {
   "cell_type": "markdown",
   "id": "c76237b5",
   "metadata": {
    "id": "c76237b5"
   },
   "source": [
    "### Inspecting size and shape"
   ]
  },
  {
   "cell_type": "code",
   "execution_count": null,
   "id": "f490824b",
   "metadata": {
    "id": "f490824b"
   },
   "outputs": [],
   "source": [
    "# QUESTION 3\n",
    "\n",
    "# Create a 2d array with 3 rows and 4 columns\n",
    "# Print the shape of the array. Explain the output\n",
    "# Print the size of the array. Explain the output\n",
    "# Print the dimensions of the array. Explain the output.\n"
   ]
  },
  {
   "cell_type": "markdown",
   "id": "ef1653b4",
   "metadata": {
    "id": "ef1653b4"
   },
   "source": [
    "### Extracting Items, Reversing Rows and adding Missing Values"
   ]
  },
  {
   "cell_type": "code",
   "execution_count": null,
   "id": "80c55e4b",
   "metadata": {
    "id": "80c55e4b"
   },
   "outputs": [],
   "source": [
    "# QUESTION 4\n",
    "\n",
    "# Using the array in Q3 extract the first 2 rows and columns\n",
    "# Get a boolean output by applying the condition to each element.\n",
    "# Reverse only the row positions\n",
    "# Reverse the row and column positions\n",
    "# Insert a nan and an inf in positions of your choosing\n",
    "# # Replace nan and inf with -1.\n"
   ]
  },
  {
   "cell_type": "markdown",
   "id": "3c8f0533",
   "metadata": {
    "id": "3c8f0533"
   },
   "source": [
    "### Creating a new array from existing array"
   ]
  },
  {
   "cell_type": "code",
   "execution_count": null,
   "id": "c23f6126",
   "metadata": {
    "id": "c23f6126"
   },
   "outputs": [],
   "source": [
    "# QUESTION 5\n",
    "\n",
    "# Explain the precautions you need to take when assigning a portion of an array to a new array. Illustrate with an example.\n",
    "# What are some approaches you can take to keep the parent array intact? Illustrate with examples.\n"
   ]
  },
  {
   "cell_type": "markdown",
   "id": "0f0373d8",
   "metadata": {
    "id": "0f0373d8"
   },
   "source": [
    "### Reshaping and Flattening"
   ]
  },
  {
   "cell_type": "code",
   "execution_count": null,
   "id": "74a4fecc",
   "metadata": {
    "id": "74a4fecc"
   },
   "outputs": [],
   "source": [
    "# QUESTION 6\n",
    "\n",
    "# Describe what is reshaping an array. Illustrate with an example.\n",
    "# Describe what is flattening an array. Illustrate with an example.\n",
    "# What are the two methods for flattening an array? Illustrate both methods with an example.\n",
    "# What are the differences between these two methods."
   ]
  },
  {
   "cell_type": "code",
   "execution_count": 16,
   "id": "294675e7-c41a-43c8-a527-e848d64d8799",
   "metadata": {
    "tags": []
   },
   "outputs": [
    {
     "name": "stdout",
     "output_type": "stream",
     "text": [
      "[1 2 3 4]\n",
      "[[1 2]\n",
      " [3 4]]\n",
      "[1 2 3 4]\n",
      "[1 2 3 4]\n"
     ]
    }
   ],
   "source": [
    "a = np.array([1,2,3,4])\n",
    "print(a)\n",
    "\n",
    "#reshape\n",
    "a_reshape = a.reshape(2,2)\n",
    "print(a_reshape)  #reshapes the array by rows and columns specified, in this case converts it into 2d with 2 rows and 2 columns\n",
    "\n",
    "#flattening \n",
    "\n",
    "a_flatten = a_reshape.flatten()\n",
    "print(a_flatten) #flattens the array meaning converts it to 1d array i.e 1 row and 4 columns in this case\n",
    "\n",
    "#flattening 2 methods\n",
    "a_ravel = a_reshape.ravel()\n",
    "print(a_ravel) #ravel returns a view, flatten always returns a copy, allocates new memory it is slower than ravel\n"
   ]
  },
  {
   "cell_type": "markdown",
   "id": "27582ff1",
   "metadata": {
    "id": "27582ff1"
   },
   "source": [
    "### Creating Sequences, repetitions and random numbers"
   ]
  },
  {
   "cell_type": "code",
   "execution_count": 1,
   "id": "addb17d4",
   "metadata": {
    "id": "addb17d4"
   },
   "outputs": [
    {
     "ename": "NameError",
     "evalue": "name 'np' is not defined",
     "output_type": "error",
     "traceback": [
      "\u001b[0;31m---------------------------------------------------------------------------\u001b[0m",
      "\u001b[0;31mNameError\u001b[0m                                 Traceback (most recent call last)",
      "Cell \u001b[0;32mIn[1], line 5\u001b[0m\n\u001b[1;32m      1\u001b[0m \u001b[38;5;66;03m# QUESTION 7\u001b[39;00m\n\u001b[1;32m      2\u001b[0m \n\u001b[1;32m      3\u001b[0m \n\u001b[1;32m      4\u001b[0m \u001b[38;5;66;03m# Create an array with numbers 0 to 9\u001b[39;00m\n\u001b[0;32m----> 5\u001b[0m Q71 \u001b[38;5;241m=\u001b[39m \u001b[43mnp\u001b[49m\u001b[38;5;241m.\u001b[39marange(\u001b[38;5;241m10\u001b[39m)\n\u001b[1;32m      6\u001b[0m \u001b[38;5;28mprint\u001b[39m(Q71)\n\u001b[1;32m      8\u001b[0m \u001b[38;5;66;03m# Create an array 0 to 9 with step of 2\u001b[39;00m\n\u001b[1;32m      9\u001b[0m \u001b[38;5;66;03m# Create an array 10 to 1, decreasing order\u001b[39;00m\n\u001b[1;32m     10\u001b[0m \u001b[38;5;66;03m# Create an array with zeros or ones\u001b[39;00m\n",
      "\u001b[0;31mNameError\u001b[0m: name 'np' is not defined"
     ]
    }
   ],
   "source": [
    "# QUESTION 7\n",
    "\n",
    "\n",
    "# Create an array with numbers 0 to 9\n",
    "Q71 = np.arange(10)\n",
    "print(Q71)\n",
    "\n",
    "# Create an array 0 to 9 with step of 2\n",
    "# Create an array 10 to 1, decreasing order\n",
    "# Create an array with zeros or ones\n",
    "\n",
    "'''\n",
    "SIDENOTE: If you want to create an array of exactly 10 numbers between 1 and 50 you can use np.linspace.\n",
    "\n",
    "np.linspace(start=1, stop=50, num=10, dtype=int)\n",
    "array([ 1,  6, 11, 17, 22, 28, 33, 39, 44, 50])\n",
    "\n",
    "Note the dtype is forced as type int\n",
    "\n",
    "\n",
    "To repeat an entire array n times use np.tile()\n",
    "If you have an array assign to a variable a. To repeat the array twice ...np.tile(a, 2)\n",
    "\n",
    "To repeat an element n times use np.repeat()\n",
    "To repeat each element in the array a twice  ... np.repeat(a, 2))\n",
    "\n",
    "'''\n",
    "\n",
    "# Create an array using np.linspace()\n",
    "# Repeat your array 4 times\n",
    "# Repeat each element in the array 3 times\n",
    "\n",
    "\n",
    "# Create an array with random numbers between [0,1) of shape 2,2\n",
    "# Create an array with random integers between [0, 10) of shape 2,2"
   ]
  },
  {
   "cell_type": "code",
   "execution_count": 8,
   "id": "f4da6b5e-76d5-4521-b80e-45271ae9766f",
   "metadata": {
    "tags": []
   },
   "outputs": [
    {
     "name": "stdout",
     "output_type": "stream",
     "text": [
      "[0 1 2 3 4 5 6 7 8 9]\n"
     ]
    }
   ],
   "source": [
    "# Create an array with numbers 0 to 9\n",
    "import numpy as np\n",
    "\n",
    "Q71 = np.arange(10)\n",
    "print(Q71)\n"
   ]
  },
  {
   "cell_type": "code",
   "execution_count": 9,
   "id": "1a757197-dc73-49cb-8a1f-ec8ecb041d7c",
   "metadata": {
    "tags": []
   },
   "outputs": [
    {
     "name": "stdout",
     "output_type": "stream",
     "text": [
      "[0 2 4 6 8]\n"
     ]
    }
   ],
   "source": [
    "# Create an array 0 to 9 with step of 2\n",
    "Q72 = np.arange(0,10,2)\n",
    "print(Q72)"
   ]
  },
  {
   "cell_type": "code",
   "execution_count": 10,
   "id": "55893ecd-96e9-48b5-8858-5af320522c65",
   "metadata": {
    "tags": []
   },
   "outputs": [
    {
     "name": "stdout",
     "output_type": "stream",
     "text": [
      "[10  9  8  7  6  5  4  3  2  1]\n"
     ]
    }
   ],
   "source": [
    "# Create an array 10 to 1, decreasing order\n",
    "Q73 = np.arange(10, 0, -1)\n",
    "print(Q73)\n"
   ]
  },
  {
   "cell_type": "code",
   "execution_count": 11,
   "id": "ad529be1-584a-4c84-80a8-1e8776a188fa",
   "metadata": {
    "tags": []
   },
   "outputs": [
    {
     "name": "stdout",
     "output_type": "stream",
     "text": [
      "[[1. 1. 1. 1. 1.]\n",
      " [1. 1. 1. 1. 1.]\n",
      " [1. 1. 1. 1. 1.]\n",
      " [1. 1. 1. 1. 1.]\n",
      " [1. 1. 1. 1. 1.]]\n",
      "[[0. 0. 0. 0. 0.]\n",
      " [0. 0. 0. 0. 0.]\n",
      " [0. 0. 0. 0. 0.]]\n"
     ]
    }
   ],
   "source": [
    "# Create an array with zeros or ones\n",
    "\n",
    "Q74 = np.ones((5,5))\n",
    "print(Q74)\n",
    "Q742 = np.zeros((3,5))\n",
    "print(Q742)\n"
   ]
  },
  {
   "cell_type": "code",
   "execution_count": 12,
   "id": "ff00e74d-d174-45cd-a512-a17150a702cf",
   "metadata": {
    "tags": []
   },
   "outputs": [
    {
     "name": "stdout",
     "output_type": "stream",
     "text": [
      "[  0.           5.26315789  10.52631579  15.78947368  21.05263158\n",
      "  26.31578947  31.57894737  36.84210526  42.10526316  47.36842105\n",
      "  52.63157895  57.89473684  63.15789474  68.42105263  73.68421053\n",
      "  78.94736842  84.21052632  89.47368421  94.73684211 100.        ]\n",
      "[  0   5  10  15  21  26  31  36  42  47  52  57  63  68  73  78  84  89\n",
      "  94 100]\n"
     ]
    }
   ],
   "source": [
    "# Create an array using np.linspace()\n",
    "Q75 = np.linspace(start=0, stop = 100, num= 20)\n",
    "print(Q75)\n",
    "Q751 = np.linspace(start=0, stop = 100, num= 20, dtype = int)\n",
    "print(Q751)\n"
   ]
  },
  {
   "cell_type": "code",
   "execution_count": 13,
   "id": "29e30123-d8d0-43e2-a9fe-4f37765bf393",
   "metadata": {
    "tags": []
   },
   "outputs": [
    {
     "name": "stdout",
     "output_type": "stream",
     "text": [
      "[[0.53384653 0.44878145]\n",
      " [0.13838326 0.34326337]]\n"
     ]
    }
   ],
   "source": [
    "# Create an array with random numbers between [0,1) of shape 2,2\n",
    "Q76 = np.random.random((2,2))\n",
    "print(Q76)\n"
   ]
  },
  {
   "cell_type": "code",
   "execution_count": 14,
   "id": "cfc37e87-510f-44d7-ab5b-b185a20f9711",
   "metadata": {
    "tags": []
   },
   "outputs": [
    {
     "data": {
      "text/plain": [
       "array([[9, 6],\n",
       "       [9, 6]])"
      ]
     },
     "execution_count": 14,
     "metadata": {},
     "output_type": "execute_result"
    }
   ],
   "source": [
    "# Create an array with random integers between [0, 10) of shape 2,2\n",
    "\n",
    "np.random.randint(0, 10, size=(2, 2))\n"
   ]
  },
  {
   "cell_type": "markdown",
   "id": "050488ab",
   "metadata": {
    "id": "050488ab"
   },
   "source": [
    "### Use Case"
   ]
  },
  {
   "cell_type": "code",
   "execution_count": null,
   "id": "7c45a947",
   "metadata": {
    "id": "7c45a947"
   },
   "outputs": [],
   "source": []
  }
 ],
 "metadata": {
  "colab": {
   "provenance": []
  },
  "kernelspec": {
   "display_name": "Python 3 (ipykernel)",
   "language": "python",
   "name": "python3"
  },
  "language_info": {
   "codemirror_mode": {
    "name": "ipython",
    "version": 3
   },
   "file_extension": ".py",
   "mimetype": "text/x-python",
   "name": "python",
   "nbconvert_exporter": "python",
   "pygments_lexer": "ipython3",
   "version": "3.11.7"
  }
 },
 "nbformat": 4,
 "nbformat_minor": 5
}
