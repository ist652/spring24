{
 "cells": [
  {
   "cell_type": "markdown",
   "id": "27e965dc",
   "metadata": {
    "deletable": false,
    "editable": false,
    "nbgrader": {
     "checksum": "988ce3e96ec803d5a2011eec45a8de82",
     "grade": false,
     "grade_id": "headercell",
     "locked": true,
     "schema_version": 3,
     "solution": false,
     "task": false
    }
   },
   "source": [
    "## Homework 2 ##"
   ]
  },
  {
   "cell_type": "markdown",
   "id": "e4cb0d89",
   "metadata": {},
   "source": [
    "Student name:"
   ]
  },
  {
   "cell_type": "markdown",
   "id": "2c07bd58",
   "metadata": {},
   "source": [
    "Assignment submission date:"
   ]
  },
  {
   "cell_type": "markdown",
   "id": "a3c3eb2e",
   "metadata": {
    "deletable": false,
    "editable": false,
    "nbgrader": {
     "checksum": "0e2169d617fac978d3a54e1ef31a9744",
     "grade": false,
     "grade_id": "topinst",
     "locked": true,
     "schema_version": 3,
     "solution": false,
     "task": false
    }
   },
   "source": [
    "Answer the following problems. Add additional cells as needed."
   ]
  },
  {
   "cell_type": "markdown",
   "id": "8c3bf9a3",
   "metadata": {
    "deletable": false,
    "editable": false,
    "nbgrader": {
     "checksum": "65558910c03881ee299e22a121bdd11d",
     "grade": false,
     "grade_id": "p1header",
     "locked": true,
     "schema_version": 3,
     "solution": false,
     "task": false
    }
   },
   "source": [
    "### Problem 1 ###"
   ]
  },
  {
   "cell_type": "markdown",
   "id": "4b987fd1",
   "metadata": {
    "deletable": false,
    "editable": false,
    "nbgrader": {
     "checksum": "ec7552242ce9065a801ac5b84c8765c9",
     "grade": false,
     "grade_id": "p1description",
     "locked": true,
     "schema_version": 3,
     "solution": false,
     "task": false
    }
   },
   "source": [
    "Create a function that takes as input a temperature value in degrees Fahrenheit and converts it to degrees Kelvin. You should research the formula for doing such a conversion. The name you **must** give to the function is *kelvin*. The function must return the temperature value in degrees Kelvin. (40 points)"
   ]
  },
  {
   "cell_type": "code",
   "execution_count": 1,
   "id": "87162169",
   "metadata": {
    "deletable": false,
    "nbgrader": {
     "checksum": "7ae7ca09fb1a5710657079a6267f93ef",
     "grade": true,
     "grade_id": "FheitToK",
     "locked": false,
     "points": 40,
     "schema_version": 3,
     "solution": true,
     "task": false
    }
   },
   "outputs": [],
   "source": [
    "# YOUR CODE HERE\n"
   ]
  },
  {
   "cell_type": "markdown",
   "id": "26b278f0",
   "metadata": {
    "deletable": false,
    "editable": false,
    "nbgrader": {
     "checksum": "2fd691671d96283f7678717e654fbae1",
     "grade": false,
     "grade_id": "p2header",
     "locked": true,
     "schema_version": 3,
     "solution": false,
     "task": false
    }
   },
   "source": [
    "### Problem 2 ###"
   ]
  },
  {
   "cell_type": "markdown",
   "id": "50efc0f9",
   "metadata": {
    "deletable": false,
    "editable": false,
    "nbgrader": {
     "checksum": "cb25dd2361179933840ea19935f7d060",
     "grade": false,
     "grade_id": "p2desc",
     "locked": true,
     "schema_version": 3,
     "solution": false,
     "task": false
    }
   },
   "source": [
    "Using the grading table provided in the course syllabus, create a function that takes a 0 to 100 score value and returns the corresponding letter grade. The name you must give to the function is *lettergrade*.   (40 points)"
   ]
  },
  {
   "cell_type": "code",
   "execution_count": null,
   "id": "462fbdbb",
   "metadata": {
    "deletable": false,
    "nbgrader": {
     "checksum": "8f82719dc81fbae662887c9eb0fc157e",
     "grade": true,
     "grade_id": "p2solbyst",
     "locked": false,
     "points": 40,
     "schema_version": 3,
     "solution": true,
     "task": false
    }
   },
   "outputs": [],
   "source": [
    "# YOUR CODE HERE\n"
   ]
  },
  {
   "cell_type": "markdown",
   "id": "cdb231bb",
   "metadata": {
    "deletable": false,
    "editable": false,
    "nbgrader": {
     "checksum": "cf23dbbf554371baab40c19ee2507c77",
     "grade": false,
     "grade_id": "p3header",
     "locked": true,
     "schema_version": 3,
     "solution": false,
     "task": false
    }
   },
   "source": [
    "### Problem 3 ###"
   ]
  },
  {
   "cell_type": "markdown",
   "id": "939ca9e8",
   "metadata": {
    "deletable": false,
    "nbgrader": {
     "checksum": "c95579cc7a763b3d19f75a1baa86d3f7",
     "grade": false,
     "grade_id": "p3desc",
     "locked": true,
     "schema_version": 3,
     "solution": false,
     "task": false
    }
   },
   "source": [
    "Create a piece of code that uses a flow control statement (if, for, while) that was not used in the previous problems of this assignment. Explain your code by adding comments to it and/or cells with markdown text as necessary. (20 points)"
   ]
  },
  {
   "cell_type": "code",
   "execution_count": null,
   "id": "8f5bf9ff",
   "metadata": {
    "deletable": false,
    "nbgrader": {
     "checksum": "7ca3489546d15ee32c0d7eb2634a5060",
     "grade": true,
     "grade_id": "p3solbyst",
     "locked": false,
     "points": 20,
     "schema_version": 3,
     "solution": true,
     "task": false
    }
   },
   "outputs": [],
   "source": [
    "# YOUR CODE HERE\n"
   ]
  }
 ],
 "metadata": {
  "kernelspec": {
   "display_name": "Python 3 (ipykernel)",
   "language": "python",
   "name": "python3"
  },
  "language_info": {
   "codemirror_mode": {
    "name": "ipython",
    "version": 3
   },
   "file_extension": ".py",
   "mimetype": "text/x-python",
   "name": "python",
   "nbconvert_exporter": "python",
   "pygments_lexer": "ipython3",
   "version": "3.9.6"
  }
 },
 "nbformat": 4,
 "nbformat_minor": 5
}
