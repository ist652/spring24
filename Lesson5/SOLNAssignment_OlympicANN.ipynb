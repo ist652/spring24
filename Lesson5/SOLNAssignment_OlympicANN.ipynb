{
  "cells": [
    {
      "cell_type": "markdown",
      "id": "7a7212f9",
      "metadata": {
        "id": "7a7212f9"
      },
      "source": [
        "# Homework 3"
      ]
    },
    {
      "cell_type": "code",
      "execution_count": null,
      "id": "f75cc0b1",
      "metadata": {
        "id": "f75cc0b1"
      },
      "outputs": [],
      "source": []
    },
    {
      "cell_type": "code",
      "execution_count": null,
      "id": "13a17732",
      "metadata": {
        "tags": [],
        "id": "13a17732"
      },
      "outputs": [],
      "source": [
        "#importing necessary libraries\n",
        "import pandas as pd\n",
        "import numpy as np\n",
        "import matplotlib\n",
        "import matplotlib.pyplot as plt"
      ]
    },
    {
      "cell_type": "code",
      "source": [
        "from google.colab import files\n",
        "uploaded = files.upload()"
      ],
      "metadata": {
        "colab": {
          "base_uri": "https://localhost:8080/",
          "height": 73
        },
        "id": "hF1_W7kkRKmf",
        "outputId": "c1a3eef4-58cb-4121-e9c6-5f562c23334a"
      },
      "id": "hF1_W7kkRKmf",
      "execution_count": null,
      "outputs": [
        {
          "output_type": "display_data",
          "data": {
            "text/plain": [
              "<IPython.core.display.HTML object>"
            ],
            "text/html": [
              "\n",
              "     <input type=\"file\" id=\"files-25a75160-4a87-4252-acfa-b4109d24e4b3\" name=\"files[]\" multiple disabled\n",
              "        style=\"border:none\" />\n",
              "     <output id=\"result-25a75160-4a87-4252-acfa-b4109d24e4b3\">\n",
              "      Upload widget is only available when the cell has been executed in the\n",
              "      current browser session. Please rerun this cell to enable.\n",
              "      </output>\n",
              "      <script>// Copyright 2017 Google LLC\n",
              "//\n",
              "// Licensed under the Apache License, Version 2.0 (the \"License\");\n",
              "// you may not use this file except in compliance with the License.\n",
              "// You may obtain a copy of the License at\n",
              "//\n",
              "//      http://www.apache.org/licenses/LICENSE-2.0\n",
              "//\n",
              "// Unless required by applicable law or agreed to in writing, software\n",
              "// distributed under the License is distributed on an \"AS IS\" BASIS,\n",
              "// WITHOUT WARRANTIES OR CONDITIONS OF ANY KIND, either express or implied.\n",
              "// See the License for the specific language governing permissions and\n",
              "// limitations under the License.\n",
              "\n",
              "/**\n",
              " * @fileoverview Helpers for google.colab Python module.\n",
              " */\n",
              "(function(scope) {\n",
              "function span(text, styleAttributes = {}) {\n",
              "  const element = document.createElement('span');\n",
              "  element.textContent = text;\n",
              "  for (const key of Object.keys(styleAttributes)) {\n",
              "    element.style[key] = styleAttributes[key];\n",
              "  }\n",
              "  return element;\n",
              "}\n",
              "\n",
              "// Max number of bytes which will be uploaded at a time.\n",
              "const MAX_PAYLOAD_SIZE = 100 * 1024;\n",
              "\n",
              "function _uploadFiles(inputId, outputId) {\n",
              "  const steps = uploadFilesStep(inputId, outputId);\n",
              "  const outputElement = document.getElementById(outputId);\n",
              "  // Cache steps on the outputElement to make it available for the next call\n",
              "  // to uploadFilesContinue from Python.\n",
              "  outputElement.steps = steps;\n",
              "\n",
              "  return _uploadFilesContinue(outputId);\n",
              "}\n",
              "\n",
              "// This is roughly an async generator (not supported in the browser yet),\n",
              "// where there are multiple asynchronous steps and the Python side is going\n",
              "// to poll for completion of each step.\n",
              "// This uses a Promise to block the python side on completion of each step,\n",
              "// then passes the result of the previous step as the input to the next step.\n",
              "function _uploadFilesContinue(outputId) {\n",
              "  const outputElement = document.getElementById(outputId);\n",
              "  const steps = outputElement.steps;\n",
              "\n",
              "  const next = steps.next(outputElement.lastPromiseValue);\n",
              "  return Promise.resolve(next.value.promise).then((value) => {\n",
              "    // Cache the last promise value to make it available to the next\n",
              "    // step of the generator.\n",
              "    outputElement.lastPromiseValue = value;\n",
              "    return next.value.response;\n",
              "  });\n",
              "}\n",
              "\n",
              "/**\n",
              " * Generator function which is called between each async step of the upload\n",
              " * process.\n",
              " * @param {string} inputId Element ID of the input file picker element.\n",
              " * @param {string} outputId Element ID of the output display.\n",
              " * @return {!Iterable<!Object>} Iterable of next steps.\n",
              " */\n",
              "function* uploadFilesStep(inputId, outputId) {\n",
              "  const inputElement = document.getElementById(inputId);\n",
              "  inputElement.disabled = false;\n",
              "\n",
              "  const outputElement = document.getElementById(outputId);\n",
              "  outputElement.innerHTML = '';\n",
              "\n",
              "  const pickedPromise = new Promise((resolve) => {\n",
              "    inputElement.addEventListener('change', (e) => {\n",
              "      resolve(e.target.files);\n",
              "    });\n",
              "  });\n",
              "\n",
              "  const cancel = document.createElement('button');\n",
              "  inputElement.parentElement.appendChild(cancel);\n",
              "  cancel.textContent = 'Cancel upload';\n",
              "  const cancelPromise = new Promise((resolve) => {\n",
              "    cancel.onclick = () => {\n",
              "      resolve(null);\n",
              "    };\n",
              "  });\n",
              "\n",
              "  // Wait for the user to pick the files.\n",
              "  const files = yield {\n",
              "    promise: Promise.race([pickedPromise, cancelPromise]),\n",
              "    response: {\n",
              "      action: 'starting',\n",
              "    }\n",
              "  };\n",
              "\n",
              "  cancel.remove();\n",
              "\n",
              "  // Disable the input element since further picks are not allowed.\n",
              "  inputElement.disabled = true;\n",
              "\n",
              "  if (!files) {\n",
              "    return {\n",
              "      response: {\n",
              "        action: 'complete',\n",
              "      }\n",
              "    };\n",
              "  }\n",
              "\n",
              "  for (const file of files) {\n",
              "    const li = document.createElement('li');\n",
              "    li.append(span(file.name, {fontWeight: 'bold'}));\n",
              "    li.append(span(\n",
              "        `(${file.type || 'n/a'}) - ${file.size} bytes, ` +\n",
              "        `last modified: ${\n",
              "            file.lastModifiedDate ? file.lastModifiedDate.toLocaleDateString() :\n",
              "                                    'n/a'} - `));\n",
              "    const percent = span('0% done');\n",
              "    li.appendChild(percent);\n",
              "\n",
              "    outputElement.appendChild(li);\n",
              "\n",
              "    const fileDataPromise = new Promise((resolve) => {\n",
              "      const reader = new FileReader();\n",
              "      reader.onload = (e) => {\n",
              "        resolve(e.target.result);\n",
              "      };\n",
              "      reader.readAsArrayBuffer(file);\n",
              "    });\n",
              "    // Wait for the data to be ready.\n",
              "    let fileData = yield {\n",
              "      promise: fileDataPromise,\n",
              "      response: {\n",
              "        action: 'continue',\n",
              "      }\n",
              "    };\n",
              "\n",
              "    // Use a chunked sending to avoid message size limits. See b/62115660.\n",
              "    let position = 0;\n",
              "    do {\n",
              "      const length = Math.min(fileData.byteLength - position, MAX_PAYLOAD_SIZE);\n",
              "      const chunk = new Uint8Array(fileData, position, length);\n",
              "      position += length;\n",
              "\n",
              "      const base64 = btoa(String.fromCharCode.apply(null, chunk));\n",
              "      yield {\n",
              "        response: {\n",
              "          action: 'append',\n",
              "          file: file.name,\n",
              "          data: base64,\n",
              "        },\n",
              "      };\n",
              "\n",
              "      let percentDone = fileData.byteLength === 0 ?\n",
              "          100 :\n",
              "          Math.round((position / fileData.byteLength) * 100);\n",
              "      percent.textContent = `${percentDone}% done`;\n",
              "\n",
              "    } while (position < fileData.byteLength);\n",
              "  }\n",
              "\n",
              "  // All done.\n",
              "  yield {\n",
              "    response: {\n",
              "      action: 'complete',\n",
              "    }\n",
              "  };\n",
              "}\n",
              "\n",
              "scope.google = scope.google || {};\n",
              "scope.google.colab = scope.google.colab || {};\n",
              "scope.google.colab._files = {\n",
              "  _uploadFiles,\n",
              "  _uploadFilesContinue,\n",
              "};\n",
              "})(self);\n",
              "</script> "
            ]
          },
          "metadata": {}
        },
        {
          "output_type": "stream",
          "name": "stdout",
          "text": [
            "Saving olympics1992_2008.csv to olympics1992_2008.csv\n"
          ]
        }
      ]
    },
    {
      "cell_type": "code",
      "execution_count": null,
      "id": "d56d4805",
      "metadata": {
        "tags": [],
        "id": "d56d4805"
      },
      "outputs": [],
      "source": [
        "# NOTE: Please make sure that the olympics1992_2008.zip file has been uploaded to the same folder where you have this\n",
        "#       notebook file\n",
        "odata = pd.read_csv('olympics1992_2008.csv',skiprows=4)"
      ]
    },
    {
      "cell_type": "code",
      "execution_count": null,
      "id": "cd108412",
      "metadata": {
        "tags": [],
        "id": "cd108412",
        "outputId": "a1b6be15-7634-4c66-a357-23fd22f42d88",
        "colab": {
          "base_uri": "https://localhost:8080/"
        }
      },
      "outputs": [
        {
          "output_type": "stream",
          "name": "stdout",
          "text": [
            "<class 'pandas.core.frame.DataFrame'>\n",
            "RangeIndex: 9619 entries, 0 to 9618\n",
            "Data columns (total 10 columns):\n",
            " #   Column        Non-Null Count  Dtype \n",
            "---  ------        --------------  ----- \n",
            " 0   City          9619 non-null   object\n",
            " 1   Edition       9619 non-null   int64 \n",
            " 2   Sport         9619 non-null   object\n",
            " 3   Discipline    9619 non-null   object\n",
            " 4   Athlete       9619 non-null   object\n",
            " 5   NOC           9619 non-null   object\n",
            " 6   Gender        9619 non-null   object\n",
            " 7   Event         9619 non-null   object\n",
            " 8   Event_gender  9619 non-null   object\n",
            " 9   Medal         9619 non-null   object\n",
            "dtypes: int64(1), object(9)\n",
            "memory usage: 751.6+ KB\n"
          ]
        }
      ],
      "source": [
        "# Start exploratory data analysis\n",
        "odata.info()"
      ]
    },
    {
      "cell_type": "code",
      "execution_count": null,
      "id": "19f6aa52",
      "metadata": {
        "tags": [],
        "colab": {
          "base_uri": "https://localhost:8080/",
          "height": 206
        },
        "id": "19f6aa52",
        "outputId": "a191d9f4-fe74-4d03-9c61-c68254ebcd0d"
      },
      "outputs": [
        {
          "output_type": "execute_result",
          "data": {
            "text/plain": [
              "        City  Edition     Sport Discipline            Athlete  NOC Gender  \\\n",
              "0  Barcelona     1992  Aquatics     Diving          XIONG, Ni  CHN    Men   \n",
              "1  Barcelona     1992  Aquatics     Diving        SUN, Shuwei  CHN    Men   \n",
              "2  Barcelona     1992  Aquatics     Diving    DONIE, Scott R.  USA    Men   \n",
              "3  Barcelona     1992  Aquatics     Diving  CLARK, Mary Ellen  USA  Women   \n",
              "4  Barcelona     1992  Aquatics     Diving        FU, Mingxia  CHN  Women   \n",
              "\n",
              "          Event Event_gender   Medal  \n",
              "0  10m platform            M  Bronze  \n",
              "1  10m platform            M    Gold  \n",
              "2  10m platform            M  Silver  \n",
              "3  10m platform            W  Bronze  \n",
              "4  10m platform            W    Gold  "
            ],
            "text/html": [
              "\n",
              "  <div id=\"df-37563fc3-a09a-4b99-bfc4-9f2b8d2ba622\" class=\"colab-df-container\">\n",
              "    <div>\n",
              "<style scoped>\n",
              "    .dataframe tbody tr th:only-of-type {\n",
              "        vertical-align: middle;\n",
              "    }\n",
              "\n",
              "    .dataframe tbody tr th {\n",
              "        vertical-align: top;\n",
              "    }\n",
              "\n",
              "    .dataframe thead th {\n",
              "        text-align: right;\n",
              "    }\n",
              "</style>\n",
              "<table border=\"1\" class=\"dataframe\">\n",
              "  <thead>\n",
              "    <tr style=\"text-align: right;\">\n",
              "      <th></th>\n",
              "      <th>City</th>\n",
              "      <th>Edition</th>\n",
              "      <th>Sport</th>\n",
              "      <th>Discipline</th>\n",
              "      <th>Athlete</th>\n",
              "      <th>NOC</th>\n",
              "      <th>Gender</th>\n",
              "      <th>Event</th>\n",
              "      <th>Event_gender</th>\n",
              "      <th>Medal</th>\n",
              "    </tr>\n",
              "  </thead>\n",
              "  <tbody>\n",
              "    <tr>\n",
              "      <th>0</th>\n",
              "      <td>Barcelona</td>\n",
              "      <td>1992</td>\n",
              "      <td>Aquatics</td>\n",
              "      <td>Diving</td>\n",
              "      <td>XIONG, Ni</td>\n",
              "      <td>CHN</td>\n",
              "      <td>Men</td>\n",
              "      <td>10m platform</td>\n",
              "      <td>M</td>\n",
              "      <td>Bronze</td>\n",
              "    </tr>\n",
              "    <tr>\n",
              "      <th>1</th>\n",
              "      <td>Barcelona</td>\n",
              "      <td>1992</td>\n",
              "      <td>Aquatics</td>\n",
              "      <td>Diving</td>\n",
              "      <td>SUN, Shuwei</td>\n",
              "      <td>CHN</td>\n",
              "      <td>Men</td>\n",
              "      <td>10m platform</td>\n",
              "      <td>M</td>\n",
              "      <td>Gold</td>\n",
              "    </tr>\n",
              "    <tr>\n",
              "      <th>2</th>\n",
              "      <td>Barcelona</td>\n",
              "      <td>1992</td>\n",
              "      <td>Aquatics</td>\n",
              "      <td>Diving</td>\n",
              "      <td>DONIE, Scott R.</td>\n",
              "      <td>USA</td>\n",
              "      <td>Men</td>\n",
              "      <td>10m platform</td>\n",
              "      <td>M</td>\n",
              "      <td>Silver</td>\n",
              "    </tr>\n",
              "    <tr>\n",
              "      <th>3</th>\n",
              "      <td>Barcelona</td>\n",
              "      <td>1992</td>\n",
              "      <td>Aquatics</td>\n",
              "      <td>Diving</td>\n",
              "      <td>CLARK, Mary Ellen</td>\n",
              "      <td>USA</td>\n",
              "      <td>Women</td>\n",
              "      <td>10m platform</td>\n",
              "      <td>W</td>\n",
              "      <td>Bronze</td>\n",
              "    </tr>\n",
              "    <tr>\n",
              "      <th>4</th>\n",
              "      <td>Barcelona</td>\n",
              "      <td>1992</td>\n",
              "      <td>Aquatics</td>\n",
              "      <td>Diving</td>\n",
              "      <td>FU, Mingxia</td>\n",
              "      <td>CHN</td>\n",
              "      <td>Women</td>\n",
              "      <td>10m platform</td>\n",
              "      <td>W</td>\n",
              "      <td>Gold</td>\n",
              "    </tr>\n",
              "  </tbody>\n",
              "</table>\n",
              "</div>\n",
              "    <div class=\"colab-df-buttons\">\n",
              "\n",
              "  <div class=\"colab-df-container\">\n",
              "    <button class=\"colab-df-convert\" onclick=\"convertToInteractive('df-37563fc3-a09a-4b99-bfc4-9f2b8d2ba622')\"\n",
              "            title=\"Convert this dataframe to an interactive table.\"\n",
              "            style=\"display:none;\">\n",
              "\n",
              "  <svg xmlns=\"http://www.w3.org/2000/svg\" height=\"24px\" viewBox=\"0 -960 960 960\">\n",
              "    <path d=\"M120-120v-720h720v720H120Zm60-500h600v-160H180v160Zm220 220h160v-160H400v160Zm0 220h160v-160H400v160ZM180-400h160v-160H180v160Zm440 0h160v-160H620v160ZM180-180h160v-160H180v160Zm440 0h160v-160H620v160Z\"/>\n",
              "  </svg>\n",
              "    </button>\n",
              "\n",
              "  <style>\n",
              "    .colab-df-container {\n",
              "      display:flex;\n",
              "      gap: 12px;\n",
              "    }\n",
              "\n",
              "    .colab-df-convert {\n",
              "      background-color: #E8F0FE;\n",
              "      border: none;\n",
              "      border-radius: 50%;\n",
              "      cursor: pointer;\n",
              "      display: none;\n",
              "      fill: #1967D2;\n",
              "      height: 32px;\n",
              "      padding: 0 0 0 0;\n",
              "      width: 32px;\n",
              "    }\n",
              "\n",
              "    .colab-df-convert:hover {\n",
              "      background-color: #E2EBFA;\n",
              "      box-shadow: 0px 1px 2px rgba(60, 64, 67, 0.3), 0px 1px 3px 1px rgba(60, 64, 67, 0.15);\n",
              "      fill: #174EA6;\n",
              "    }\n",
              "\n",
              "    .colab-df-buttons div {\n",
              "      margin-bottom: 4px;\n",
              "    }\n",
              "\n",
              "    [theme=dark] .colab-df-convert {\n",
              "      background-color: #3B4455;\n",
              "      fill: #D2E3FC;\n",
              "    }\n",
              "\n",
              "    [theme=dark] .colab-df-convert:hover {\n",
              "      background-color: #434B5C;\n",
              "      box-shadow: 0px 1px 3px 1px rgba(0, 0, 0, 0.15);\n",
              "      filter: drop-shadow(0px 1px 2px rgba(0, 0, 0, 0.3));\n",
              "      fill: #FFFFFF;\n",
              "    }\n",
              "  </style>\n",
              "\n",
              "    <script>\n",
              "      const buttonEl =\n",
              "        document.querySelector('#df-37563fc3-a09a-4b99-bfc4-9f2b8d2ba622 button.colab-df-convert');\n",
              "      buttonEl.style.display =\n",
              "        google.colab.kernel.accessAllowed ? 'block' : 'none';\n",
              "\n",
              "      async function convertToInteractive(key) {\n",
              "        const element = document.querySelector('#df-37563fc3-a09a-4b99-bfc4-9f2b8d2ba622');\n",
              "        const dataTable =\n",
              "          await google.colab.kernel.invokeFunction('convertToInteractive',\n",
              "                                                    [key], {});\n",
              "        if (!dataTable) return;\n",
              "\n",
              "        const docLinkHtml = 'Like what you see? Visit the ' +\n",
              "          '<a target=\"_blank\" href=https://colab.research.google.com/notebooks/data_table.ipynb>data table notebook</a>'\n",
              "          + ' to learn more about interactive tables.';\n",
              "        element.innerHTML = '';\n",
              "        dataTable['output_type'] = 'display_data';\n",
              "        await google.colab.output.renderOutput(dataTable, element);\n",
              "        const docLink = document.createElement('div');\n",
              "        docLink.innerHTML = docLinkHtml;\n",
              "        element.appendChild(docLink);\n",
              "      }\n",
              "    </script>\n",
              "  </div>\n",
              "\n",
              "\n",
              "<div id=\"df-514b18a8-8378-4253-a3ba-1da340069d6e\">\n",
              "  <button class=\"colab-df-quickchart\" onclick=\"quickchart('df-514b18a8-8378-4253-a3ba-1da340069d6e')\"\n",
              "            title=\"Suggest charts.\"\n",
              "            style=\"display:none;\">\n",
              "\n",
              "<svg xmlns=\"http://www.w3.org/2000/svg\" height=\"24px\"viewBox=\"0 0 24 24\"\n",
              "     width=\"24px\">\n",
              "    <g>\n",
              "        <path d=\"M19 3H5c-1.1 0-2 .9-2 2v14c0 1.1.9 2 2 2h14c1.1 0 2-.9 2-2V5c0-1.1-.9-2-2-2zM9 17H7v-7h2v7zm4 0h-2V7h2v10zm4 0h-2v-4h2v4z\"/>\n",
              "    </g>\n",
              "</svg>\n",
              "  </button>\n",
              "\n",
              "<style>\n",
              "  .colab-df-quickchart {\n",
              "      --bg-color: #E8F0FE;\n",
              "      --fill-color: #1967D2;\n",
              "      --hover-bg-color: #E2EBFA;\n",
              "      --hover-fill-color: #174EA6;\n",
              "      --disabled-fill-color: #AAA;\n",
              "      --disabled-bg-color: #DDD;\n",
              "  }\n",
              "\n",
              "  [theme=dark] .colab-df-quickchart {\n",
              "      --bg-color: #3B4455;\n",
              "      --fill-color: #D2E3FC;\n",
              "      --hover-bg-color: #434B5C;\n",
              "      --hover-fill-color: #FFFFFF;\n",
              "      --disabled-bg-color: #3B4455;\n",
              "      --disabled-fill-color: #666;\n",
              "  }\n",
              "\n",
              "  .colab-df-quickchart {\n",
              "    background-color: var(--bg-color);\n",
              "    border: none;\n",
              "    border-radius: 50%;\n",
              "    cursor: pointer;\n",
              "    display: none;\n",
              "    fill: var(--fill-color);\n",
              "    height: 32px;\n",
              "    padding: 0;\n",
              "    width: 32px;\n",
              "  }\n",
              "\n",
              "  .colab-df-quickchart:hover {\n",
              "    background-color: var(--hover-bg-color);\n",
              "    box-shadow: 0 1px 2px rgba(60, 64, 67, 0.3), 0 1px 3px 1px rgba(60, 64, 67, 0.15);\n",
              "    fill: var(--button-hover-fill-color);\n",
              "  }\n",
              "\n",
              "  .colab-df-quickchart-complete:disabled,\n",
              "  .colab-df-quickchart-complete:disabled:hover {\n",
              "    background-color: var(--disabled-bg-color);\n",
              "    fill: var(--disabled-fill-color);\n",
              "    box-shadow: none;\n",
              "  }\n",
              "\n",
              "  .colab-df-spinner {\n",
              "    border: 2px solid var(--fill-color);\n",
              "    border-color: transparent;\n",
              "    border-bottom-color: var(--fill-color);\n",
              "    animation:\n",
              "      spin 1s steps(1) infinite;\n",
              "  }\n",
              "\n",
              "  @keyframes spin {\n",
              "    0% {\n",
              "      border-color: transparent;\n",
              "      border-bottom-color: var(--fill-color);\n",
              "      border-left-color: var(--fill-color);\n",
              "    }\n",
              "    20% {\n",
              "      border-color: transparent;\n",
              "      border-left-color: var(--fill-color);\n",
              "      border-top-color: var(--fill-color);\n",
              "    }\n",
              "    30% {\n",
              "      border-color: transparent;\n",
              "      border-left-color: var(--fill-color);\n",
              "      border-top-color: var(--fill-color);\n",
              "      border-right-color: var(--fill-color);\n",
              "    }\n",
              "    40% {\n",
              "      border-color: transparent;\n",
              "      border-right-color: var(--fill-color);\n",
              "      border-top-color: var(--fill-color);\n",
              "    }\n",
              "    60% {\n",
              "      border-color: transparent;\n",
              "      border-right-color: var(--fill-color);\n",
              "    }\n",
              "    80% {\n",
              "      border-color: transparent;\n",
              "      border-right-color: var(--fill-color);\n",
              "      border-bottom-color: var(--fill-color);\n",
              "    }\n",
              "    90% {\n",
              "      border-color: transparent;\n",
              "      border-bottom-color: var(--fill-color);\n",
              "    }\n",
              "  }\n",
              "</style>\n",
              "\n",
              "  <script>\n",
              "    async function quickchart(key) {\n",
              "      const quickchartButtonEl =\n",
              "        document.querySelector('#' + key + ' button');\n",
              "      quickchartButtonEl.disabled = true;  // To prevent multiple clicks.\n",
              "      quickchartButtonEl.classList.add('colab-df-spinner');\n",
              "      try {\n",
              "        const charts = await google.colab.kernel.invokeFunction(\n",
              "            'suggestCharts', [key], {});\n",
              "      } catch (error) {\n",
              "        console.error('Error during call to suggestCharts:', error);\n",
              "      }\n",
              "      quickchartButtonEl.classList.remove('colab-df-spinner');\n",
              "      quickchartButtonEl.classList.add('colab-df-quickchart-complete');\n",
              "    }\n",
              "    (() => {\n",
              "      let quickchartButtonEl =\n",
              "        document.querySelector('#df-514b18a8-8378-4253-a3ba-1da340069d6e button');\n",
              "      quickchartButtonEl.style.display =\n",
              "        google.colab.kernel.accessAllowed ? 'block' : 'none';\n",
              "    })();\n",
              "  </script>\n",
              "</div>\n",
              "    </div>\n",
              "  </div>\n"
            ]
          },
          "metadata": {},
          "execution_count": 10
        }
      ],
      "source": [
        "odata.head()"
      ]
    },
    {
      "cell_type": "code",
      "execution_count": null,
      "id": "7e2f8e7a",
      "metadata": {
        "id": "7e2f8e7a"
      },
      "outputs": [],
      "source": [
        "# Add cells with any additional exploratory data analysis commands/functions that you think are necessary. This will\n",
        "# not be graded but will help you in solving this homework's tasks\n",
        "# Hint.. get the unique entries for columns of interest\n"
      ]
    },
    {
      "cell_type": "code",
      "execution_count": null,
      "id": "d1f9e50a",
      "metadata": {
        "id": "d1f9e50a",
        "outputId": "03b58278-b6d7-42bc-d9e3-d991607d38ab"
      },
      "outputs": [
        {
          "data": {
            "text/plain": [
              "array([1992, 1996, 2000, 2004, 2008])"
            ]
          },
          "execution_count": 6,
          "metadata": {},
          "output_type": "execute_result"
        }
      ],
      "source": [
        "# get the unique values in the Edition column\n",
        "odata['Edition'].unique()\n"
      ]
    },
    {
      "cell_type": "markdown",
      "source": [
        "#### CODE EXPLANATION\n",
        "\n",
        ".unique()is a pandas DataFrame method. When applied to a column, it returns an array or Series containing the unique values present in that column. Each unique value appears only once in the output.\n",
        "\n",
        "### How the Code Works:\n",
        "\n",
        "Suppose you have a DataFrame called `odata`, which might look something like this:\n",
        "\n",
        "```\n",
        "|   Edition   |   Price  |\n",
        "|-------------|----------|\n",
        "|  1st        |   20     |\n",
        "|  2nd        |   25     |\n",
        "|  1st        |   30     |\n",
        "|  3rd        |   40     |\n",
        "|  2nd        |   50     |\n",
        "```\n",
        "\n",
        "When you apply the code `odata['Edition'].unique()`, it will return an array or Series like this:\n",
        "\n",
        "```\n",
        "['1st', '2nd', '3rd']\n",
        "```\n",
        "\n",
        "This result contains the unique values present in the 'Edition' column, which are '1st', '2nd', and '3rd'.\n",
        "\n",
        "### Use Cases:\n",
        "\n",
        "- Identify unique categories or values in a particular column.\n",
        "- Check for data quality or errors by inspecting the unique values.\n",
        "- Prepare data for visualization, analysis, or further processing, such as creating charts, grouping data, or filtering based on unique values.\n",
        "- Aid in data cleaning and validation by ensuring data consistency in categorical columns.\n"
      ],
      "metadata": {
        "id": "ShJLT0_TTktI"
      },
      "id": "ShJLT0_TTktI"
    },
    {
      "cell_type": "code",
      "execution_count": null,
      "id": "1a123556",
      "metadata": {
        "tags": [],
        "id": "1a123556",
        "outputId": "782a669e-2c02-4812-8294-666da55413c7",
        "colab": {
          "base_uri": "https://localhost:8080/"
        }
      },
      "outputs": [
        {
          "output_type": "execute_result",
          "data": {
            "text/plain": [
              "array(['CHN', 'USA', 'EUN', 'GER', 'CAN', 'HUN', 'AUS', 'SUR', 'POL',\n",
              "       'FRA', 'BRA', 'ITA', 'ESP', 'GBR', 'JPN', 'NZL', 'FIN', 'SWE',\n",
              "       'KOR', 'ETH', 'MAR', 'KEN', 'RSA', 'NAM', 'JAM', 'BUL', 'GRE',\n",
              "       'QAT', 'ALG', 'COL', 'CUB', 'NGR', 'MEX', 'NED', 'TCH', 'LTU',\n",
              "       'ROU', 'BAH', 'MAS', 'INA', 'DEN', 'TPE', 'CRO', 'PHI', 'PRK',\n",
              "       'IRL', 'MGL', 'PUR', 'THA', 'LAT', 'NOR', 'BEL', 'EST', 'AUT',\n",
              "       'GHA', 'PAK', 'TUR', 'ISR', 'SLO', 'IOP', 'PER', 'ARG', 'SUI',\n",
              "       'IRI', 'RUS', 'CRC', 'UKR', 'POR', 'TRI', 'ECU', 'UGA', 'ZAM',\n",
              "       'BDI', 'MOZ', 'CZE', 'BLR', 'SYR', 'YUG', 'TGA', 'KAZ', 'TUN',\n",
              "       'UZB', 'SVK', 'MDA', 'GEO', 'HKG', 'IND', 'ARM', 'AZE', 'BAR',\n",
              "       'SRI', 'KSA', 'ISL', 'URU', 'CHI', 'CMR', 'KGZ', 'KUW', 'VIE',\n",
              "       'MKD', 'ZIM', 'SCG', 'ERI', 'DOM', 'EGY', 'PAR', 'UAE', 'VEN',\n",
              "       'SRB', 'SUD', 'PAN', 'MRI', 'TOG', 'TJK', 'SIN', 'AFG'],\n",
              "      dtype=object)"
            ]
          },
          "metadata": {},
          "execution_count": 11
        }
      ],
      "source": [
        "# get the unique values in the NOC column\n",
        "odata['NOC'].unique()"
      ]
    },
    {
      "cell_type": "code",
      "execution_count": null,
      "id": "c09f1e2a",
      "metadata": {
        "tags": [],
        "id": "c09f1e2a",
        "outputId": "9919259d-da2f-4a2e-cebc-1699e26cdb14",
        "colab": {
          "base_uri": "https://localhost:8080/"
        }
      },
      "outputs": [
        {
          "output_type": "execute_result",
          "data": {
            "text/plain": [
              "array(['Diving', 'Swimming', 'Synchronized S.', 'Water polo', 'Archery',\n",
              "       'Athletics', 'Badminton', 'Baseball', 'Basketball', 'Boxing',\n",
              "       'Canoe / Kayak F', 'Canoe / Kayak S', 'Cycling Road',\n",
              "       'Cycling Track', 'Dressage', 'Eventing', 'Jumping', 'Fencing',\n",
              "       'Football', 'Artistic G.', 'Rhythmic G.', 'Handball', 'Hockey',\n",
              "       'Judo', 'Modern Pentath.', 'Rowing', 'Sailing', 'Shooting',\n",
              "       'Table Tennis', 'Tennis', 'Volleyball', 'Weightlifting',\n",
              "       'Wrestling Free.', 'Wrestling Gre-R', 'Mountain Bike', 'Softball',\n",
              "       'Beach volley.', 'Trampoline', 'Taekwondo', 'Triathlon', 'BMX'],\n",
              "      dtype=object)"
            ]
          },
          "metadata": {},
          "execution_count": 12
        }
      ],
      "source": [
        "# get the unique values in the Discipline column\n",
        "odata['Discipline'].unique()"
      ]
    },
    {
      "cell_type": "code",
      "execution_count": null,
      "id": "58dd4baa",
      "metadata": {
        "tags": [],
        "id": "58dd4baa",
        "outputId": "6fdb22a9-70d3-4136-a378-5d539a867d12",
        "colab": {
          "base_uri": "https://localhost:8080/"
        }
      },
      "outputs": [
        {
          "output_type": "execute_result",
          "data": {
            "text/plain": [
              "array(['Aquatics', 'Archery', 'Athletics', 'Badminton', 'Baseball',\n",
              "       'Basketball', 'Boxing', 'Canoe / Kayak', 'Cycling', 'Equestrian',\n",
              "       'Fencing', 'Football', 'Gymnastics', 'Handball', 'Hockey', 'Judo',\n",
              "       'Modern Pentathlon', 'Rowing', 'Sailing', 'Shooting',\n",
              "       'Table Tennis', 'Tennis', 'Volleyball', 'Weightlifting',\n",
              "       'Wrestling', 'Softball', 'Taekwondo', 'Triathlon'], dtype=object)"
            ]
          },
          "metadata": {},
          "execution_count": 13
        }
      ],
      "source": [
        "# get the unique values in the Sport column\n",
        "odata['Sport'].unique()"
      ]
    },
    {
      "cell_type": "markdown",
      "id": "b1190e9c",
      "metadata": {
        "deletable": false,
        "editable": false,
        "id": "b1190e9c"
      },
      "source": [
        "Solve the following tasks.  You can add as many additional cells as  you need to solve each one of them."
      ]
    },
    {
      "cell_type": "markdown",
      "id": "d93e3dd2",
      "metadata": {
        "id": "d93e3dd2"
      },
      "source": [
        "## Task #1 (30 points)"
      ]
    },
    {
      "cell_type": "markdown",
      "id": "2ab52903",
      "metadata": {
        "id": "2ab52903"
      },
      "source": [
        "a) List the 5 countries that accumulated the most medals across all the olympic game editions covered in the dataset\n",
        "\n",
        "b) List the 5 countries that accumulated the most GOLD medals across all the olympic game editions covered in the dataset"
      ]
    },
    {
      "cell_type": "code",
      "execution_count": null,
      "id": "6e795ed5",
      "metadata": {
        "tags": [],
        "id": "6e795ed5",
        "outputId": "1aa67c74-5473-4178-e1b3-77ab92e2c3f7"
      },
      "outputs": [
        {
          "data": {
            "text/plain": [
              "NOC\n",
              "USA    1311\n",
              "GER     691\n",
              "AUS     678\n",
              "RUS     638\n",
              "CHN     550\n",
              "Name: Medal, dtype: int64"
            ]
          },
          "execution_count": 9,
          "metadata": {},
          "output_type": "execute_result"
        }
      ],
      "source": [
        "odata.groupby('NOC')['Medal'].count().sort_values(ascending=False).head(5)\n",
        "#odata.groupby('NOC')['Medal'].count().nlargest(5)"
      ]
    },
    {
      "cell_type": "code",
      "execution_count": null,
      "id": "787e7932",
      "metadata": {
        "tags": [],
        "id": "787e7932",
        "outputId": "3bf2af96-d453-4c4d-ca73-a21ee8f3f678"
      },
      "outputs": [
        {
          "data": {
            "text/plain": [
              "NOC\n",
              "USA    620\n",
              "GER    237\n",
              "CHN    202\n",
              "RUS    192\n",
              "AUS    186\n",
              "Name: Medal, dtype: int64"
            ]
          },
          "execution_count": 10,
          "metadata": {},
          "output_type": "execute_result"
        }
      ],
      "source": [
        "odata[odata['Medal'] == 'Gold'].groupby('NOC')['Medal'].count().sort_values(ascending=False).head(5)"
      ]
    },
    {
      "cell_type": "markdown",
      "source": [
        "#### CODE EXPLANATION\n",
        "The code provides a list of the top 5 countries with the highest number of medals in the dataset.\n",
        "\n",
        "groupby('NOC')['Medal'].count() groups the data by the 'NOC' column (countries) and then counts the number of medals awarded to each country. This operation effectively counts the number of medals won by each country.\n",
        "\n",
        ".sort_values(ascending=False) sorts the results in descending order, which means that the countries with the most medals will be listed first."
      ],
      "metadata": {
        "id": "Sz3c4zo7V_4a"
      },
      "id": "Sz3c4zo7V_4a"
    },
    {
      "cell_type": "markdown",
      "id": "d6d35fe2",
      "metadata": {
        "id": "d6d35fe2"
      },
      "source": [
        "## Task #2 (15 points)"
      ]
    },
    {
      "cell_type": "markdown",
      "id": "2b8ee4c6",
      "metadata": {
        "id": "2b8ee4c6"
      },
      "source": [
        "List the number of Gold, Silver and Bronze medals obtained by Women and Men across all the olympic game editions covered in the dataset"
      ]
    },
    {
      "cell_type": "code",
      "source": [
        "odata.groupby(['Gender', 'Medal'])['Medal'].count()"
      ],
      "metadata": {
        "colab": {
          "base_uri": "https://localhost:8080/",
          "height": 0
        },
        "id": "XXEOgvPYWNkm",
        "outputId": "a1474870-fb57-45b3-9ec6-021c970e1fee"
      },
      "id": "XXEOgvPYWNkm",
      "execution_count": 16,
      "outputs": [
        {
          "output_type": "execute_result",
          "data": {
            "text/plain": [
              "Gender  Medal \n",
              "Men     Bronze    1918\n",
              "        Gold      1807\n",
              "        Silver    1797\n",
              "Women   Bronze    1386\n",
              "        Gold      1357\n",
              "        Silver    1354\n",
              "Name: Medal, dtype: int64"
            ]
          },
          "metadata": {},
          "execution_count": 16
        }
      ]
    },
    {
      "cell_type": "markdown",
      "id": "cbbb37a2",
      "metadata": {
        "id": "cbbb37a2"
      },
      "source": [
        "## Task #3 (15 points)"
      ]
    },
    {
      "cell_type": "markdown",
      "id": "88f341be",
      "metadata": {
        "id": "88f341be"
      },
      "source": [
        "List the names of the 5 male athletes and 5 female athletes that obtained the most medals across all the olympic game editions covered in the dataset"
      ]
    },
    {
      "cell_type": "code",
      "execution_count": null,
      "id": "64166e6b",
      "metadata": {
        "tags": [],
        "id": "64166e6b",
        "outputId": "10c8a1f1-0b68-47e8-c173-07cb0e5fb7b8"
      },
      "outputs": [
        {
          "name": "stdout",
          "output_type": "stream",
          "text": [
            "Top 5 Male Athletes that obtained the most medals:  Athlete\n",
            "PHELPS, Michael     16\n",
            "NEMOV, Alexei       12\n",
            "SCHERBO, Vitaly     10\n",
            "HALL, Gary Jr.      10\n",
            "POPOV, Alexander     9\n",
            "Name: Medal, dtype: int64\n",
            "------------------------------------------------------------\n",
            "Top 5 Female Athletes that obtained the most medals:  Athlete\n",
            "THOMPSON, Jenny           12\n",
            "COUGHLIN, Natalie         11\n",
            "VAN ALMSICK, Franziska    10\n",
            "TORRES, Dara               9\n",
            "DE BRUIJN, Inge            8\n",
            "Name: Medal, dtype: int64\n"
          ]
        }
      ],
      "source": [
        "top_male = odata[odata['Gender'] == 'Men'].groupby('Athlete')['Medal'].count().sort_values(ascending=False).head(5)\n",
        "top_female = odata[odata['Gender'] == 'Women'].groupby('Athlete')['Medal'].count().sort_values(ascending=False).head(5)\n",
        "print(\"Top 5 Male Athletes that obtained the most medals: \",top_male)\n",
        "print(\"-\" * 60)\n",
        "print(\"Top 5 Female Athletes that obtained the most medals: \",top_female)"
      ]
    },
    {
      "cell_type": "markdown",
      "source": [
        "#### Code Explanation\n",
        "\n",
        "We first filter the data to select rows where the 'Gender' column is equal to 'Men' for male athletes and 'Women' for female athletes. Boolean indexing with the condition `odata['Gender'] == 'Men'` and `odata['Gender'] == 'Women'.\n",
        "\n",
        "After filtering, groups the selected rows by the 'Athlete' column and then counts the number of medals each athlete has obtained using the `.groupby('Athlete')['Medal'].count()` operation. This counts the number of occurrences of the 'Medal' column for each athlete.\n",
        "\n",
        "We sort the results in descending order (from most medals to fewest) using `.sort_values(ascending=False)`. We can now identify athletes with the highest number of medals at the top of the list.\n",
        "\n",
        "We then retrieve the top 5 male and female athletes with the most medals by using the `.head(5)` method."
      ],
      "metadata": {
        "id": "dj2a4tBNYLZZ"
      },
      "id": "dj2a4tBNYLZZ"
    },
    {
      "cell_type": "markdown",
      "id": "4bd0cb77",
      "metadata": {
        "id": "4bd0cb77"
      },
      "source": [
        "## Task #4 (40 points)"
      ]
    },
    {
      "cell_type": "markdown",
      "id": "63bcebcf",
      "metadata": {
        "id": "63bcebcf"
      },
      "source": [
        "Provide two additional analysis results that you can derive from the dataset (they must be different than those obtained in tasks 1 to 3). The results can include graphs (but it is not required). Describe the results obtained in the cell provided for that purpose"
      ]
    },
    {
      "cell_type": "code",
      "execution_count": null,
      "id": "1bb79307",
      "metadata": {
        "id": "1bb79307",
        "outputId": "4e2969e2-9f4c-4a84-8820-9a808bf65076"
      },
      "outputs": [
        {
          "name": "stdout",
          "output_type": "stream",
          "text": [
            "Edition\n",
            "1992    1705\n",
            "1996    1859\n",
            "2000    2015\n",
            "2004    1998\n",
            "2008    2042\n",
            "Name: Medal, dtype: int64\n"
          ]
        },
        {
          "data": {
            "image/png": "[encoded data removed]",
            "text/plain": [
              "<Figure size 432x288 with 1 Axes>"
            ]
          },
          "metadata": {
            "needs_background": "light"
          },
          "output_type": "display_data"
        }
      ],
      "source": [
        "# Count the total number of medals for each Edition of the Olympics\n",
        "medal_count = odata.groupby('Edition')['Medal'].count()\n",
        "print(medal_count)\n",
        "\n",
        "# Get the number of GOLD, SILVER, BRONZE medals for each Edition of Olympics\n",
        "medal_counts = odata.groupby(['Edition', 'Medal'])['Medal'].count().unstack()\n",
        "\n",
        "# Reorder the columns\n",
        "medal_counts = medal_counts[['Gold', 'Silver', 'Bronze']]\n",
        "\n",
        "# Set the bar color and get the plot\n",
        "colors = ['#FFD700', '#C0C0C0', '#CD7F32']\n",
        "ax = medal_counts.plot(kind='bar', stacked=False, color=colors)\n",
        "\n",
        "# Set the labels and title\n",
        "plt.xlabel('Edition of the Olympics')\n",
        "plt.ylabel('Count of Medals')\n",
        "plt.title('Number of Medals (Gold, Silver, Bronze) for each Edition of the Olympics')\n",
        "\n",
        "# Legend outside the plot\n",
        "ax.legend(loc='center left', bbox_to_anchor=(1, 0.5))\n",
        "\n",
        "# Display the plot\n",
        "plt.show()"
      ]
    },
    {
      "cell_type": "markdown",
      "source": [
        "#### CODE EXPLANATION\n",
        "\n",
        "#### Step 1: Count the total number of medals for each Edition of the Olympics\n",
        "medal_count = odata.groupby('Edition')['Medal'].count()\n",
        "print(medal_count)\n",
        "This step calculates the total count of medals awarded in each edition of the Olympics and prints the result. The `groupby` function is used to group the data by the 'Edition' column, and then `.count()` function count the number of medals for each edition.\n",
        "\n",
        "\n",
        "#### Step 2: Get the number of GOLD, SILVER, BRONZE medals for each Edition of the Olympics\n",
        "medal_counts = odata.groupby(['Edition', 'Medal'])['Medal'].count().unstack()\n",
        "Groups the data by both the 'Edition' and 'Medal' columns to provide a count of Gold, Silver, and Bronze medals for each edition of the Olympics. The `.unstack()` function reshapes the data,for plotting.\n",
        "\n",
        "#### Step 3: Reorder the columns\n",
        "medal_counts = medal_counts[['Gold', 'Silver', 'Bronze']]\n",
        "Reorder the columns in the `medal_counts` DataFrame, for the readability of the final plot.\n",
        "\n",
        "#### Step 4: Set the bar color and get the plot\n",
        "colors = ['#FFD700', '#C0C0C0', '#CD7F32']\n",
        "ax = medal_counts.plot(kind='bar', stacked=False, color=colors)\n",
        "Sets the colors for the bars (Gold, Silver, Bronze) in the plot. It then creates a bar plot using `matplotlib` with the counts of medals for each edition. `stacked=False`so that bars are not stacked on top of each other.\n",
        "\n",
        "#### Step 5: Set the labels and title\n",
        "plt.xlabel('Edition of the Olympics')\n",
        "plt.ylabel('Count of Medals')\n",
        "plt.title('Number of Medals (Gold, Silver, Bronze) for each Edition of the Olympics')\n",
        "These lines set the labels for the x-axis and y-axis and provide a title for the plot.\n",
        "\n",
        "#### Step 6: Legend outside the plot\n",
        "ax.legend(loc='center left', bbox_to_anchor=(1, 0.5))\n",
        "Positions the legend outside the plot on the right side, making it easier to identify the medal types (Gold, Silver, Bronze).\n",
        "\n",
        "\n",
        "#### Step 7: Display the plot\n",
        "plt.show()"
      ],
      "metadata": {
        "id": "CshZm75xbOFb"
      },
      "id": "CshZm75xbOFb"
    },
    {
      "cell_type": "code",
      "execution_count": null,
      "id": "c3c05e32",
      "metadata": {
        "id": "c3c05e32",
        "outputId": "fd82853b-9f54-4a94-cc1c-85148e8f71b6"
      },
      "outputs": [
        {
          "name": "stdout",
          "output_type": "stream",
          "text": [
            "Country: USA\n",
            "    Discipline: Swimming | Medal Count: 315\n",
            "    Discipline: Athletics | Medal Count: 181\n",
            "    Discipline: Basketball | Medal Count: 120\n",
            "    Discipline: Baseball | Medal Count: 68\n",
            "    Discipline: Football | Medal Count: 68\n",
            "Country: GER\n",
            "    Discipline: Rowing | Medal Count: 89\n",
            "    Discipline: Swimming | Medal Count: 88\n",
            "    Discipline: Canoe / Kayak F | Medal Count: 85\n",
            "    Discipline: Hockey | Medal Count: 81\n",
            "    Discipline: Football | Medal Count: 53\n",
            "Country: AUS\n",
            "    Discipline: Swimming | Medal Count: 165\n",
            "    Discipline: Hockey | Medal Count: 113\n",
            "    Discipline: Rowing | Medal Count: 70\n",
            "    Discipline: Softball | Medal Count: 60\n",
            "    Discipline: Basketball | Medal Count: 48\n",
            "Country: RUS\n",
            "    Discipline: Athletics | Medal Count: 83\n",
            "    Discipline: Volleyball | Medal Count: 60\n",
            "    Discipline: Artistic G. | Medal Count: 55\n",
            "    Discipline: Handball | Medal Count: 43\n",
            "    Discipline: Fencing | Medal Count: 41\n",
            "Country: CHN\n",
            "    Discipline: Artistic G. | Medal Count: 64\n",
            "    Discipline: Table Tennis | Medal Count: 54\n",
            "    Discipline: Diving | Medal Count: 51\n",
            "    Discipline: Badminton | Medal Count: 47\n",
            "    Discipline: Swimming | Medal Count: 45\n"
          ]
        }
      ],
      "source": [
        "# get the top 5 countries that accumulated the most medals across all the olympic game editions\n",
        "# return as a list\n",
        "top_countries = odata.groupby('NOC')['Medal'].count().sort_values(ascending=False).head(5).index.tolist()\n",
        "\n",
        "# for the top 5 countries with the highest medal counts across all Olympic game editions,\n",
        "# list the top 5 disciplines in which they achieved the most medals\n",
        "# and also list the count of medals for each country-discipline combination\n",
        "for country in top_countries:\n",
        "    country_data = odata[odata['NOC'] == country]\n",
        "    discipline_counts = country_data.groupby('Discipline')['Medal'].count().sort_values(ascending=False)\n",
        "    medal_counts[country] = discipline_counts\n",
        "    top_disciplines = discipline_counts.head(5)\n",
        "    print(f\"Country: {country}\")\n",
        "    for discipline, count in top_disciplines.items():\n",
        "        print(f\"    Discipline: {discipline} | Medal Count: {count}\")"
      ]
    },
    {
      "cell_type": "code",
      "execution_count": null,
      "id": "39b54af8",
      "metadata": {
        "id": "39b54af8",
        "outputId": "62eca889-8658-4267-916f-e39e84e407a3"
      },
      "outputs": [
        {
          "data": {
            "text/plain": [
              "Discipline\n",
              "Swimming           920\n",
              "Athletics          902\n",
              "Rowing             732\n",
              "Hockey             481\n",
              "Football           455\n",
              "Handball           443\n",
              "Artistic G.        373\n",
              "Volleyball         359\n",
              "Basketball         358\n",
              "Canoe / Kayak F    345\n",
              "Baseball           335\n",
              "Fencing            321\n",
              "Water polo         311\n",
              "Judo               280\n",
              "Sailing            261\n",
              "Boxing             232\n",
              "Shooting           231\n",
              "Cycling Track      229\n",
              "Weightlifting      194\n",
              "Softball           180\n",
              "Wrestling Free.    161\n",
              "Synchronized S.    135\n",
              "Wrestling Gre-R    132\n",
              "Diving             132\n",
              "Archery            120\n",
              "Badminton          120\n",
              "Table Tennis       102\n",
              "Tennis              94\n",
              "Rhythmic G.         87\n",
              "Eventing            81\n",
              "Taekwondo           80\n",
              "Canoe / Kayak S     75\n",
              "Jumping             74\n",
              "Dressage            72\n",
              "Cycling Road        65\n",
              "Beach volley.       48\n",
              "Modern Pentath.     33\n",
              "Mountain Bike       24\n",
              "Trampoline          18\n",
              "Triathlon           18\n",
              "BMX                  6\n",
              "Name: Medal, dtype: int64"
            ]
          },
          "execution_count": 16,
          "metadata": {},
          "output_type": "execute_result"
        }
      ],
      "source": [
        "# count the number of medals for each discipline\n",
        "odata.groupby('Discipline')['Medal'].count().sort_values(ascending=False)"
      ]
    },
    {
      "cell_type": "markdown",
      "source": [
        "### Code Description\n",
        "\n",
        "\n",
        "1. **Getting the Top 5 Countries with the Most Medals:**\n",
        "\n",
        "   ```\n",
        "   top_countries = odata.groupby('NOC')['Medal'].count().sort_values(ascending=False).head(5).index.tolist()\n",
        "   ```\n",
        "We use code uses the `groupby` function to group by the 'NOC' column. We then count the number of medals for each country using `.count()` and sort in descending order using `.sort_values(ascending=False)`. The `.head(5)` function is used to select the top 5 countries with the most medals. We then extract the country codes as a list.\n",
        "\n",
        "\n",
        "2. **Analyzing Top Disciplines for Each Top Country:**\n",
        "\n",
        "   ```python\n",
        "   for country in top_countries:\n",
        "       country_data = odata[odata['NOC'] == country]\n",
        "       discipline_counts = country_data.groupby('Discipline')['Medal'].count().sort_values(ascending=False)\n",
        "       # ... (printing the results)\n",
        "   ```\n",
        "\n",
        "We iterate through the top 5 countries. For each country, we filter to get data specific to that country using `odata[odata['NOC'] == country]`. Group filtered data by 'Discipline', counting the number of medals in each discipline. Sort in descending order by medal count.\n"
      ],
      "metadata": {
        "id": "rEY92d1KeASx"
      },
      "id": "rEY92d1KeASx"
    },
    {
      "cell_type": "markdown",
      "id": "4cbed56d",
      "metadata": {
        "id": "4cbed56d"
      },
      "source": [
        "**RESULTS DESCRIPTION**\n"
      ]
    },
    {
      "cell_type": "markdown",
      "id": "aed82d0c",
      "metadata": {
        "id": "aed82d0c"
      },
      "source": [
        "### 1\n",
        "\n",
        "From 1992 to 2008, the total number of medals awarded at each Olympic Games has basically been rising, although there was a slight decline in 2004.\n",
        "\n",
        "The number of gold, silver and bronze medals at each Olympics is almost the same, although there are slightly more bronze medals, probably because it is common to have tie-breakers for certain events, resulting in multiple athletes or teams winning bronze medals at the same time.\n"
      ]
    },
    {
      "cell_type": "markdown",
      "id": "51aef35c",
      "metadata": {
        "id": "51aef35c"
      },
      "source": [
        "### 2\n",
        "4 countries have won a large number of medals in swimming, this is because swimming discipline has the most number of medals awarded.\n",
        "\n",
        "Comparing the countries vertically, USA is better at Swimming, Athletics, Basketball, and Baseball. Germany is better at Rowing and Canoe/Kayak F. Australia is better at Hocky, Rowing and Softball. Russia is better at Volleyball, Handball and Fencing, and China is better at Artistic G., Table Tennis, Diving and Badminton.\n"
      ]
    }
  ],
  "metadata": {
    "kernelspec": {
      "display_name": "Python 3 (ipykernel)",
      "language": "python",
      "name": "python3"
    },
    "language_info": {
      "codemirror_mode": {
        "name": "ipython",
        "version": 3
      },
      "file_extension": ".py",
      "mimetype": "text/x-python",
      "name": "python",
      "nbconvert_exporter": "python",
      "pygments_lexer": "ipython3",
      "version": "3.11.3"
    },
    "colab": {
      "provenance": []
    }
  },
  "nbformat": 4,
  "nbformat_minor": 5
}