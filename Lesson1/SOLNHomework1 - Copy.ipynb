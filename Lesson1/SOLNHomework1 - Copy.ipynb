{
 "cells": [
  {
   "cell_type": "markdown",
   "id": "31c05689",
   "metadata": {},
   "source": [
    "# Homework 1 - IST 652 #"
   ]
  },
  {
   "cell_type": "markdown",
   "id": "3ebe3c7a",
   "metadata": {},
   "source": [
    "Complete the following tasks in the cells provided. If you need additional cells, please add them. To submit your solution, save it first (in JupyterHub), then download the notebook as a .ipynb file to your local computer system and submit it via Blackboard. (Use JupyterHub's \"File\" menu and the \"Download\" option in it to download the notebook file)"
   ]
  },
  {
   "cell_type": "markdown",
   "id": "b8f3923b",
   "metadata": {},
   "source": [
    "1. Create a string called *myfirstname* and store your first name in it"
   ]
  },
  {
   "cell_type": "code",
   "execution_count": null,
   "id": "3adfe291",
   "metadata": {},
   "outputs": [],
   "source": []
  },
  {
   "cell_type": "markdown",
   "id": "afb922f5",
   "metadata": {},
   "source": [
    "2. Create a string called *mylastname* and store your last name in it"
   ]
  },
  {
   "cell_type": "code",
   "execution_count": null,
   "id": "4d669b3b",
   "metadata": {},
   "outputs": [],
   "source": []
  },
  {
   "cell_type": "markdown",
   "id": "cd22e1f2",
   "metadata": {},
   "source": [
    "3. Create a string called *myname* that concatenates the strings *myfirstname* and *mylastname* that you created previously"
   ]
  },
  {
   "cell_type": "code",
   "execution_count": null,
   "id": "56e9acb8",
   "metadata": {},
   "outputs": [],
   "source": []
  },
  {
   "cell_type": "markdown",
   "id": "d97f2a52",
   "metadata": {},
   "source": [
    "<br>\n",
    "4. Use the appropriate methods seen in the class session to do the following on the string *myname*:"
   ]
  },
  {
   "cell_type": "markdown",
   "id": "8fc95c33",
   "metadata": {},
   "source": [
    "4a. Print out the number of characters (i.e. the length) that make up *myname*"
   ]
  },
  {
   "cell_type": "code",
   "execution_count": null,
   "id": "5682eec8",
   "metadata": {},
   "outputs": [],
   "source": []
  },
  {
   "cell_type": "markdown",
   "id": "1b3c3944",
   "metadata": {},
   "source": [
    "4b. Derive a substring composed of the letters in positions 2 to 5 from *myname*. The characters in positions 2 and 5 must be included"
   ]
  },
  {
   "cell_type": "code",
   "execution_count": null,
   "id": "fd2c475e",
   "metadata": {},
   "outputs": [],
   "source": []
  },
  {
   "cell_type": "markdown",
   "id": "84f35b38",
   "metadata": {},
   "source": [
    "4c. Choose a letter that is present in myname and replace it with the character X"
   ]
  },
  {
   "cell_type": "code",
   "execution_count": null,
   "id": "de122f35",
   "metadata": {},
   "outputs": [],
   "source": []
  },
  {
   "cell_type": "markdown",
   "id": "3a622275",
   "metadata": {},
   "source": [
    "<br>\n",
    "5. Create a list called *WeekDays* that contains the names of the day of the week."
   ]
  },
  {
   "cell_type": "code",
   "execution_count": null,
   "id": "61609d71",
   "metadata": {},
   "outputs": [],
   "source": []
  },
  {
   "cell_type": "markdown",
   "id": "5e737e19",
   "metadata": {},
   "source": [
    "<br>\n",
    "6. Create a dictionary that uses the course numbers of the courses you are taking this semester as the keys of the dictionary and for each key associate as its value the day of the week in which you have that class. As an example for IST 652, the entry would be    *652 : Wednesday*"
   ]
  },
  {
   "cell_type": "code",
   "execution_count": null,
   "id": "2ec360d4",
   "metadata": {},
   "outputs": [],
   "source": []
  },
  {
   "cell_type": "markdown",
   "id": "8ee93a77",
   "metadata": {},
   "source": [
    "\\\n",
    "7. Do some research on how to use Markdown commands and write the text of the first three sections of your resume (example: education, objectives, past experience, etc.). \n",
    "\n",
    "You can use the following resource to learn about Markdown:\n",
    "- https://medium.com/analytics-vidhya/the-ultimate-markdown-guide-for-jupyter-notebook-d5e5abf728fd\n",
    "- Short video: https://www.youtube.com/watch?v=uVLzL5E-YBM\n",
    "- Long video/tutorial: https://www.youtube.com/watch?v=mTIifW_LU5s\n",
    "\n",
    "Jupyternotebook Tutorial \n",
    "\n",
    "- https://www.youtube.com/watch?v=DKiI6NfSIe8&t=711s"
   ]
  },
  {
   "cell_type": "code",
   "execution_count": null,
   "id": "14a71f99",
   "metadata": {},
   "outputs": [],
   "source": []
  }
 ],
 "metadata": {
  "kernelspec": {
   "display_name": "Python 3 (ipykernel)",
   "language": "python",
   "name": "python3"
  },
  "language_info": {
   "codemirror_mode": {
    "name": "ipython",
    "version": 3
   },
   "file_extension": ".py",
   "mimetype": "text/x-python",
   "name": "python",
   "nbconvert_exporter": "python",
   "pygments_lexer": "ipython3",
   "version": "3.9.6"
  }
 },
 "nbformat": 4,
 "nbformat_minor": 5
}
