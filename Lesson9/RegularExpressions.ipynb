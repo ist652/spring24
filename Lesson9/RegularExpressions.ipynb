{
 "cells": [
  {
   "cell_type": "markdown",
   "id": "529a8ee3-6467-4c7b-a62a-f3884c1c0f12",
   "metadata": {},
   "source": [
    "### Regular Expressions "
   ]
  },
  {
   "cell_type": "code",
   "execution_count": 1,
   "id": "ec5dd2e6-9659-4f70-840c-bdb45895482a",
   "metadata": {
    "tags": []
   },
   "outputs": [],
   "source": [
    "# import regular expression library\n",
    "import re"
   ]
  },
  {
   "cell_type": "markdown",
   "id": "42018621-e768-4d80-a66b-d172638ca87e",
   "metadata": {
    "tags": []
   },
   "source": [
    "### Anchors "
   ]
  },
  {
   "cell_type": "code",
   "execution_count": 2,
   "id": "79a4bcfc-2332-4068-a4af-2bbac270d691",
   "metadata": {
    "tags": []
   },
   "outputs": [
    {
     "name": "stdout",
     "output_type": "stream",
     "text": [
      "True\n",
      "True\n",
      "True\n",
      "False\n",
      "False\n",
      "False\n"
     ]
    }
   ],
   "source": [
    "# Write a pattern that matches all the dictionary words that start with ‘D’\n",
    "\n",
    "sample_sent = ['Delight','Diligence','Danger', 'Bribe', '10','Zenith']\n",
    "pattern = '^D'\n",
    "# iterating list of sample sentences to print match status as true or false\n",
    "for sent in sample_sent:\n",
    "    # check whether pattern is present in string or not\n",
    "    result = re.search(pattern,sent,re.I)  # pass the arguments to the re.search function\n",
    "    if result != None:\n",
    "        print(True)\n",
    "    else:\n",
    "        print(False)"
   ]
  },
  {
   "cell_type": "code",
   "execution_count": 10,
   "id": "f1b5b329-ba43-4f7d-8488-837727b1e4a0",
   "metadata": {
    "tags": []
   },
   "outputs": [
    {
     "name": "stdout",
     "output_type": "stream",
     "text": [
      "Delight\n",
      "Diligence\n",
      "Danger\n"
     ]
    }
   ],
   "source": [
    "sample_sent = ['Delight','Diligence','Danger', 'Bribe', '10','Zenith']\n",
    "pattern = '^D'\n",
    "for sent in sample_sent:\n",
    "    result = re.search(pattern,sent,re.I)  # pass the arguments to the re.search function\n",
    "    if result:\n",
    "     print(sent)\n"
   ]
  },
  {
   "cell_type": "markdown",
   "id": "db207514-4a5d-4062-a67d-781fb512fa05",
   "metadata": {},
   "source": [
    "### Wildcards "
   ]
  },
  {
   "cell_type": "code",
   "execution_count": 11,
   "id": "68849e2b-f7fb-42f8-b8d1-2b1b1c0fa35a",
   "metadata": {
    "tags": []
   },
   "outputs": [
    {
     "name": "stdout",
     "output_type": "stream",
     "text": [
      "Anandeep\n",
      "Krishna\n"
     ]
    }
   ],
   "source": [
    "# Match first names (consider only first names, i.e. there are no spaces in a name) that have lengths of between five and ten characters.\n",
    "\n",
    "# input string on which to test regex pattern\n",
    "sample_sent = ['Anandeep','Krishna','Ram']\n",
    "pattern = '.{5,10}'\n",
    "# iterating list of sample sentences to print match status as true or false\n",
    "for sent in sample_sent:\n",
    "    # check whether pattern is present in string or not\n",
    "    result = re.search(pattern,sent)  # pass the arguments to the re.search function\n",
    "    if result: \n",
    "        print(sent)"
   ]
  },
  {
   "cell_type": "markdown",
   "id": "69bc4709-6c4e-4023-90d2-23a0863b46ab",
   "metadata": {},
   "source": [
    "### Special characters\n",
    "\n"
   ]
  },
  {
   "cell_type": "code",
   "execution_count": 12,
   "id": "f7110f15-629a-4741-be9b-dea6352abfd5",
   "metadata": {
    "tags": []
   },
   "outputs": [
    {
     "name": "stdout",
     "output_type": "stream",
     "text": [
      "Found dog at position 9\n",
      "Found cat at position 19\n"
     ]
    }
   ],
   "source": [
    "# Using | for or \n",
    "text = \"I have a dog and a cat.\" \n",
    "pattern = re.compile(r'dog|cat') \n",
    "match = pattern.search(text)\n",
    "while match:\n",
    "    print(\"Found\", match.group(), \"at position\", match.start()) \n",
    "    match = pattern.search(text, match.end())"
   ]
  },
  {
   "cell_type": "markdown",
   "id": "614cc8d7-9654-4257-89b1-ee2fe08b042b",
   "metadata": {},
   "source": [
    "### Quantifiers "
   ]
  },
  {
   "cell_type": "markdown",
   "id": "2f3dab41-6cef-4c60-80b6-a72a848a5dac",
   "metadata": {},
   "source": [
    "### A quantifier has the form {m,n} where m and n are the minimum and maximum times the expression to which the quantifier applies must match. We can use quantifiers to specify the number of occurrences to match"
   ]
  },
  {
   "cell_type": "code",
   "execution_count": 17,
   "id": "35e7567b-bc8e-41e9-b750-c237e6059acf",
   "metadata": {
    "tags": []
   },
   "outputs": [
    {
     "data": {
      "text/plain": [
       "['ab']"
      ]
     },
     "execution_count": 17,
     "metadata": {},
     "output_type": "execute_result"
    }
   ],
   "source": [
    "# Question vs Asterisk\n",
    "\n",
    "re.findall('ab?', 'abbbbbbb')\n",
    "\n",
    "# ‘ab?’ matches the character ‘a’ in the string, followed by character ‘b’ if it exists (which it does in the code).\n"
   ]
  },
  {
   "cell_type": "code",
   "execution_count": 18,
   "id": "ed00b408-d7b8-46c0-bf07-d291d9be637d",
   "metadata": {
    "tags": []
   },
   "outputs": [
    {
     "data": {
      "text/plain": [
       "['abbbbbbb']"
      ]
     },
     "execution_count": 18,
     "metadata": {},
     "output_type": "execute_result"
    }
   ],
   "source": [
    "re.findall('ab*', 'abbbbbbb')\n",
    "\n",
    "# ‘ab*’ matches the character ‘a’ in the string, followed by as many characters ‘b’ as possible"
   ]
  },
  {
   "cell_type": "code",
   "execution_count": 19,
   "id": "1edfcd16-041b-4116-9ee2-ac400e769119",
   "metadata": {
    "tags": []
   },
   "outputs": [
    {
     "data": {
      "text/plain": [
       "['a', 'a', 'a', 'a', 'a', 'a', 'a', 'a']"
      ]
     },
     "execution_count": 19,
     "metadata": {},
     "output_type": "execute_result"
    }
   ],
   "source": [
    "# Asterisk vs Plus\n",
    "re.findall('ab*', 'aaaaaaaa')\n",
    "\n",
    " ‘ab*’ matches the character ‘a’ in the string, followed by an arbitary number of occurrences of character ‘b’. "
   ]
  },
  {
   "cell_type": "code",
   "execution_count": 20,
   "id": "03acd960-8e48-40ce-b7ac-838e22463218",
   "metadata": {
    "tags": []
   },
   "outputs": [
    {
     "data": {
      "text/plain": [
       "[]"
      ]
     },
     "execution_count": 20,
     "metadata": {},
     "output_type": "execute_result"
    }
   ],
   "source": [
    "re.findall('ab+', 'aaaaaaaa')\n",
    "# ‘ab+’ matches the character ‘a’, followed by as many characters ‘b’ as possible—but at least one. However, the character ‘b’ does not exist so there’s no match."
   ]
  },
  {
   "cell_type": "code",
   "execution_count": 21,
   "id": "a360346d-64eb-4e13-b4c6-8c7badb01c54",
   "metadata": {
    "tags": []
   },
   "outputs": [
    {
     "data": {
      "text/plain": [
       "['a', 'a', 'a', 'a', 'a', 'a', 'a', 'a']"
      ]
     },
     "execution_count": 21,
     "metadata": {},
     "output_type": "execute_result"
    }
   ],
   "source": [
    "# Question Mark vs Plus\n",
    "\n",
    "re.findall('ab?', 'aaaaaaaa')\n",
    "#‘ab?’ matches the character ‘a’ in the string, followed by character ‘b’ if it exists—but it doesn’t in the code."
   ]
  },
  {
   "cell_type": "code",
   "execution_count": 22,
   "id": "ef20904e-d795-4a0d-a503-bce44a2b0b0d",
   "metadata": {
    "tags": []
   },
   "outputs": [
    {
     "data": {
      "text/plain": [
       "[]"
      ]
     },
     "execution_count": 22,
     "metadata": {},
     "output_type": "execute_result"
    }
   ],
   "source": [
    "re.findall('ab+', 'aaaaaaaa')\n",
    "# ‘ab+’ matches the character ‘a’ in the string, followed by as many characters ‘b’ as possible—but at least one. However, the character ‘b’ does not exist so there’s no match."
   ]
  },
  {
   "cell_type": "code",
   "execution_count": null,
   "id": "4ac73866-b6cb-4daf-a8a7-66af46099362",
   "metadata": {},
   "outputs": [],
   "source": []
  }
 ],
 "metadata": {
  "kernelspec": {
   "display_name": "Python 3 (ipykernel)",
   "language": "python",
   "name": "python3"
  },
  "language_info": {
   "codemirror_mode": {
    "name": "ipython",
    "version": 3
   },
   "file_extension": ".py",
   "mimetype": "text/x-python",
   "name": "python",
   "nbconvert_exporter": "python",
   "pygments_lexer": "ipython3",
   "version": "3.11.3"
  }
 },
 "nbformat": 4,
 "nbformat_minor": 5
}
