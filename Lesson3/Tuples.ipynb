{
 "cells": [
  {
   "cell_type": "markdown",
   "id": "16c78466",
   "metadata": {},
   "source": [
    "# Tuples "
   ]
  },
  {
   "cell_type": "markdown",
   "id": "9d8d0791",
   "metadata": {},
   "source": [
    "Tuples work a lot like lists, except they cannot be modified; they are immutable. Instead of brackets\n",
    "[] we use parentheses () around the elements."
   ]
  },
  {
   "cell_type": "code",
   "execution_count": null,
   "id": "86f2edba",
   "metadata": {},
   "outputs": [],
   "source": [
    "food = ('eggs', 'bananas', 'lemonheads')\n",
    "food[1]\n"
   ]
  },
  {
   "cell_type": "code",
   "execution_count": null,
   "id": "42aecf0e",
   "metadata": {},
   "outputs": [],
   "source": [
    "food[1:3]\n"
   ]
  },
  {
   "cell_type": "code",
   "execution_count": null,
   "id": "c3e86418",
   "metadata": {},
   "outputs": [],
   "source": [
    "food[1] = 'steak'\n",
    "food"
   ]
  },
  {
   "cell_type": "markdown",
   "id": "f6268112",
   "metadata": {},
   "source": [
    "Lists and tuples turn out to be sequence data types – this means they support indexing and slicing. We will see below that strings are also a sequence type.\n",
    "We can also define a tuple by simply separating values by commas:"
   ]
  },
  {
   "cell_type": "code",
   "execution_count": null,
   "id": "fe1126db",
   "metadata": {},
   "outputs": [],
   "source": [
    "food = 'trail mix', 'nothing'\n",
    "food[0]\n"
   ]
  },
  {
   "cell_type": "markdown",
   "id": "db0e4261",
   "metadata": {},
   "source": [
    "And of course, we can nest tuples and lists interchangably:\n"
   ]
  },
  {
   "cell_type": "code",
   "execution_count": null,
   "id": "f86cdb79",
   "metadata": {},
   "outputs": [],
   "source": [
    "foo = ([1, 2, 3], [4, 5, (7, 8, 9)], (10, 11))\n",
    "foo"
   ]
  },
  {
   "cell_type": "markdown",
   "id": "ab202987",
   "metadata": {},
   "source": [
    "Tuples, like lists, can also be empty. Use len() to find the length of a tuple:"
   ]
  },
  {
   "cell_type": "code",
   "execution_count": null,
   "id": "0e0736db",
   "metadata": {},
   "outputs": [],
   "source": [
    "foo = ()\n",
    "len(foo)\n"
   ]
  },
  {
   "cell_type": "markdown",
   "id": "b9fdf564",
   "metadata": {},
   "source": [
    "We can also unpack tuples, which means assigning each element of a tuple to a variable. For example:\n"
   ]
  },
  {
   "cell_type": "code",
   "execution_count": null,
   "id": "828b83a4",
   "metadata": {},
   "outputs": [],
   "source": [
    "food = 'trail mix', 'nothing'\n",
    "tylerfood, chrisfood = food\n",
    "tylerfood = food[0]\n",
    "chrisfood = food[1]\n",
    "tylerfood\n",
    "chrisfood"
   ]
  },
  {
   "cell_type": "markdown",
   "id": "0a5911e0",
   "metadata": {},
   "source": [
    "### Summary\n",
    "\n",
    "- Tuples are a like lists, but they are immutable.\n",
    "- Syntax: like lists, but use parentheses () instead of brackets [].\n",
    "- Find more documentation about sequence types here:\n",
    "\n"
   ]
  },
  {
   "cell_type": "markdown",
   "id": "c5d7c62c",
   "metadata": {},
   "source": [
    "###  Negative Indexing"
   ]
  },
  {
   "cell_type": "markdown",
   "id": "065f18e3",
   "metadata": {},
   "source": [
    "Allows for negative indexing for its sequences\n",
    "The index of -1 refers to the last item, -2 to the second last item and so on. For example"
   ]
  },
  {
   "cell_type": "code",
   "execution_count": null,
   "id": "3b547df5",
   "metadata": {},
   "outputs": [],
   "source": [
    "# accessing tuple elements using negative indexing\n",
    "letters = ('p', 'r', 'o', 'g', 'r', 'a', 'm', 'i', 'z')\n",
    "\n",
    "print(letters[-1])  \n",
    "print(letters[-3])   "
   ]
  },
  {
   "cell_type": "markdown",
   "id": "6b141c50",
   "metadata": {},
   "source": [
    "### Slicing"
   ]
  },
  {
   "cell_type": "markdown",
   "id": "c85919bc",
   "metadata": {},
   "source": [
    "We can access a range of items in a tuple by using the slicing operator colon"
   ]
  },
  {
   "cell_type": "code",
   "execution_count": null,
   "id": "9536194d",
   "metadata": {},
   "outputs": [],
   "source": [
    "# accessing tuple elements using slicing\n",
    "my_tuple = ('p', 'r', 'o', 'g', 'r', 'a', 'm', 'i', 'z')\n",
    "print(my_tuple[1:4])"
   ]
  },
  {
   "cell_type": "code",
   "execution_count": null,
   "id": "c7f76e4a",
   "metadata": {},
   "outputs": [],
   "source": [
    "print(my_tuple[7:])"
   ]
  },
  {
   "cell_type": "code",
   "execution_count": null,
   "id": "4552b221",
   "metadata": {},
   "outputs": [],
   "source": [
    "print(my_tuple[:])"
   ]
  },
  {
   "cell_type": "markdown",
   "id": "f529f88a",
   "metadata": {},
   "source": [
    "### Tuple Methods"
   ]
  },
  {
   "cell_type": "markdown",
   "id": "4028ea71",
   "metadata": {},
   "source": [
    "Methods that add items or remove items are not available with tuple. Only the following two methods are available."
   ]
  },
  {
   "cell_type": "code",
   "execution_count": null,
   "id": "8e09876e",
   "metadata": {},
   "outputs": [],
   "source": [
    "my_tuple = ('a', 'p', 'p', 'l', 'e',)\n",
    "\n",
    "print(my_tuple.count('p'))  # prints 2\n",
    "print(my_tuple.index('l'))  # prints 3"
   ]
  },
  {
   "cell_type": "markdown",
   "id": "ecab6049",
   "metadata": {},
   "source": [
    "### Iterating through a Tuple in Python"
   ]
  },
  {
   "cell_type": "code",
   "execution_count": null,
   "id": "7361a0ab",
   "metadata": {},
   "outputs": [],
   "source": [
    "languages = ('Python', 'Swift', 'C++')\n",
    "\n",
    "# iterating through the tuple\n",
    "for language in languages:\n",
    "    print(language)"
   ]
  },
  {
   "cell_type": "markdown",
   "id": "11d28448",
   "metadata": {},
   "source": [
    "### Check if an Item Exists in the Tuple"
   ]
  },
  {
   "cell_type": "code",
   "execution_count": null,
   "id": "8380ae3d",
   "metadata": {},
   "outputs": [],
   "source": [
    "languages = ('Python', 'Swift', 'C++')\n",
    "\n",
    "print('C' in languages)   \n",
    "print('Python' in languages)   "
   ]
  },
  {
   "cell_type": "markdown",
   "id": "c5b7839e",
   "metadata": {},
   "source": [
    "### Advantages of Tuple over List in Python\n",
    "\n",
    "\n",
    "Since tuples are quite similar to lists, both of them are used in similar situations.\n",
    "\n",
    "However, there are certain advantages of implementing a tuple over a list:\n",
    "\n",
    "- We generally use tuples for heterogeneous (different) data types and lists for homogeneous (similar) data types.\n",
    "- Since tuples are immutable, iterating through a tuple is faster than with a list. So there is a slight performance boost.\n",
    "- Tuples that contain immutable elements can be used as a key for a dictionary. With lists, this is not possible.\n",
    "- If you have data that doesn't change, implementing it as tuple will guarantee that it remains write-protected."
   ]
  },
  {
   "cell_type": "code",
   "execution_count": null,
   "id": "8a470411",
   "metadata": {},
   "outputs": [],
   "source": []
  }
 ],
 "metadata": {
  "kernelspec": {
   "display_name": "Python 3 (ipykernel)",
   "language": "python",
   "name": "python3"
  },
  "language_info": {
   "codemirror_mode": {
    "name": "ipython",
    "version": 3
   },
   "file_extension": ".py",
   "mimetype": "text/x-python",
   "name": "python",
   "nbconvert_exporter": "python",
   "pygments_lexer": "ipython3",
   "version": "3.9.7"
  },
  "varInspector": {
   "cols": {
    "lenName": 16,
    "lenType": 16,
    "lenVar": 40
   },
   "kernels_config": {
    "python": {
     "delete_cmd_postfix": "",
     "delete_cmd_prefix": "del ",
     "library": "var_list.py",
     "varRefreshCmd": "print(var_dic_list())"
    },
    "r": {
     "delete_cmd_postfix": ") ",
     "delete_cmd_prefix": "rm(",
     "library": "var_list.r",
     "varRefreshCmd": "cat(var_dic_list()) "
    }
   },
   "types_to_exclude": [
    "module",
    "function",
    "builtin_function_or_method",
    "instance",
    "_Feature"
   ],
   "window_display": false
  }
 },
 "nbformat": 4,
 "nbformat_minor": 5
}
