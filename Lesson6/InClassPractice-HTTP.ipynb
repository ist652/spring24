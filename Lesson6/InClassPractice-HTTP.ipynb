{
 "cells": [
  {
   "cell_type": "markdown",
   "metadata": {},
   "source": [
    "# In-Class Coding Lab: Understanding The Foundations of Web APIs\n",
    "\n",
    "### Overview\n",
    "\n",
    "This lab covers the foundations of what is necessary to properly use consume HTTP web service API's with Python . Here's what we will cover.\n",
    "\n",
    "1. Understading requests and responses\n",
    "1. Proper error handling\n",
    "1. Parameter handling\n",
    "1. Refactoring as a function\n"
   ]
  },
  {
   "cell_type": "code",
   "execution_count": null,
   "metadata": {
    "code_cell_type": "run_code"
   },
   "outputs": [],
   "source": [
    "# Run this to make sure you have the pre-requisites!\n",
    "!pip install -q requests"
   ]
  },
  {
   "cell_type": "markdown",
   "metadata": {},
   "source": [
    "## Part 1: Understanding Requests and responses\n",
    "\n",
    "In this part we learn about the Python requests module. http://docs.python-requests.org/en/master/user/quickstart/ \n",
    "\n",
    "This module makes it easy to write code to send HTTP requests over the internet and handle the responses. It will be the cornerstone of our API consumption in this course. While there are other modules which accomplish the same thing, `requests` is the most straightforward and easiest to use.\n",
    "\n",
    "We'll begin by importing the modules we will need. We do this here so we won't need to include these lines in the other code we write in this lab."
   ]
  },
  {
   "cell_type": "code",
   "execution_count": null,
   "metadata": {
    "code_cell_type": "run_code"
   },
   "outputs": [],
   "source": [
    "# start by importing the modules we will need\n",
    "import requests\n",
    "import json "
   ]
  },
  {
   "cell_type": "markdown",
   "metadata": {},
   "source": [
    "### The request \n",
    "\n",
    "As you learned in class and your assigned readings, the HTTP protocol has **verbs** which consititue the type of request you will send to the remote resource, or **url**. Based on the url and request type, you will get a **response**.\n",
    "\n",
    "The following line of code makes a **get** request (that's the HTTP verb) to Google's Geocoding API service. This service attempts to convert the address (in this case `Syracuse University`) into a set of coordinates global coordinates (Latitude and Longitude), so that location can be plotted on a map.\n"
   ]
  },
  {
   "cell_type": "code",
   "execution_count": null,
   "metadata": {
    "code_cell_type": "run_code"
   },
   "outputs": [],
   "source": [
    "url = 'https://nominatim.openstreetmap.org/search?q=Hinds+Hall+Syracuse+University&format=json'\n",
    "response = requests.get(url)"
   ]
  },
  {
   "cell_type": "markdown",
   "metadata": {},
   "source": [
    "### The response \n",
    "\n",
    "The `get()` method returns a `Response` object variable. I called it `response` in this example but it could be called anything. \n",
    "\n",
    "The HTTP response consists of a *status code* and *body*. The status code lets you know if the request worked, while the body of the response contains the actual data. \n"
   ]
  },
  {
   "cell_type": "code",
   "execution_count": null,
   "metadata": {
    "code_cell_type": "run_code"
   },
   "outputs": [],
   "source": [
    "response.ok # did the request work?"
   ]
  },
  {
   "cell_type": "code",
   "execution_count": null,
   "metadata": {
    "code_cell_type": "run_code"
   },
   "outputs": [],
   "source": [
    "response.text  # what's in the body of the response, as a raw string"
   ]
  },
  {
   "cell_type": "markdown",
   "metadata": {},
   "source": [
    "### De-Serializing JSON Text into Python object variables \n",
    "\n",
    "In the case of **web site url's** the response body is **HTML**. This should be rendered in a web browser. But we're dealing with Web Service API's so...\n",
    "\n",
    "In the case of **web API url's** the response body could be in a variety of formats from **plain text**, to **XML** or **JSON**. In this course we will only focus on JSON format because as we've seen these translate easily into Python object variables.\n",
    "\n",
    "Let's convert the response to a Python object variable."
   ]
  },
  {
   "cell_type": "code",
   "execution_count": null,
   "metadata": {
    "code_cell_type": "run_code"
   },
   "outputs": [],
   "source": [
    "geodata = response.json()  # try to decode the response from JSON format\n",
    "geodata                    # this is now a Python object variable"
   ]
  },
  {
   "cell_type": "markdown",
   "metadata": {},
   "source": [
    "With our Python object, we can now walk the list of dictionary to retrieve the latitude and longitude\n"
   ]
  },
  {
   "cell_type": "code",
   "execution_count": null,
   "metadata": {
    "code_cell_type": "run_code"
   },
   "outputs": [],
   "source": [
    "lat = geodata[0]['lat']\n",
    "lon =geodata[0]['lon']\n",
    "print(lat, lon)"
   ]
  },
  {
   "cell_type": "markdown",
   "metadata": {},
   "source": [
    "In the code above we \"walked\" the Python list of dictionary to get to the location\n",
    "\n",
    "- `geodata` is a list\n",
    "- `geodata[0]` is the first item in that list, a dictionary\n",
    "- `geodata[0]['lat']` is a dictionary key which represents the latitude \n",
    "- `geodata[0]['lon']` is a dictionary key which represents the longitude\n",
    "\n",
    "It should be noted that this process will vary for each API you call, so its important to get accustomed to performing this task. You'll be doing it quite often. \n",
    "\n",
    "One final thing to address. What is the type of `lat` and `lon`?"
   ]
  },
  {
   "cell_type": "code",
   "execution_count": null,
   "metadata": {
    "code_cell_type": "run_code"
   },
   "outputs": [],
   "source": [
    "type(lat), type(lon)"
   ]
  },
  {
   "cell_type": "markdown",
   "metadata": {},
   "source": [
    "Bummer they are strings. we want them to be floats so we will need to parse the strings with the `float()` function:"
   ]
  },
  {
   "cell_type": "code",
   "execution_count": null,
   "metadata": {
    "code_cell_type": "run_code"
   },
   "outputs": [],
   "source": [
    "lat = float(geodata[0]['lat'])\n",
    "lon = float(geodata[0]['lon'])\n",
    "print(\"Latitude: %f, Longitude: %f\" % (lat, lon))"
   ]
  },
  {
   "cell_type": "markdown",
   "metadata": {},
   "source": [
    "## What did we just do?\n",
    "\n",
    "At this stage, the process for calling a WebAPI in JSON format using Python is the same, regardless of the API.\n",
    "\n",
    "\n",
    "1. Use `requests.get(url)` to make an HTTP GET request to the `url`.\n",
    "2. Assuming the `response.ok` we can `response.json()` to de-serialize the JSON into a Python object.\n",
    "3. We then extract the information we need using the typical Python `list` and `dict` methods.\n"
   ]
  },
  {
   "cell_type": "markdown",
   "metadata": {},
   "source": [
    "### 1.1 You Code\n",
    "\n",
    "This url calls the [GovTrack API](https://www.govtrack.us/), and retrieves information regarding the current President of the United States.\n",
    "\n",
    "[https://www.govtrack.us/api/v2/role?current=true&role_type=president](https://www.govtrack.us/api/v2/role?current=true&role_type=president)\n",
    "\n",
    " 1. Use `requests.get()` to retrieve the contents of the API at this url.\n",
    " 2. Use `response.json()` to de-serialize the the response JSON text to a Python object.\n",
    " 3. Find and print the `\"name` of the current president by locating it within the Python object.\n",
    " \n",
    "**HINT**: to figure that out, click on the URL and view the content in your broswer.\n"
   ]
  },
  {
   "cell_type": "code",
   "execution_count": null,
   "metadata": {
    "code_cell_type": "debug_code",
    "label": "1.1",
    "solution": [
     "url = 'https://www.govtrack.us/api/v2/role?current=true&role_type=president'\n",
     "response = requests.get(url)\n",
     "data = response.json()\n",
     "print(data['objects'][0]['person']['name'])\n"
    ]
   },
   "outputs": [],
   "source": [
    "# TODO Write code here\n",
    "url = 'https://www.govtrack.us/api/v2/role?current=true&role_type=president'\n"
   ]
  },
  {
   "cell_type": "markdown",
   "metadata": {},
   "source": [
    "## Part 2: Parameter Handling\n",
    "\n",
    "In the example above we hard-coded `current=true` and `role_type=president` into the request:\n",
    "\n",
    "`url = 'https://www.govtrack.us/api/v2/role?current=true&role_type=president'`\n",
    "\n",
    "Likewise in the open stret map example we hard coded in the `Hinds Hall Syracuse University` part:\n",
    "\n",
    "`url = 'https://nominatim.openstreetmap.org/search?q=Hinds+Hall+Syracuse+University&format=json'` \n",
    "\n",
    "A better way to write this code is to allow for the **input** of any location and supply that to the service. To make this work we need to send parameters into the request as a dictionary. **Parameters** end up being built into a **Query String** on the url which serve as the **inputs into the API Request**. \n",
    "\n",
    "This way we can geolocate any address!\n",
    "\n",
    "You'll notice that on the url, we are passing **key-value pairs** the key is `q` and the value is `Hinds+Hall+Syracuse+University`. The other key is `format` and the value is `json`. Hey, Python dictionaries are also key-value pairs so:"
   ]
  },
  {
   "cell_type": "code",
   "execution_count": null,
   "metadata": {
    "code_cell_type": "run_code"
   },
   "outputs": [],
   "source": [
    "url = 'https://nominatim.openstreetmap.org/search'  # base URL without paramters after the \"?\"\n",
    "search = 'Hinds Hall Syracuse University'\n",
    "options = { 'q' : search, 'format' : 'json'}\n",
    "response = requests.get(url, params = options)  # This builds the url\n",
    "print(f\"Requested URL: {response.url}\") # print the built url\n",
    "geodata = response.json()\n",
    "coords = { 'lat' : float(geodata[0]['lat']), 'lng' : float(geodata[0]['lon']) }\n",
    "print(\"Search for:\", search)\n",
    "print(\"Coordinates:\", coords)\n",
    "print(f\"{search} is located at ({coords['lat']},{coords['lng']})\")"
   ]
  },
  {
   "cell_type": "markdown",
   "metadata": {},
   "source": [
    "### Looking up any address\n",
    "\n",
    "RECALL: For `requests.get(url, params = options)` the part that says `params = options` is called a **named argument**, which is Python's way of specifying an optional function argument.\n",
    "\n",
    "With our parameter now outside the url, we can easily re-write this code to work for any location! Go ahead and execute the code and input `Queens, NY`. This will retrieve the coordinates `(40.728224,-73.794852)`"
   ]
  },
  {
   "cell_type": "code",
   "execution_count": null,
   "metadata": {
    "code_cell_type": "run_code"
   },
   "outputs": [],
   "source": [
    "url = 'https://nominatim.openstreetmap.org/search'  # base URL without paramters after the \"?\"\n",
    "search = input(\"Enter a loacation to Geocode: \")\n",
    "options = { 'q' : search, 'format' : 'json'}\n",
    "response = requests.get(url, params = options)            \n",
    "geodata = response.json()\n",
    "coords = { 'lat' : float(geodata[0]['lat']), 'lng' : float(geodata[0]['lon']) }\n",
    "print(\"Search for:\", search)\n",
    "print(\"Coordinates:\", coords)\n",
    "print(f\"{search} is located at ({coords['lat']},{coords['lng']})\")"
   ]
  },
  {
   "cell_type": "markdown",
   "metadata": {},
   "source": [
    "## This is so useful, it should be a function!\n",
    "\n",
    "One thing you'll come to realize quickly is that your API calls should be wrapped in functions. This promotes **readability** and **code re-use**. For example:"
   ]
  },
  {
   "cell_type": "code",
   "execution_count": null,
   "metadata": {
    "code_cell_type": "run_code"
   },
   "outputs": [],
   "source": [
    "def get_coordinates(search):\n",
    "    url = 'https://nominatim.openstreetmap.org/search'  # base URL without paramters after the \"?\"\n",
    "    options = { 'q' : search, 'format' : 'json'}\n",
    "    response = requests.get(url, params = options)            \n",
    "    geodata = response.json()\n",
    "    coords = { 'lat' : float(geodata[0]['lat']), 'lng' : float(geodata[0]['lon']) }\n",
    "    return coords\n",
    "\n",
    "# main program here:\n",
    "location = input(\"Enter a location: \")\n",
    "coords = get_coordinates(location)\n",
    "print(f\"{search} is located at ({coords['lat']},{coords['lng']})\")\n"
   ]
  },
  {
   "cell_type": "markdown",
   "metadata": {},
   "source": [
    "### 1.2 You Code: Debug\n",
    "\n",
    "Get this code working! \n",
    "\n",
    "The [GovTrack API](https://www.govtrack.us/), allows you to retrieve information about people in Government with 4 different role types: `senator, representative, president, vicepresident`  for example, when you add the `role_type=president` to the request URL you get the US president, when you add `role_type=senator` you get back US senators.\n",
    "\n",
    "This code should present a drop down of roles. Upon selected the API is called for that role and then for each object in that role we print the `['person']['name']` as before. \n",
    "\n",
    "\n",
    "**HINT**: If you are getting errors, click on the response URL to see the API output."
   ]
  },
  {
   "cell_type": "code",
   "execution_count": null,
   "metadata": {
    "code_cell_type": "debug_code",
    "label": "1.3",
    "solution": [
     "from ipywidgets import interact\n",
     "roles = ['senator', 'representative', 'president', 'vicepresident' ]\n",
     "@interact(role_type=roles)\n",
     "def main(role_type):\n",
     "    url = 'https://www.govtrack.us/api/v2/role' \n",
     "    params =  { 'current' : 'true', 'role_type' : role_type }\n",
     "    response = requests.get(url, params = params)\n",
     "    print(f\"Requested URL: {response.url}\")\n",
     "    data = response.json()\n",
     "    for item in data['objects']:\n",
     "        print(f\"- {item['person']['name']}\")\n"
    ]
   },
   "outputs": [],
   "source": [
    "from ipywidgets import interact\n",
    "\n",
    "roles = ['senator', 'representative', 'president', 'vicepresident' ]\n",
    "@interact(role_type=roles)\n",
    "def main(role_type):\n",
    "    url = 'https://www.govtrack.us/api/v2/role' \n",
    "    params =  { 'current' : 'true', 'role_type' : \"?\" }\n",
    "    response = requests.get(url, params = params)\n",
    "    print(f\"Requested URL: {response.url}\")\n",
    "    data = response.json\n",
    "    for item in data['objects']:\n",
    "        print(f\"- persons name\")"
   ]
  },
  {
   "cell_type": "markdown",
   "metadata": {},
   "source": [
    "## Other request methods\n",
    "\n",
    "Not every API we call uses the `get()` method. Some use `post()` because the amount of data you provide it too large to place on the url.  The `HTTP POST` method sends input data within the body of the request. It does NOT appear on the URL.\n",
    "\n",
    "An example of an API that uses this method is the  **Text-Processing.com** sentiment analysis service. http://text-processing.com/docs/sentiment.html This service will detect the sentiment or mood of text. You give the service some text, and it tells you whether that text is positive, negative or neutral.  The JSON response has a key called `label` which provides the sentiment.\n",
    "\n",
    "Examples:"
   ]
  },
  {
   "cell_type": "code",
   "execution_count": null,
   "metadata": {
    "code_cell_type": "run_code"
   },
   "outputs": [],
   "source": [
    "# 'you suck' == 'negative'\n",
    "url = 'http://text-processing.com/api/sentiment/'\n",
    "payload = { 'text' : 'you suck'}\n",
    "response = requests.post(url, data = payload)\n",
    "sentiment = response.json()\n",
    "sentiment"
   ]
  },
  {
   "cell_type": "code",
   "execution_count": null,
   "metadata": {
    "code_cell_type": "run_code"
   },
   "outputs": [],
   "source": [
    "# 'I love cheese' == 'positive'\n",
    "url = 'http://text-processing.com/api/sentiment/'\n",
    "payload = { 'text' : 'I love cheese'}\n",
    "response = requests.post(url, data = payload)\n",
    "sentiment = response.json()\n",
    "sentiment"
   ]
  },
  {
   "cell_type": "markdown",
   "metadata": {},
   "source": [
    "In the examples provided we used the `post()` method instead of the `get()` method. the `post()` method has a named argument `data` which takes a dictionary of data, in HTTP parlance this is referred to as the **payload**. The payload is a dictionary and for **text-processing.com** it required a key `text` which holds the text you would like to process for sentiment.\n",
    "\n",
    "\n",
    "Here's an example of processing the sentiment of a Tweet:"
   ]
  },
  {
   "cell_type": "code",
   "execution_count": null,
   "metadata": {
    "code_cell_type": "run_code"
   },
   "outputs": [],
   "source": [
    "tweet = \"Arnold Schwarzenegger isn't voluntarily leaving the Apprentice, he was fired by his bad (pathetic) ratings, not by me. Sad end to a great show\"\n",
    "url = 'http://text-processing.com/api/sentiment/'\n",
    "payload = { 'text' : tweet }\n",
    "response = requests.post(url, data = payload)\n",
    "sentiment = response.json()\n",
    "print(\"TWEET:\", tweet)\n",
    "print(\"SENTIMENT\", sentiment['label'])"
   ]
  },
  {
   "cell_type": "markdown",
   "metadata": {},
   "source": [
    "## Applications\n",
    "\n",
    "Sentiment analysis is a useful tool for getting a sense of the mood of text. Any text can be analyzed and common applications are analyzing social media, blog comments, product reviews, and open-ended sections of surveys.\n",
    "\n",
    "### 1.3 You Code\n",
    "\n",
    "Use the above example to write a program which will input any text and print the sentiment using this API!"
   ]
  },
  {
   "cell_type": "code",
   "execution_count": null,
   "metadata": {
    "code_cell_type": "write_code",
    "label": "1.3",
    "solution": [
     "text = input(\"Enter Text: \")\n",
     "url = 'http://text-processing.com/api/sentiment/'\n",
     "payload = { 'text' : tweet }\n",
     "response = requests.post(url, data = payload)\n",
     "sentiment = response.json()\n",
     "print(\"TEXT:\", text)\n",
     "print(\"SENTIMENT\", sentiment['label'])\n"
    ]
   },
   "outputs": [],
   "source": [
    "#TODO write code here\n"
   ]
  },
  {
   "cell_type": "markdown",
   "metadata": {},
   "source": [
    "\n",
    "## Troubleshooting\n",
    "\n",
    "When you write code that depends on other people's code from around the Internet, there's a lot that can go wrong. Therefore we perscribe the following advice:\n",
    "\n",
    "```\n",
    "Assume anything that CAN go wrong WILL go wrong\n",
    "```\n",
    "\n",
    "Let's put this to the test with the following example where we call an API to get the [IP Address](https://en.wikipedia.org/wiki/IP_address) of the computer making the call.\n"
   ]
  },
  {
   "cell_type": "markdown",
   "metadata": {},
   "source": [
    "### First Things First: Know Your Errors!\n",
    "\n",
    "Above all, the #1 thing you should understand are the errors you get from Python and what they mean.\n",
    "\n",
    "Case in point: This first example, which produces a `JSONDecodeError` on line 3."
   ]
  },
  {
   "cell_type": "code",
   "execution_count": null,
   "metadata": {
    "code_cell_type": "run_code"
   },
   "outputs": [],
   "source": [
    "url = \"http://myip.ist652.com\"\n",
    "response = requests.get(url)\n",
    "data = response.json()\n",
    "print(data)"
   ]
  },
  {
   "cell_type": "markdown",
   "metadata": {},
   "source": [
    "This means the response back we get from `\"http://myip.ist652.com\"` cannot be decoded from JSON to a Python object. \n",
    "\n",
    "You might start looking there but you're making a HUGE assumption that the service `\"http://myip.ist652.com\"` is \"working\".\n",
    "\n",
    "NEVER make this assumption!\n",
    "\n",
    "KNOW whether or not its working!\n",
    "\n",
    "There are a couple ways you can do this:\n",
    "\n",
    "- print the `response.url` then click on it to see what happens.\n",
    "- make `reqests` throw an error on unsuccessful HTTP response codes.\n",
    "\n",
    "Let's do both:\n",
    "\n",
    " - we add `print(response.url)` to see the actual URL we are sending to the API.\n",
    " - we add `response.raise_for_status()` which throws an exception if the response is not `200/OK`. \n"
   ]
  },
  {
   "cell_type": "code",
   "execution_count": 1,
   "metadata": {
    "code_cell_type": "run_code"
   },
   "outputs": [
    {
     "ename": "NameError",
     "evalue": "name 'requests' is not defined",
     "output_type": "error",
     "traceback": [
      "\u001b[0;31m---------------------------------------------------------------------------\u001b[0m",
      "\u001b[0;31mNameError\u001b[0m                                 Traceback (most recent call last)",
      "\u001b[0;32m/tmp/ipykernel_479/2587634385.py\u001b[0m in \u001b[0;36m<module>\u001b[0;34m\u001b[0m\n\u001b[1;32m      1\u001b[0m \u001b[0murl\u001b[0m \u001b[0;34m=\u001b[0m \u001b[0;34m\"http://myip.ist652.com\"\u001b[0m\u001b[0;34m\u001b[0m\u001b[0;34m\u001b[0m\u001b[0m\n\u001b[0;32m----> 2\u001b[0;31m \u001b[0mresponse\u001b[0m \u001b[0;34m=\u001b[0m \u001b[0mrequests\u001b[0m\u001b[0;34m.\u001b[0m\u001b[0mget\u001b[0m\u001b[0;34m(\u001b[0m\u001b[0murl\u001b[0m\u001b[0;34m)\u001b[0m\u001b[0;34m\u001b[0m\u001b[0;34m\u001b[0m\u001b[0m\n\u001b[0m\u001b[1;32m      3\u001b[0m \u001b[0mprint\u001b[0m\u001b[0;34m(\u001b[0m\u001b[0;34mf\"Generated Url: {response.url}\"\u001b[0m\u001b[0;34m)\u001b[0m\u001b[0;34m\u001b[0m\u001b[0;34m\u001b[0m\u001b[0m\n\u001b[1;32m      4\u001b[0m \u001b[0mresponse\u001b[0m\u001b[0;34m.\u001b[0m\u001b[0mraise_for_status\u001b[0m\u001b[0;34m(\u001b[0m\u001b[0;34m)\u001b[0m\u001b[0;34m\u001b[0m\u001b[0;34m\u001b[0m\u001b[0m\n\u001b[1;32m      5\u001b[0m \u001b[0mdata\u001b[0m \u001b[0;34m=\u001b[0m \u001b[0mresponse\u001b[0m\u001b[0;34m.\u001b[0m\u001b[0mjson\u001b[0m\u001b[0;34m(\u001b[0m\u001b[0;34m)\u001b[0m\u001b[0;34m\u001b[0m\u001b[0;34m\u001b[0m\u001b[0m\n",
      "\u001b[0;31mNameError\u001b[0m: name 'requests' is not defined"
     ]
    }
   ],
   "source": [
    "url = \"http://myip.ist652.com\"\n",
    "response = requests.get(url)\n",
    "print(f\"Generated Url: {response.url}\")\n",
    "response.raise_for_status()\n",
    "data = response.json()\n",
    "print(data)"
   ]
  },
  {
   "cell_type": "markdown",
   "metadata": {},
   "source": [
    "We no longer have a `JSONDecodeError` We now see the REAL error here an `HTTPError` response 503.\n",
    "\n",
    "According to the `HTTP` Protocol spec, error 5xx means it's the server's problem. No amount of code will fix that. We need a different url.\n",
    "\n",
    "Let's try this instead: `https://whatismyipaddress.com/`"
   ]
  },
  {
   "cell_type": "code",
   "execution_count": null,
   "metadata": {
    "code_cell_type": "run_code"
   },
   "outputs": [],
   "source": [
    "url = \"https://whatismyipaddress.com/\"\n",
    "response = requests.get(url)\n",
    "print(f\"Generated Url: {response.url}\")\n",
    "response.raise_for_status()\n",
    "data = response.json()\n",
    "print(data)"
   ]
  },
  {
   "cell_type": "markdown",
   "metadata": {},
   "source": [
    "This no longer has an `HTTPError`, but now we are back to the `JSONDecodeError`. The response from the URL cannot be de-serialized from JSON text.\n",
    "\n",
    "NOW you should check - if the output of the response isn't JSON, what is it?\n",
    "\n",
    "There are two ways you can do this:\n",
    "\n",
    " - Print the `response.url` and click on it to see if the output is JSON.\n",
    " - print `response.text` which is the raw output from the response.\n",
    " \n",
    " \n",
    "We already have the first, let's add the second.\n",
    "\n"
   ]
  },
  {
   "cell_type": "code",
   "execution_count": null,
   "metadata": {
    "code_cell_type": "run_code"
   },
   "outputs": [],
   "source": [
    "url = \"https://whatismyipaddress.com/\"\n",
    "response = requests.get(url)\n",
    "print(f\"Generated Url: {response.url}\")\n",
    "response.raise_for_status()\n",
    "print(f\"RAW RESPONSE: {response.text}\")\n",
    "data = response.json()\n",
    "print(data)"
   ]
  },
  {
   "cell_type": "markdown",
   "metadata": {},
   "source": [
    "As You can see, the response is:\n",
    "\n",
    "    Access Denied (BUA77). Contact support@whatismyipaddress.com\n",
    "\n",
    "which is not at all what we expected. Again no amount of Python code will fix this, we need to call the right API, or change the URL of this API.\n",
    "\n",
    "As a final step, let's try this service: `http://httpbin.org/ip`"
   ]
  },
  {
   "cell_type": "code",
   "execution_count": null,
   "metadata": {
    "code_cell_type": "run_code"
   },
   "outputs": [],
   "source": [
    "url = \"https://httpbin.org/ip\"\n",
    "response = requests.get(url)\n",
    "print(f\"Generated Url: {response.url}\")\n",
    "response.raise_for_status()\n",
    "print(f\"RAW RESPONSE: {response.text}\")\n",
    "data = response.json()\n",
    "print(data)"
   ]
  },
  {
   "cell_type": "markdown",
   "metadata": {},
   "source": [
    "**Now that works!**\n",
    "\n",
    "The first is the raw response, and the second is the Python object.\n",
    "\n",
    "To demonstrate its a python object, let's extract the IP Address from the `origin` key.\n",
    "\n",
    "The intermediate `print()` statements have been removed since the code now works."
   ]
  },
  {
   "cell_type": "code",
   "execution_count": null,
   "metadata": {
    "code_cell_type": "run_code"
   },
   "outputs": [],
   "source": [
    "url = \"https://httpbin.org/ip\"\n",
    "response = requests.get(url)\n",
    "response.raise_for_status()\n",
    "data = response.json()\n",
    "print(f\"MY IP ADDRESS: {data['origin']}\")"
   ]
  },
  {
   "cell_type": "markdown",
   "metadata": {},
   "source": [
    "##  Guidelines for Rewriting as a function\n",
    "\n",
    "To make your code clear and easier to read, its a good idea to re-factor your working API call into a function. Here are the guidelines:\n",
    "\n",
    "- DO NOT write the function until you get the code working. ALWAYS re-factor (rewrite) the WORKING code as a function.\n",
    "- One API call per function. Don't do too much!\n",
    "- Inputs into the API call such as query string parameters or `POST` body text should be function input parameters.\n",
    "- The function should NOT return the entire response unless its required. Only return what is needed.\n",
    "- use `response.raise_for_status()` to throw `HTTPError` exceptions. This way you will not be misled when there is a problem with the API and not your code.\n",
    "- DO NOT handle errors in your function or account for contingencies. Error handling is the responsilbity of the function's caller.\n",
    "\n",
    "\n",
    "### 1.4 You Code\n",
    "\n",
    "Refactor the code in the cell above into a function `iplookup()`. call the function to demonsrate it works.\n"
   ]
  },
  {
   "cell_type": "code",
   "execution_count": null,
   "metadata": {
    "code_cell_type": "write_code",
    "label": "1.4",
    "solution": [
     "def iplookup():\n",
     "    url = \"https://httpbin.org/ip\"\n",
     "    response = requests.get(url)\n",
     "    response.raise_for_status()\n",
     "    data = response.json()\n",
     "    return data['origin']\n",
     "print(iplookup())\n"
    ]
   },
   "outputs": [],
   "source": [
    "# TODO Your Code Here\n"
   ]
  },
  {
   "cell_type": "markdown",
   "metadata": {},
   "source": [
    "# Metacognition\n"
   ]
  },
  {
   "cell_type": "markdown",
   "metadata": {
    "label": "comfort_cell"
   },
   "source": [
    "\n",
    "### Rate your comfort level with this week's material so far.   \n",
    "\n",
    "**1** ==> I don't understand this at all yet and need extra help. If you choose this please try to articulate that which you do not understand to the best of your ability in the questions and comments section below.  \n",
    "**2** ==> I can do this with help or guidance from other people or resources. If you choose this level, please indicate HOW this person helped you in the questions and comments section below.   \n",
    "**3** ==> I can do this on my own without any help.   \n",
    "**4** ==> I can do this on my own and can explain/teach how to do it to others.\n",
    "\n",
    "`--== Double-Click Here then Enter a Number 1 through 4 Below This Line ==--`  \n"
   ]
  },
  {
   "cell_type": "code",
   "execution_count": null,
   "metadata": {},
   "outputs": [],
   "source": []
  }
 ],
 "metadata": {
  "anaconda-cloud": {},
  "kernelspec": {
   "display_name": "Python 3 (ipykernel)",
   "language": "python",
   "name": "python3"
  },
  "language_info": {
   "codemirror_mode": {
    "name": "ipython",
    "version": 3
   },
   "file_extension": ".py",
   "mimetype": "text/x-python",
   "name": "python",
   "nbconvert_exporter": "python",
   "pygments_lexer": "ipython3",
   "version": "3.9.7"
  },
  "toc": {
   "base_numbering": 1,
   "nav_menu": {},
   "number_sections": false,
   "sideBar": false,
   "skip_h1_title": false,
   "title_cell": "Table of Contents",
   "title_sidebar": "Contents",
   "toc_cell": false,
   "toc_position": {},
   "toc_section_display": false,
   "toc_window_display": false
  },
  "varInspector": {
   "cols": {
    "lenName": 16,
    "lenType": 16,
    "lenVar": 40
   },
   "kernels_config": {
    "python": {
     "delete_cmd_postfix": "",
     "delete_cmd_prefix": "del ",
     "library": "var_list.py",
     "varRefreshCmd": "print(var_dic_list())"
    },
    "r": {
     "delete_cmd_postfix": ") ",
     "delete_cmd_prefix": "rm(",
     "library": "var_list.r",
     "varRefreshCmd": "cat(var_dic_list()) "
    }
   },
   "types_to_exclude": [
    "module",
    "function",
    "builtin_function_or_method",
    "instance",
    "_Feature"
   ],
   "window_display": false
  }
 },
 "nbformat": 4,
 "nbformat_minor": 4
}
