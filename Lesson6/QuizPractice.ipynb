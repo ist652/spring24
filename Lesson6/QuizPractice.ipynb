{
 "cells": [
  {
   "cell_type": "markdown",
   "id": "388ae8e0-0974-4626-85c3-98c51a57f229",
   "metadata": {},
   "source": [
    "### QUIZ PRACTICE"
   ]
  },
  {
   "cell_type": "markdown",
   "id": "6e813644-8f68-4bad-ab26-20c9cb4daf0c",
   "metadata": {
    "tags": []
   },
   "source": [
    "#### QUESTION 1 \n",
    "\n",
    "#### I have an unlabeled Panda series. What is the syntax to add the labels \"x\", \"y\", and \"z\" to a Pandas Series?"
   ]
  },
  {
   "cell_type": "code",
   "execution_count": null,
   "id": "5dbb6257-5c75-489a-bc7d-873cda2e915a",
   "metadata": {},
   "outputs": [],
   "source": [
    "series.index = [‘X’,’Y’,’Z’]\n",
    "\n",
    "pd.Series(mlist, index = [‘X’,’Y’,’Z’])"
   ]
  },
  {
   "cell_type": "markdown",
   "id": "d75c5d32-21f4-41fb-a9bd-585599c02019",
   "metadata": {},
   "source": [
    "#### QUESTION 2\n",
    "\n",
    "#### I have a dataset with the variable name data. What is a correct syntax to create a Pandas DataFrame?"
   ]
  },
  {
   "cell_type": "code",
   "execution_count": null,
   "id": "86225000-1116-4ffb-a6d0-a015b6eab982",
   "metadata": {},
   "outputs": [],
   "source": [
    "df = pd.DataFrame(data)"
   ]
  },
  {
   "cell_type": "markdown",
   "id": "b10aa420-752d-47cd-9406-1d460fc2b9ab",
   "metadata": {},
   "source": [
    "#### QUESTION 3\n",
    "\n",
    "#### What is a correct syntax to return the first row in a Pandas DataFrame with the variable name df?"
   ]
  },
  {
   "cell_type": "code",
   "execution_count": null,
   "id": "50331eea-9a72-4af7-8fc0-ff276c0e4616",
   "metadata": {},
   "outputs": [],
   "source": [
    "df.head(1)\n",
    "df.iloc[0]"
   ]
  },
  {
   "cell_type": "markdown",
   "id": "872694cf-5c77-432b-860d-336967252191",
   "metadata": {},
   "source": [
    "#### QUESTION 4\n",
    "\n",
    "#### What is a correct syntax to return both the first row and the second row in a Pandas DataFrame with the variable name df?"
   ]
  },
  {
   "cell_type": "code",
   "execution_count": null,
   "id": "1a332627-497d-4a09-ad68-c1d95fe8a135",
   "metadata": {},
   "outputs": [],
   "source": [
    "df[:2]"
   ]
  },
  {
   "cell_type": "markdown",
   "id": "b45a134e-d3e4-4e7a-9e26-a9f0894a6525",
   "metadata": {},
   "source": [
    "#### QUESTION 5\n",
    "\n",
    "#### What is a correct syntax to return the first 20 rows of a DataFrame with the variable name df?"
   ]
  },
  {
   "cell_type": "code",
   "execution_count": null,
   "id": "e5302f92-f8a2-4359-9a80-a7822ad91676",
   "metadata": {},
   "outputs": [],
   "source": [
    "df.head(20)\n"
   ]
  },
  {
   "cell_type": "markdown",
   "id": "a388fb0a-7168-45b4-9913-4823acab99b6",
   "metadata": {},
   "source": [
    "#### QUESTION 6\n",
    "\n",
    "#### What is a correct syntax to return the entire DataFrame"
   ]
  },
  {
   "cell_type": "code",
   "execution_count": null,
   "id": "aedb6564-abb2-473b-8f11-50e65c655139",
   "metadata": {},
   "outputs": [],
   "source": [
    "df = pd.dataframe(data)\n",
    "\n",
    "df.to_string()"
   ]
  },
  {
   "cell_type": "markdown",
   "id": "323c0bb8-bf10-4600-949a-5479e1d6e4ab",
   "metadata": {},
   "source": [
    "#### QUESTION 7\n",
    "\n",
    "#### What is the Pandas function for loading JSON files into a DataFrame?"
   ]
  },
  {
   "cell_type": "code",
   "execution_count": null,
   "id": "58d525bb-9d86-4b2d-bba1-99df24aeb6c4",
   "metadata": {},
   "outputs": [],
   "source": [
    "url = \"...\"\n",
    "json_df = pd.read_json(url)\n"
   ]
  },
  {
   "cell_type": "markdown",
   "id": "de41410f-3a05-48fa-bc40-fe5c4df30d5a",
   "metadata": {},
   "source": [
    "#### QUESTION 8\n",
    "\n",
    "#### What is syntax to load a Python Dictionary called \"data\" into a Pandas DataFrame?"
   ]
  },
  {
   "cell_type": "code",
   "execution_count": null,
   "id": "beb1c0b3-4b11-4384-aba7-4e0d80082a20",
   "metadata": {},
   "outputs": [],
   "source": [
    "data = {‘name’:[hitesh,tejas]}\n",
    "df=pd.DataFrame(data)"
   ]
  },
  {
   "cell_type": "markdown",
   "id": "368edbbe-abee-45db-8b94-f9980ef92a73",
   "metadata": {},
   "source": [
    "#### QUESTION 9\n",
    "\n",
    "#### What is a Pandas method for removing rows that contains empty cells?"
   ]
  },
  {
   "cell_type": "code",
   "execution_count": null,
   "id": "bf1d3679-9d27-458f-98e2-dc677b802218",
   "metadata": {},
   "outputs": [],
   "source": [
    "new_df = df.dropna()\n"
   ]
  },
  {
   "cell_type": "markdown",
   "id": "302ed314-e2c4-41f8-94ec-0c0a27473987",
   "metadata": {
    "tags": []
   },
   "source": [
    "#### QUESTION 10"
   ]
  },
  {
   "cell_type": "code",
   "execution_count": 4,
   "id": "2bbd5e41-6541-492c-b606-f668665cb5ff",
   "metadata": {
    "tags": []
   },
   "outputs": [
    {
     "data": {
      "text/html": [
       "<div>\n",
       "<style scoped>\n",
       "    .dataframe tbody tr th:only-of-type {\n",
       "        vertical-align: middle;\n",
       "    }\n",
       "\n",
       "    .dataframe tbody tr th {\n",
       "        vertical-align: top;\n",
       "    }\n",
       "\n",
       "    .dataframe thead th {\n",
       "        text-align: right;\n",
       "    }\n",
       "</style>\n",
       "<table border=\"1\" class=\"dataframe\">\n",
       "  <thead>\n",
       "    <tr style=\"text-align: right;\">\n",
       "      <th></th>\n",
       "      <th>money_column</th>\n",
       "      <th>group_column</th>\n",
       "      <th>random_column</th>\n",
       "    </tr>\n",
       "  </thead>\n",
       "  <tbody>\n",
       "    <tr>\n",
       "      <th>0</th>\n",
       "      <td>0</td>\n",
       "      <td>a</td>\n",
       "      <td>10</td>\n",
       "    </tr>\n",
       "    <tr>\n",
       "      <th>1</th>\n",
       "      <td>1</td>\n",
       "      <td>a</td>\n",
       "      <td>11</td>\n",
       "    </tr>\n",
       "    <tr>\n",
       "      <th>2</th>\n",
       "      <td>2</td>\n",
       "      <td>a</td>\n",
       "      <td>12</td>\n",
       "    </tr>\n",
       "    <tr>\n",
       "      <th>3</th>\n",
       "      <td>3</td>\n",
       "      <td>b</td>\n",
       "      <td>13</td>\n",
       "    </tr>\n",
       "    <tr>\n",
       "      <th>4</th>\n",
       "      <td>4</td>\n",
       "      <td>b</td>\n",
       "      <td>14</td>\n",
       "    </tr>\n",
       "    <tr>\n",
       "      <th>5</th>\n",
       "      <td>5</td>\n",
       "      <td>b</td>\n",
       "      <td>15</td>\n",
       "    </tr>\n",
       "  </tbody>\n",
       "</table>\n",
       "</div>"
      ],
      "text/plain": [
       "   money_column group_column  random_column\n",
       "0             0            a             10\n",
       "1             1            a             11\n",
       "2             2            a             12\n",
       "3             3            b             13\n",
       "4             4            b             14\n",
       "5             5            b             15"
      ]
     },
     "execution_count": 4,
     "metadata": {},
     "output_type": "execute_result"
    }
   ],
   "source": [
    "import pandas as pd\n",
    "\n",
    "money_column = list(range(0, 6))\n",
    "group_column = ['a', 'a', 'a', 'b', 'b', 'b']\n",
    "random_column = list(range(10, 16))\n",
    "\n",
    "df = pd.DataFrame(zip(money_column, group_column, random_column), \n",
    "                   columns = ['money_column', 'group_column', 'random_column'])\n",
    "\n",
    "df"
   ]
  },
  {
   "cell_type": "markdown",
   "id": "40cad3e0-c048-40e4-80a4-5418662d1aa4",
   "metadata": {
    "tags": []
   },
   "source": [
    "### Create groups by a column of choice"
   ]
  },
  {
   "cell_type": "code",
   "execution_count": null,
   "id": "488c489f-4de9-4dc3-bf23-5ee672740554",
   "metadata": {},
   "outputs": [],
   "source": [
    "column_name = column_name.group_by(money_column)"
   ]
  }
 ],
 "metadata": {
  "kernelspec": {
   "display_name": "Python 3 (ipykernel)",
   "language": "python",
   "name": "python3"
  },
  "language_info": {
   "codemirror_mode": {
    "name": "ipython",
    "version": 3
   },
   "file_extension": ".py",
   "mimetype": "text/x-python",
   "name": "python",
   "nbconvert_exporter": "python",
   "pygments_lexer": "ipython3",
   "version": "3.11.7"
  }
 },
 "nbformat": 4,
 "nbformat_minor": 5
}
