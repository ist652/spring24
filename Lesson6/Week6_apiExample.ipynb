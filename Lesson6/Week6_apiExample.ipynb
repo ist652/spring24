{
 "cells": [
  {
   "cell_type": "markdown",
   "metadata": {},
   "source": [
    "# Working with APIs"
   ]
  },
  {
   "cell_type": "code",
   "execution_count": null,
   "metadata": {
    "tags": []
   },
   "outputs": [],
   "source": [
    "import numpy as np\n",
    "import pandas as pd\n",
    "import requests      #for working with apis\n"
   ]
  },
  {
   "cell_type": "markdown",
   "metadata": {},
   "source": [
    "**Example 1**"
   ]
  },
  {
   "cell_type": "markdown",
   "metadata": {},
   "source": [
    "Example using ExchangeRate-API:  https://www.exchangerate-api.com/docs/standard-requests"
   ]
  },
  {
   "cell_type": "code",
   "execution_count": null,
   "metadata": {
    "tags": []
   },
   "outputs": [],
   "source": [
    "url = \"https://api.exchangerate-api.com/v4/latest/USD\"  #a GET request is implicitly generated\n",
    "df = pd.read_json(url)\n",
    "df"
   ]
  },
  {
   "cell_type": "markdown",
   "metadata": {},
   "source": [
    "**Code Explanation:**\n",
    "\n",
    "`df = pd.read_json(url)`:\n",
    "   - This line of code utilizes the Pandas library to read JSON data from the URL specified in the `url` variable.\n",
    "   - `pd` is an alias for the Pandas library, which is a popular Python library used for data manipulation and analysis.\n",
    "   - `read_json()` is a Pandas function that reads JSON data from a specified source (in this case, the provided URL).\n",
    "   - The JSON data obtained from the API contains information about exchange rates for various currencies relative to USD.\n",
    "\n",
    "**How It Works:**\n",
    "\n",
    "The URL `\"https://api.exchangerate-api.com/v4/latest/USD\"` is a resource that returns exchange rate data in JSON format when accessed.\n",
    "\n",
    "`pd.read_json(url)` sends an HTTP GET request to the URL, retrieves the JSON response containing exchange rate data, and parses it into a Pandas DataFrame.\n",
    "\n"
   ]
  },
  {
   "cell_type": "code",
   "execution_count": null,
   "metadata": {
    "tags": []
   },
   "outputs": [],
   "source": [
    "df.drop(['provider','WARNING_UPGRADE_TO_V6','terms'], axis=1)"
   ]
  },
  {
   "cell_type": "markdown",
   "metadata": {},
   "source": [
    "\n",
    "#### Here's a breakdown of what this code does:\n",
    "\n",
    "\n",
    "`.drop()`: used to drop specified labels (rows or columns) from the DataFrame.\n",
    "\n",
    "`['provider', 'WARNING_UPGRADE_TO_V6', 'terms']`: column labels that to remove from the DataFrame.\n",
    "\n",
    "`axis=1`:  When `axis=1`, it means that the operation will be performed along columns. \n",
    "\n"
   ]
  },
  {
   "cell_type": "markdown",
   "metadata": {},
   "source": [
    "**Example 2**"
   ]
  },
  {
   "cell_type": "markdown",
   "metadata": {},
   "source": [
    "Explore these first\n",
    "https://www.weather.gov/documentation/services-web-api\n",
    "\n",
    "Need to find the \"office\" for Syracuse (SU area)\n",
    "https://api.weather.gov/points/43.0481,-76.1474"
   ]
  },
  {
   "cell_type": "code",
   "execution_count": null,
   "metadata": {
    "tags": []
   },
   "outputs": [],
   "source": [
    "import requests\n",
    "url = \"https://api.weather.gov/gridpoints/BGM/51,98/forecast\"\n",
    "df = pd.read_json(url)\n",
    "df\n",
    "#This will throw an error because the json data from the URL cannot be structured by pandas without your guidance"
   ]
  },
  {
   "cell_type": "code",
   "execution_count": null,
   "metadata": {
    "tags": []
   },
   "outputs": [],
   "source": [
    "# Just like in the the forecast file example (in JSON), we can't get the JSON data right into a pandas dataframe\n",
    "url = \"https://api.weather.gov/gridpoints/BGM/51,98/forecast\"\n",
    "response = requests.get(url)\n",
    "print(response.status_code)"
   ]
  },
  {
   "cell_type": "code",
   "execution_count": null,
   "metadata": {
    "tags": []
   },
   "outputs": [],
   "source": [
    "data = response.json()  #convert the response to json that python can understand\n",
    "print(data)"
   ]
  },
  {
   "cell_type": "code",
   "execution_count": null,
   "metadata": {
    "tags": []
   },
   "outputs": [],
   "source": [
    "import json\n",
    "print(json.dumps(data, indent=1))"
   ]
  },
  {
   "cell_type": "code",
   "execution_count": null,
   "metadata": {
    "tags": []
   },
   "outputs": [],
   "source": [
    "print(data['properties']['periods'])"
   ]
  },
  {
   "cell_type": "code",
   "execution_count": null,
   "metadata": {
    "tags": []
   },
   "outputs": [],
   "source": [
    "forecast = pd.DataFrame(data['properties']['periods'], columns=['name', 'temperature','temperatureUnit','windSpeed','windDirection','shortForecast'])\n",
    "forecast"
   ]
  },
  {
   "cell_type": "code",
   "execution_count": null,
   "metadata": {},
   "outputs": [],
   "source": []
  }
 ],
 "metadata": {
  "kernelspec": {
   "display_name": "Python 3 (ipykernel)",
   "language": "python",
   "name": "python3"
  },
  "language_info": {
   "codemirror_mode": {
    "name": "ipython",
    "version": 3
   },
   "file_extension": ".py",
   "mimetype": "text/x-python",
   "name": "python",
   "nbconvert_exporter": "python",
   "pygments_lexer": "ipython3",
   "version": "3.11.3"
  }
 },
 "nbformat": 4,
 "nbformat_minor": 4
}
