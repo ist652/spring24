{
 "cells": [
  {
   "cell_type": "markdown",
   "metadata": {},
   "source": [
    "# Structured data analysis example\n",
    "\n",
    "This example will use subsets of a dataset of reported incidents of crime (with the exception of murders where data exists for each victim) that occurred in the City of Chicago in 2021. Source – Chicago data portal.\n",
    "Only a portion of the data entries in the dataset will be used to illustrate how to work with structured data using Pandas.\n"
   ]
  },
  {
   "cell_type": "code",
   "execution_count": 1,
   "metadata": {
    "tags": []
   },
   "outputs": [],
   "source": [
    "%matplotlib inline\n",
    "\n",
    "import pandas as pd\n",
    "import numpy as np\n",
    "\n",
    "#import requests\n",
    "#from io import StringIO"
   ]
  },
  {
   "cell_type": "markdown",
   "metadata": {},
   "source": [
    "Let us begin by bringing in the libraries we are interested in using for this exercise. We are using pandas, numpy and Matplotlib. We have have set up the plots to render in our notebook by using %matplotlib inline."
   ]
  },
  {
   "cell_type": "markdown",
   "metadata": {},
   "source": [
    "## Read the data\n",
    "\n",
    "We will get the data from a data repository (inside SU) and bring it into the notebook. "
   ]
  },
  {
   "cell_type": "code",
   "execution_count": 3,
   "metadata": {
    "tags": []
   },
   "outputs": [],
   "source": [
    "#Defining location of dataset \n",
    "filepath=\"~/datasets/ist652/Crimes/Crimes_small.csv\"\n",
    "\n",
    "crimes_small=pd.read_csv(filepath)"
   ]
  },
  {
   "cell_type": "markdown",
   "metadata": {},
   "source": [
    "Now to bring the data into our notebook. Our data set is a .csv file stored on the class server in the datasets folder. You are given the file path. We will get the data from a data repository (inside SU) and bring it into the notebook.\n",
    "\n",
    "Read the data using pd.read_csv . This is a small version on the dataset we are bringing into our notebook.\n",
    "\n",
    "Let's see the data from the CSV file looks like… we use the head function to get the top 5 rows. There are 22 columns. This is a good point to go to the data source to see what these columns mean. See URL https://data.cityofchicago.org/Public-Safety/Crimes-2021/dwme-t96c"
   ]
  },
  {
   "cell_type": "code",
   "execution_count": 4,
   "metadata": {
    "tags": []
   },
   "outputs": [
    {
     "data": {
      "text/html": [
       "<div>\n",
       "<style scoped>\n",
       "    .dataframe tbody tr th:only-of-type {\n",
       "        vertical-align: middle;\n",
       "    }\n",
       "\n",
       "    .dataframe tbody tr th {\n",
       "        vertical-align: top;\n",
       "    }\n",
       "\n",
       "    .dataframe thead th {\n",
       "        text-align: right;\n",
       "    }\n",
       "</style>\n",
       "<table border=\"1\" class=\"dataframe\">\n",
       "  <thead>\n",
       "    <tr style=\"text-align: right;\">\n",
       "      <th></th>\n",
       "      <th>ID</th>\n",
       "      <th>Case Number</th>\n",
       "      <th>Date</th>\n",
       "      <th>Block</th>\n",
       "      <th>IUCR</th>\n",
       "      <th>Primary Type</th>\n",
       "      <th>Description</th>\n",
       "      <th>Location Description</th>\n",
       "      <th>Arrest</th>\n",
       "      <th>Domestic</th>\n",
       "      <th>...</th>\n",
       "      <th>Ward</th>\n",
       "      <th>Community Area</th>\n",
       "      <th>FBI Code</th>\n",
       "      <th>X Coordinate</th>\n",
       "      <th>Y Coordinate</th>\n",
       "      <th>Year</th>\n",
       "      <th>Updated On</th>\n",
       "      <th>Latitude</th>\n",
       "      <th>Longitude</th>\n",
       "      <th>Location</th>\n",
       "    </tr>\n",
       "  </thead>\n",
       "  <tbody>\n",
       "    <tr>\n",
       "      <th>0</th>\n",
       "      <td>12571973</td>\n",
       "      <td>JE482457</td>\n",
       "      <td>12/19/2021 7:23</td>\n",
       "      <td>042XX S MOZART ST</td>\n",
       "      <td>460</td>\n",
       "      <td>BATTERY</td>\n",
       "      <td>SIMPLE</td>\n",
       "      <td>SIDEWALK</td>\n",
       "      <td>True</td>\n",
       "      <td>True</td>\n",
       "      <td>...</td>\n",
       "      <td>15</td>\n",
       "      <td>58</td>\n",
       "      <td>08B</td>\n",
       "      <td>1158067.0</td>\n",
       "      <td>1876425.0</td>\n",
       "      <td>2021</td>\n",
       "      <td>9/12/2022 16:45</td>\n",
       "      <td>41.816657</td>\n",
       "      <td>-87.695689</td>\n",
       "      <td>(41.81665685, -87.695688608)</td>\n",
       "    </tr>\n",
       "    <tr>\n",
       "      <th>1</th>\n",
       "      <td>12343475</td>\n",
       "      <td>JE202728</td>\n",
       "      <td>4/16/2021 20:45</td>\n",
       "      <td>056XX N RIDGE AVE</td>\n",
       "      <td>820</td>\n",
       "      <td>THEFT</td>\n",
       "      <td>$500 AND UNDER</td>\n",
       "      <td>OTHER (SPECIFY)</td>\n",
       "      <td>False</td>\n",
       "      <td>False</td>\n",
       "      <td>...</td>\n",
       "      <td>48</td>\n",
       "      <td>77</td>\n",
       "      <td>6</td>\n",
       "      <td>NaN</td>\n",
       "      <td>NaN</td>\n",
       "      <td>2021</td>\n",
       "      <td>4/23/2021 16:51</td>\n",
       "      <td>NaN</td>\n",
       "      <td>NaN</td>\n",
       "      <td>NaN</td>\n",
       "    </tr>\n",
       "    <tr>\n",
       "      <th>2</th>\n",
       "      <td>12602803</td>\n",
       "      <td>JF125633</td>\n",
       "      <td>10/21/2021 11:00</td>\n",
       "      <td>083XX S STONY ISLAND AVE</td>\n",
       "      <td>500E</td>\n",
       "      <td>OTHER OFFENSE</td>\n",
       "      <td>EAVESDROPPING</td>\n",
       "      <td>OTHER (SPECIFY)</td>\n",
       "      <td>False</td>\n",
       "      <td>False</td>\n",
       "      <td>...</td>\n",
       "      <td>8</td>\n",
       "      <td>45</td>\n",
       "      <td>26</td>\n",
       "      <td>1188260.0</td>\n",
       "      <td>1849805.0</td>\n",
       "      <td>2021</td>\n",
       "      <td>2/27/2022 15:46</td>\n",
       "      <td>41.742941</td>\n",
       "      <td>-87.585783</td>\n",
       "      <td>(41.74294124, -87.585783412)</td>\n",
       "    </tr>\n",
       "    <tr>\n",
       "      <th>3</th>\n",
       "      <td>12540388</td>\n",
       "      <td>JE444591</td>\n",
       "      <td>11/14/2021 6:00</td>\n",
       "      <td>086XX S COTTAGE GROVE AVE</td>\n",
       "      <td>850</td>\n",
       "      <td>THEFT</td>\n",
       "      <td>ATTEMPT THEFT</td>\n",
       "      <td>CONVENIENCE STORE</td>\n",
       "      <td>False</td>\n",
       "      <td>False</td>\n",
       "      <td>...</td>\n",
       "      <td>6</td>\n",
       "      <td>44</td>\n",
       "      <td>6</td>\n",
       "      <td>1183071.0</td>\n",
       "      <td>1847869.0</td>\n",
       "      <td>2021</td>\n",
       "      <td>11/21/2021 15:48</td>\n",
       "      <td>41.737751</td>\n",
       "      <td>-87.604856</td>\n",
       "      <td>(41.737750767, -87.604855911)</td>\n",
       "    </tr>\n",
       "    <tr>\n",
       "      <th>4</th>\n",
       "      <td>12541139</td>\n",
       "      <td>JE445494</td>\n",
       "      <td>11/14/2021 4:00</td>\n",
       "      <td>034XX W 38TH ST</td>\n",
       "      <td>486</td>\n",
       "      <td>BATTERY</td>\n",
       "      <td>DOMESTIC BATTERY SIMPLE</td>\n",
       "      <td>RESIDENCE</td>\n",
       "      <td>False</td>\n",
       "      <td>True</td>\n",
       "      <td>...</td>\n",
       "      <td>12</td>\n",
       "      <td>58</td>\n",
       "      <td>08B</td>\n",
       "      <td>1154073.0</td>\n",
       "      <td>1879187.0</td>\n",
       "      <td>2021</td>\n",
       "      <td>11/21/2021 15:48</td>\n",
       "      <td>41.824317</td>\n",
       "      <td>-87.710266</td>\n",
       "      <td>(41.824316537, -87.710266215)</td>\n",
       "    </tr>\n",
       "  </tbody>\n",
       "</table>\n",
       "<p>5 rows × 22 columns</p>\n",
       "</div>"
      ],
      "text/plain": [
       "         ID Case Number              Date                      Block  IUCR  \\\n",
       "0  12571973    JE482457   12/19/2021 7:23          042XX S MOZART ST   460   \n",
       "1  12343475    JE202728   4/16/2021 20:45          056XX N RIDGE AVE   820   \n",
       "2  12602803    JF125633  10/21/2021 11:00   083XX S STONY ISLAND AVE  500E   \n",
       "3  12540388    JE444591   11/14/2021 6:00  086XX S COTTAGE GROVE AVE   850   \n",
       "4  12541139    JE445494   11/14/2021 4:00            034XX W 38TH ST   486   \n",
       "\n",
       "    Primary Type              Description Location Description  Arrest  \\\n",
       "0        BATTERY                   SIMPLE             SIDEWALK    True   \n",
       "1          THEFT           $500 AND UNDER      OTHER (SPECIFY)   False   \n",
       "2  OTHER OFFENSE            EAVESDROPPING      OTHER (SPECIFY)   False   \n",
       "3          THEFT            ATTEMPT THEFT    CONVENIENCE STORE   False   \n",
       "4        BATTERY  DOMESTIC BATTERY SIMPLE            RESIDENCE   False   \n",
       "\n",
       "   Domestic  ...  Ward  Community Area  FBI Code  X Coordinate Y Coordinate  \\\n",
       "0      True  ...    15              58       08B     1158067.0    1876425.0   \n",
       "1     False  ...    48              77         6           NaN          NaN   \n",
       "2     False  ...     8              45        26     1188260.0    1849805.0   \n",
       "3     False  ...     6              44         6     1183071.0    1847869.0   \n",
       "4      True  ...    12              58       08B     1154073.0    1879187.0   \n",
       "\n",
       "   Year        Updated On   Latitude  Longitude                       Location  \n",
       "0  2021   9/12/2022 16:45  41.816657 -87.695689   (41.81665685, -87.695688608)  \n",
       "1  2021   4/23/2021 16:51        NaN        NaN                            NaN  \n",
       "2  2021   2/27/2022 15:46  41.742941 -87.585783   (41.74294124, -87.585783412)  \n",
       "3  2021  11/21/2021 15:48  41.737751 -87.604856  (41.737750767, -87.604855911)  \n",
       "4  2021  11/21/2021 15:48  41.824317 -87.710266  (41.824316537, -87.710266215)  \n",
       "\n",
       "[5 rows x 22 columns]"
      ]
     },
     "execution_count": 4,
     "metadata": {},
     "output_type": "execute_result"
    }
   ],
   "source": [
    "crimes_small.head()"
   ]
  },
  {
   "cell_type": "code",
   "execution_count": 5,
   "metadata": {
    "tags": []
   },
   "outputs": [
    {
     "name": "stdout",
     "output_type": "stream",
     "text": [
      "<class 'pandas.core.frame.DataFrame'>\n",
      "RangeIndex: 9 entries, 0 to 8\n",
      "Data columns (total 22 columns):\n",
      " #   Column                Non-Null Count  Dtype  \n",
      "---  ------                --------------  -----  \n",
      " 0   ID                    9 non-null      int64  \n",
      " 1   Case Number           9 non-null      object \n",
      " 2   Date                  9 non-null      object \n",
      " 3   Block                 9 non-null      object \n",
      " 4   IUCR                  9 non-null      object \n",
      " 5   Primary Type          9 non-null      object \n",
      " 6   Description           9 non-null      object \n",
      " 7   Location Description  9 non-null      object \n",
      " 8   Arrest                9 non-null      bool   \n",
      " 9   Domestic              9 non-null      bool   \n",
      " 10  Beat                  9 non-null      int64  \n",
      " 11  District              9 non-null      int64  \n",
      " 12  Ward                  9 non-null      int64  \n",
      " 13  Community Area        9 non-null      int64  \n",
      " 14  FBI Code              9 non-null      object \n",
      " 15  X Coordinate          8 non-null      float64\n",
      " 16  Y Coordinate          8 non-null      float64\n",
      " 17  Year                  9 non-null      int64  \n",
      " 18  Updated On            9 non-null      object \n",
      " 19  Latitude              8 non-null      float64\n",
      " 20  Longitude             8 non-null      float64\n",
      " 21  Location              8 non-null      object \n",
      "dtypes: bool(2), float64(4), int64(6), object(10)\n",
      "memory usage: 1.6+ KB\n"
     ]
    }
   ],
   "source": [
    "crimes_small.info() # about the dataframe"
   ]
  },
  {
   "cell_type": "markdown",
   "metadata": {},
   "source": [
    "The immediate red flag is the \"Date\" column does not have the correct data type to make good use of it as a date column. It is an object type therefore a string, this is the default when parsing. If you recall Pandas has a datatype for dates and time.\n",
    "\n",
    "We need to parse that column so that it gets correctly formatted. (See this link for more tricks with dates: https://towardsdatascience.com/4-tricks-you-should-know-to-parse-date-columns-with-pandas-read-csv-27355bb2ad0e)\n",
    "\n",
    "We use parse_dates which by default is month/day/year. You can customize the manner in which the date is parsed. Here we are specifying that the date/time column is located in the third column, hence parse_dates=[2]."
   ]
  },
  {
   "cell_type": "code",
   "execution_count": 6,
   "metadata": {
    "tags": []
   },
   "outputs": [],
   "source": [
    "crimes_small=pd.read_csv(filepath,parse_dates=[2]) #getting the data into a pandas dataframe with the correct format for dates"
   ]
  },
  {
   "cell_type": "code",
   "execution_count": 7,
   "metadata": {
    "tags": []
   },
   "outputs": [
    {
     "name": "stdout",
     "output_type": "stream",
     "text": [
      "<class 'pandas.core.frame.DataFrame'>\n",
      "RangeIndex: 9 entries, 0 to 8\n",
      "Data columns (total 22 columns):\n",
      " #   Column                Non-Null Count  Dtype         \n",
      "---  ------                --------------  -----         \n",
      " 0   ID                    9 non-null      int64         \n",
      " 1   Case Number           9 non-null      object        \n",
      " 2   Date                  9 non-null      datetime64[ns]\n",
      " 3   Block                 9 non-null      object        \n",
      " 4   IUCR                  9 non-null      object        \n",
      " 5   Primary Type          9 non-null      object        \n",
      " 6   Description           9 non-null      object        \n",
      " 7   Location Description  9 non-null      object        \n",
      " 8   Arrest                9 non-null      bool          \n",
      " 9   Domestic              9 non-null      bool          \n",
      " 10  Beat                  9 non-null      int64         \n",
      " 11  District              9 non-null      int64         \n",
      " 12  Ward                  9 non-null      int64         \n",
      " 13  Community Area        9 non-null      int64         \n",
      " 14  FBI Code              9 non-null      object        \n",
      " 15  X Coordinate          8 non-null      float64       \n",
      " 16  Y Coordinate          8 non-null      float64       \n",
      " 17  Year                  9 non-null      int64         \n",
      " 18  Updated On            9 non-null      object        \n",
      " 19  Latitude              8 non-null      float64       \n",
      " 20  Longitude             8 non-null      float64       \n",
      " 21  Location              8 non-null      object        \n",
      "dtypes: bool(2), datetime64[ns](1), float64(4), int64(6), object(9)\n",
      "memory usage: 1.6+ KB\n"
     ]
    }
   ],
   "source": [
    "crimes_small.info()"
   ]
  },
  {
   "cell_type": "markdown",
   "metadata": {},
   "source": [
    "The dataset in indexed automatically... 0, 1, 2. Let's index the dataset by date. It will make it easier to work with. To do this we use* set_index* and set the inplace parameter as True to make the change to our dataset. This parameter is set as False by default. You can add your own index series with set_index"
   ]
  },
  {
   "cell_type": "code",
   "execution_count": 8,
   "metadata": {
    "tags": []
   },
   "outputs": [],
   "source": [
    "crimes_small.set_index(\"Date\",inplace=True)"
   ]
  },
  {
   "cell_type": "code",
   "execution_count": 9,
   "metadata": {
    "tags": []
   },
   "outputs": [
    {
     "data": {
      "text/html": [
       "<div>\n",
       "<style scoped>\n",
       "    .dataframe tbody tr th:only-of-type {\n",
       "        vertical-align: middle;\n",
       "    }\n",
       "\n",
       "    .dataframe tbody tr th {\n",
       "        vertical-align: top;\n",
       "    }\n",
       "\n",
       "    .dataframe thead th {\n",
       "        text-align: right;\n",
       "    }\n",
       "</style>\n",
       "<table border=\"1\" class=\"dataframe\">\n",
       "  <thead>\n",
       "    <tr style=\"text-align: right;\">\n",
       "      <th></th>\n",
       "      <th>ID</th>\n",
       "      <th>Case Number</th>\n",
       "      <th>Block</th>\n",
       "      <th>IUCR</th>\n",
       "      <th>Primary Type</th>\n",
       "      <th>Description</th>\n",
       "      <th>Location Description</th>\n",
       "      <th>Arrest</th>\n",
       "      <th>Domestic</th>\n",
       "      <th>Beat</th>\n",
       "      <th>...</th>\n",
       "      <th>Ward</th>\n",
       "      <th>Community Area</th>\n",
       "      <th>FBI Code</th>\n",
       "      <th>X Coordinate</th>\n",
       "      <th>Y Coordinate</th>\n",
       "      <th>Year</th>\n",
       "      <th>Updated On</th>\n",
       "      <th>Latitude</th>\n",
       "      <th>Longitude</th>\n",
       "      <th>Location</th>\n",
       "    </tr>\n",
       "    <tr>\n",
       "      <th>Date</th>\n",
       "      <th></th>\n",
       "      <th></th>\n",
       "      <th></th>\n",
       "      <th></th>\n",
       "      <th></th>\n",
       "      <th></th>\n",
       "      <th></th>\n",
       "      <th></th>\n",
       "      <th></th>\n",
       "      <th></th>\n",
       "      <th></th>\n",
       "      <th></th>\n",
       "      <th></th>\n",
       "      <th></th>\n",
       "      <th></th>\n",
       "      <th></th>\n",
       "      <th></th>\n",
       "      <th></th>\n",
       "      <th></th>\n",
       "      <th></th>\n",
       "      <th></th>\n",
       "    </tr>\n",
       "  </thead>\n",
       "  <tbody>\n",
       "    <tr>\n",
       "      <th>2021-12-19 07:23:00</th>\n",
       "      <td>12571973</td>\n",
       "      <td>JE482457</td>\n",
       "      <td>042XX S MOZART ST</td>\n",
       "      <td>460</td>\n",
       "      <td>BATTERY</td>\n",
       "      <td>SIMPLE</td>\n",
       "      <td>SIDEWALK</td>\n",
       "      <td>True</td>\n",
       "      <td>True</td>\n",
       "      <td>921</td>\n",
       "      <td>...</td>\n",
       "      <td>15</td>\n",
       "      <td>58</td>\n",
       "      <td>08B</td>\n",
       "      <td>1158067.0</td>\n",
       "      <td>1876425.0</td>\n",
       "      <td>2021</td>\n",
       "      <td>9/12/2022 16:45</td>\n",
       "      <td>41.816657</td>\n",
       "      <td>-87.695689</td>\n",
       "      <td>(41.81665685, -87.695688608)</td>\n",
       "    </tr>\n",
       "    <tr>\n",
       "      <th>2021-04-16 20:45:00</th>\n",
       "      <td>12343475</td>\n",
       "      <td>JE202728</td>\n",
       "      <td>056XX N RIDGE AVE</td>\n",
       "      <td>820</td>\n",
       "      <td>THEFT</td>\n",
       "      <td>$500 AND UNDER</td>\n",
       "      <td>OTHER (SPECIFY)</td>\n",
       "      <td>False</td>\n",
       "      <td>False</td>\n",
       "      <td>2013</td>\n",
       "      <td>...</td>\n",
       "      <td>48</td>\n",
       "      <td>77</td>\n",
       "      <td>6</td>\n",
       "      <td>NaN</td>\n",
       "      <td>NaN</td>\n",
       "      <td>2021</td>\n",
       "      <td>4/23/2021 16:51</td>\n",
       "      <td>NaN</td>\n",
       "      <td>NaN</td>\n",
       "      <td>NaN</td>\n",
       "    </tr>\n",
       "    <tr>\n",
       "      <th>2021-10-21 11:00:00</th>\n",
       "      <td>12602803</td>\n",
       "      <td>JF125633</td>\n",
       "      <td>083XX S STONY ISLAND AVE</td>\n",
       "      <td>500E</td>\n",
       "      <td>OTHER OFFENSE</td>\n",
       "      <td>EAVESDROPPING</td>\n",
       "      <td>OTHER (SPECIFY)</td>\n",
       "      <td>False</td>\n",
       "      <td>False</td>\n",
       "      <td>412</td>\n",
       "      <td>...</td>\n",
       "      <td>8</td>\n",
       "      <td>45</td>\n",
       "      <td>26</td>\n",
       "      <td>1188260.0</td>\n",
       "      <td>1849805.0</td>\n",
       "      <td>2021</td>\n",
       "      <td>2/27/2022 15:46</td>\n",
       "      <td>41.742941</td>\n",
       "      <td>-87.585783</td>\n",
       "      <td>(41.74294124, -87.585783412)</td>\n",
       "    </tr>\n",
       "    <tr>\n",
       "      <th>2021-11-14 06:00:00</th>\n",
       "      <td>12540388</td>\n",
       "      <td>JE444591</td>\n",
       "      <td>086XX S COTTAGE GROVE AVE</td>\n",
       "      <td>850</td>\n",
       "      <td>THEFT</td>\n",
       "      <td>ATTEMPT THEFT</td>\n",
       "      <td>CONVENIENCE STORE</td>\n",
       "      <td>False</td>\n",
       "      <td>False</td>\n",
       "      <td>632</td>\n",
       "      <td>...</td>\n",
       "      <td>6</td>\n",
       "      <td>44</td>\n",
       "      <td>6</td>\n",
       "      <td>1183071.0</td>\n",
       "      <td>1847869.0</td>\n",
       "      <td>2021</td>\n",
       "      <td>11/21/2021 15:48</td>\n",
       "      <td>41.737751</td>\n",
       "      <td>-87.604856</td>\n",
       "      <td>(41.737750767, -87.604855911)</td>\n",
       "    </tr>\n",
       "    <tr>\n",
       "      <th>2021-11-14 04:00:00</th>\n",
       "      <td>12541139</td>\n",
       "      <td>JE445494</td>\n",
       "      <td>034XX W 38TH ST</td>\n",
       "      <td>486</td>\n",
       "      <td>BATTERY</td>\n",
       "      <td>DOMESTIC BATTERY SIMPLE</td>\n",
       "      <td>RESIDENCE</td>\n",
       "      <td>False</td>\n",
       "      <td>True</td>\n",
       "      <td>911</td>\n",
       "      <td>...</td>\n",
       "      <td>12</td>\n",
       "      <td>58</td>\n",
       "      <td>08B</td>\n",
       "      <td>1154073.0</td>\n",
       "      <td>1879187.0</td>\n",
       "      <td>2021</td>\n",
       "      <td>11/21/2021 15:48</td>\n",
       "      <td>41.824317</td>\n",
       "      <td>-87.710266</td>\n",
       "      <td>(41.824316537, -87.710266215)</td>\n",
       "    </tr>\n",
       "  </tbody>\n",
       "</table>\n",
       "<p>5 rows × 21 columns</p>\n",
       "</div>"
      ],
      "text/plain": [
       "                           ID Case Number                      Block  IUCR  \\\n",
       "Date                                                                         \n",
       "2021-12-19 07:23:00  12571973    JE482457          042XX S MOZART ST   460   \n",
       "2021-04-16 20:45:00  12343475    JE202728          056XX N RIDGE AVE   820   \n",
       "2021-10-21 11:00:00  12602803    JF125633   083XX S STONY ISLAND AVE  500E   \n",
       "2021-11-14 06:00:00  12540388    JE444591  086XX S COTTAGE GROVE AVE   850   \n",
       "2021-11-14 04:00:00  12541139    JE445494            034XX W 38TH ST   486   \n",
       "\n",
       "                      Primary Type              Description  \\\n",
       "Date                                                          \n",
       "2021-12-19 07:23:00        BATTERY                   SIMPLE   \n",
       "2021-04-16 20:45:00          THEFT           $500 AND UNDER   \n",
       "2021-10-21 11:00:00  OTHER OFFENSE            EAVESDROPPING   \n",
       "2021-11-14 06:00:00          THEFT            ATTEMPT THEFT   \n",
       "2021-11-14 04:00:00        BATTERY  DOMESTIC BATTERY SIMPLE   \n",
       "\n",
       "                    Location Description  Arrest  Domestic  Beat  ...  Ward  \\\n",
       "Date                                                              ...         \n",
       "2021-12-19 07:23:00             SIDEWALK    True      True   921  ...    15   \n",
       "2021-04-16 20:45:00      OTHER (SPECIFY)   False     False  2013  ...    48   \n",
       "2021-10-21 11:00:00      OTHER (SPECIFY)   False     False   412  ...     8   \n",
       "2021-11-14 06:00:00    CONVENIENCE STORE   False     False   632  ...     6   \n",
       "2021-11-14 04:00:00            RESIDENCE   False      True   911  ...    12   \n",
       "\n",
       "                     Community Area  FBI Code X Coordinate  Y Coordinate  \\\n",
       "Date                                                                       \n",
       "2021-12-19 07:23:00              58       08B    1158067.0     1876425.0   \n",
       "2021-04-16 20:45:00              77         6          NaN           NaN   \n",
       "2021-10-21 11:00:00              45        26    1188260.0     1849805.0   \n",
       "2021-11-14 06:00:00              44         6    1183071.0     1847869.0   \n",
       "2021-11-14 04:00:00              58       08B    1154073.0     1879187.0   \n",
       "\n",
       "                     Year        Updated On   Latitude  Longitude  \\\n",
       "Date                                                                \n",
       "2021-12-19 07:23:00  2021   9/12/2022 16:45  41.816657 -87.695689   \n",
       "2021-04-16 20:45:00  2021   4/23/2021 16:51        NaN        NaN   \n",
       "2021-10-21 11:00:00  2021   2/27/2022 15:46  41.742941 -87.585783   \n",
       "2021-11-14 06:00:00  2021  11/21/2021 15:48  41.737751 -87.604856   \n",
       "2021-11-14 04:00:00  2021  11/21/2021 15:48  41.824317 -87.710266   \n",
       "\n",
       "                                          Location  \n",
       "Date                                                \n",
       "2021-12-19 07:23:00   (41.81665685, -87.695688608)  \n",
       "2021-04-16 20:45:00                            NaN  \n",
       "2021-10-21 11:00:00   (41.74294124, -87.585783412)  \n",
       "2021-11-14 06:00:00  (41.737750767, -87.604855911)  \n",
       "2021-11-14 04:00:00  (41.824316537, -87.710266215)  \n",
       "\n",
       "[5 rows x 21 columns]"
      ]
     },
     "execution_count": 9,
     "metadata": {},
     "output_type": "execute_result"
    }
   ],
   "source": [
    "crimes_small.head()"
   ]
  },
  {
   "cell_type": "code",
   "execution_count": 10,
   "metadata": {
    "tags": []
   },
   "outputs": [
    {
     "name": "stdout",
     "output_type": "stream",
     "text": [
      "<class 'pandas.core.frame.DataFrame'>\n",
      "DatetimeIndex: 9 entries, 2021-12-19 07:23:00 to 2021-01-09 15:59:00\n",
      "Data columns (total 21 columns):\n",
      " #   Column                Non-Null Count  Dtype  \n",
      "---  ------                --------------  -----  \n",
      " 0   ID                    9 non-null      int64  \n",
      " 1   Case Number           9 non-null      object \n",
      " 2   Block                 9 non-null      object \n",
      " 3   IUCR                  9 non-null      object \n",
      " 4   Primary Type          9 non-null      object \n",
      " 5   Description           9 non-null      object \n",
      " 6   Location Description  9 non-null      object \n",
      " 7   Arrest                9 non-null      bool   \n",
      " 8   Domestic              9 non-null      bool   \n",
      " 9   Beat                  9 non-null      int64  \n",
      " 10  District              9 non-null      int64  \n",
      " 11  Ward                  9 non-null      int64  \n",
      " 12  Community Area        9 non-null      int64  \n",
      " 13  FBI Code              9 non-null      object \n",
      " 14  X Coordinate          8 non-null      float64\n",
      " 15  Y Coordinate          8 non-null      float64\n",
      " 16  Year                  9 non-null      int64  \n",
      " 17  Updated On            9 non-null      object \n",
      " 18  Latitude              8 non-null      float64\n",
      " 19  Longitude             8 non-null      float64\n",
      " 20  Location              8 non-null      object \n",
      "dtypes: bool(2), float64(4), int64(6), object(9)\n",
      "memory usage: 1.4+ KB\n"
     ]
    }
   ],
   "source": [
    "crimes_small.info() #Confirming date is set as our index"
   ]
  },
  {
   "cell_type": "code",
   "execution_count": null,
   "metadata": {
    "tags": []
   },
   "outputs": [],
   "source": []
  },
  {
   "cell_type": "code",
   "execution_count": null,
   "metadata": {},
   "outputs": [],
   "source": []
  },
  {
   "cell_type": "code",
   "execution_count": null,
   "metadata": {},
   "outputs": [],
   "source": []
  },
  {
   "cell_type": "code",
   "execution_count": null,
   "metadata": {},
   "outputs": [],
   "source": []
  },
  {
   "cell_type": "markdown",
   "metadata": {},
   "source": [
    "Now, let's get the larger dataset into our notebook"
   ]
  },
  {
   "cell_type": "code",
   "execution_count": 15,
   "metadata": {
    "tags": []
   },
   "outputs": [],
   "source": [
    "filepath=\"~/datasets/ist652/Crimes/Crimes_20k.csv\""
   ]
  },
  {
   "cell_type": "markdown",
   "metadata": {},
   "source": [
    "We can get the pandas dataframe correctly structured in one command (thanks to the work on the small version of the dataset)"
   ]
  },
  {
   "cell_type": "code",
   "execution_count": 16,
   "metadata": {
    "tags": []
   },
   "outputs": [],
   "source": [
    "crimes=pd.read_csv(filepath,parse_dates=[2], index_col=[2])"
   ]
  },
  {
   "cell_type": "code",
   "execution_count": 17,
   "metadata": {
    "tags": []
   },
   "outputs": [
    {
     "data": {
      "text/html": [
       "<div>\n",
       "<style scoped>\n",
       "    .dataframe tbody tr th:only-of-type {\n",
       "        vertical-align: middle;\n",
       "    }\n",
       "\n",
       "    .dataframe tbody tr th {\n",
       "        vertical-align: top;\n",
       "    }\n",
       "\n",
       "    .dataframe thead th {\n",
       "        text-align: right;\n",
       "    }\n",
       "</style>\n",
       "<table border=\"1\" class=\"dataframe\">\n",
       "  <thead>\n",
       "    <tr style=\"text-align: right;\">\n",
       "      <th></th>\n",
       "      <th>ID</th>\n",
       "      <th>Case Number</th>\n",
       "      <th>Block</th>\n",
       "      <th>IUCR</th>\n",
       "      <th>Primary Type</th>\n",
       "      <th>Description</th>\n",
       "      <th>Location Description</th>\n",
       "      <th>Arrest</th>\n",
       "      <th>Domestic</th>\n",
       "      <th>Beat</th>\n",
       "      <th>...</th>\n",
       "      <th>Ward</th>\n",
       "      <th>Community Area</th>\n",
       "      <th>FBI Code</th>\n",
       "      <th>X Coordinate</th>\n",
       "      <th>Y Coordinate</th>\n",
       "      <th>Year</th>\n",
       "      <th>Updated On</th>\n",
       "      <th>Latitude</th>\n",
       "      <th>Longitude</th>\n",
       "      <th>Location</th>\n",
       "    </tr>\n",
       "    <tr>\n",
       "      <th>Date</th>\n",
       "      <th></th>\n",
       "      <th></th>\n",
       "      <th></th>\n",
       "      <th></th>\n",
       "      <th></th>\n",
       "      <th></th>\n",
       "      <th></th>\n",
       "      <th></th>\n",
       "      <th></th>\n",
       "      <th></th>\n",
       "      <th></th>\n",
       "      <th></th>\n",
       "      <th></th>\n",
       "      <th></th>\n",
       "      <th></th>\n",
       "      <th></th>\n",
       "      <th></th>\n",
       "      <th></th>\n",
       "      <th></th>\n",
       "      <th></th>\n",
       "      <th></th>\n",
       "    </tr>\n",
       "  </thead>\n",
       "  <tbody>\n",
       "    <tr>\n",
       "      <th>2021-01-02 12:32:00</th>\n",
       "      <td>12259624</td>\n",
       "      <td>JE101261</td>\n",
       "      <td>046XX W VAN BUREN ST</td>\n",
       "      <td>4650</td>\n",
       "      <td>OTHER OFFENSE</td>\n",
       "      <td>SEX OFFENDER - FAIL TO REGISTER</td>\n",
       "      <td>STREET</td>\n",
       "      <td>True</td>\n",
       "      <td>False</td>\n",
       "      <td>1131</td>\n",
       "      <td>...</td>\n",
       "      <td>24.0</td>\n",
       "      <td>25</td>\n",
       "      <td>26</td>\n",
       "      <td>1145550.0</td>\n",
       "      <td>1897622.0</td>\n",
       "      <td>2021</td>\n",
       "      <td>1/16/2021 15:49</td>\n",
       "      <td>41.875070</td>\n",
       "      <td>-87.741068</td>\n",
       "      <td>(41.875069995, -87.741068317)</td>\n",
       "    </tr>\n",
       "    <tr>\n",
       "      <th>2021-01-06 12:18:00</th>\n",
       "      <td>12262739</td>\n",
       "      <td>JE104970</td>\n",
       "      <td>013XX S FAIRFIELD AVE</td>\n",
       "      <td>143A</td>\n",
       "      <td>WEAPONS VIOLATION</td>\n",
       "      <td>UNLAWFUL POSSESSION - HANDGUN</td>\n",
       "      <td>STREET</td>\n",
       "      <td>True</td>\n",
       "      <td>False</td>\n",
       "      <td>1023</td>\n",
       "      <td>...</td>\n",
       "      <td>28.0</td>\n",
       "      <td>29</td>\n",
       "      <td>15</td>\n",
       "      <td>1158247.0</td>\n",
       "      <td>1893603.0</td>\n",
       "      <td>2021</td>\n",
       "      <td>1/16/2021 15:49</td>\n",
       "      <td>41.863792</td>\n",
       "      <td>-87.694560</td>\n",
       "      <td>(41.863791576, -87.694559683)</td>\n",
       "    </tr>\n",
       "    <tr>\n",
       "      <th>2021-01-07 10:52:00</th>\n",
       "      <td>12263546</td>\n",
       "      <td>JE105815</td>\n",
       "      <td>036XX W POLK ST</td>\n",
       "      <td>143A</td>\n",
       "      <td>WEAPONS VIOLATION</td>\n",
       "      <td>UNLAWFUL POSSESSION - HANDGUN</td>\n",
       "      <td>STREET</td>\n",
       "      <td>True</td>\n",
       "      <td>False</td>\n",
       "      <td>1133</td>\n",
       "      <td>...</td>\n",
       "      <td>24.0</td>\n",
       "      <td>27</td>\n",
       "      <td>15</td>\n",
       "      <td>1152328.0</td>\n",
       "      <td>1896125.0</td>\n",
       "      <td>2021</td>\n",
       "      <td>1/16/2021 15:49</td>\n",
       "      <td>41.870831</td>\n",
       "      <td>-87.716222</td>\n",
       "      <td>(41.870831024, -87.716221583)</td>\n",
       "    </tr>\n",
       "    <tr>\n",
       "      <th>2021-01-01 01:00:00</th>\n",
       "      <td>12259461</td>\n",
       "      <td>JE100546</td>\n",
       "      <td>076XX S RHODES AVE</td>\n",
       "      <td>460</td>\n",
       "      <td>BATTERY</td>\n",
       "      <td>SIMPLE</td>\n",
       "      <td>RESIDENCE</td>\n",
       "      <td>False</td>\n",
       "      <td>False</td>\n",
       "      <td>624</td>\n",
       "      <td>...</td>\n",
       "      <td>6.0</td>\n",
       "      <td>69</td>\n",
       "      <td>08B</td>\n",
       "      <td>1181227.0</td>\n",
       "      <td>1854479.0</td>\n",
       "      <td>2021</td>\n",
       "      <td>1/16/2021 15:49</td>\n",
       "      <td>41.755932</td>\n",
       "      <td>-87.611409</td>\n",
       "      <td>(41.755931978, -87.611408601)</td>\n",
       "    </tr>\n",
       "    <tr>\n",
       "      <th>2021-01-02 23:02:00</th>\n",
       "      <td>12260076</td>\n",
       "      <td>JE101741</td>\n",
       "      <td>075XX S COLES AVE</td>\n",
       "      <td>460</td>\n",
       "      <td>BATTERY</td>\n",
       "      <td>SIMPLE</td>\n",
       "      <td>APARTMENT</td>\n",
       "      <td>False</td>\n",
       "      <td>False</td>\n",
       "      <td>421</td>\n",
       "      <td>...</td>\n",
       "      <td>7.0</td>\n",
       "      <td>43</td>\n",
       "      <td>08B</td>\n",
       "      <td>1195976.0</td>\n",
       "      <td>1855570.0</td>\n",
       "      <td>2021</td>\n",
       "      <td>1/16/2021 15:49</td>\n",
       "      <td>41.758573</td>\n",
       "      <td>-87.557322</td>\n",
       "      <td>(41.758573421, -87.557321761)</td>\n",
       "    </tr>\n",
       "  </tbody>\n",
       "</table>\n",
       "<p>5 rows × 21 columns</p>\n",
       "</div>"
      ],
      "text/plain": [
       "                           ID Case Number                  Block  IUCR  \\\n",
       "Date                                                                     \n",
       "2021-01-02 12:32:00  12259624    JE101261   046XX W VAN BUREN ST  4650   \n",
       "2021-01-06 12:18:00  12262739    JE104970  013XX S FAIRFIELD AVE  143A   \n",
       "2021-01-07 10:52:00  12263546    JE105815        036XX W POLK ST  143A   \n",
       "2021-01-01 01:00:00  12259461    JE100546     076XX S RHODES AVE   460   \n",
       "2021-01-02 23:02:00  12260076    JE101741      075XX S COLES AVE   460   \n",
       "\n",
       "                          Primary Type                      Description  \\\n",
       "Date                                                                      \n",
       "2021-01-02 12:32:00      OTHER OFFENSE  SEX OFFENDER - FAIL TO REGISTER   \n",
       "2021-01-06 12:18:00  WEAPONS VIOLATION    UNLAWFUL POSSESSION - HANDGUN   \n",
       "2021-01-07 10:52:00  WEAPONS VIOLATION    UNLAWFUL POSSESSION - HANDGUN   \n",
       "2021-01-01 01:00:00            BATTERY                           SIMPLE   \n",
       "2021-01-02 23:02:00            BATTERY                           SIMPLE   \n",
       "\n",
       "                    Location Description  Arrest  Domestic  Beat  ...  Ward  \\\n",
       "Date                                                              ...         \n",
       "2021-01-02 12:32:00               STREET    True     False  1131  ...  24.0   \n",
       "2021-01-06 12:18:00               STREET    True     False  1023  ...  28.0   \n",
       "2021-01-07 10:52:00               STREET    True     False  1133  ...  24.0   \n",
       "2021-01-01 01:00:00            RESIDENCE   False     False   624  ...   6.0   \n",
       "2021-01-02 23:02:00            APARTMENT   False     False   421  ...   7.0   \n",
       "\n",
       "                     Community Area  FBI Code X Coordinate  Y Coordinate  \\\n",
       "Date                                                                       \n",
       "2021-01-02 12:32:00              25        26    1145550.0     1897622.0   \n",
       "2021-01-06 12:18:00              29        15    1158247.0     1893603.0   \n",
       "2021-01-07 10:52:00              27        15    1152328.0     1896125.0   \n",
       "2021-01-01 01:00:00              69       08B    1181227.0     1854479.0   \n",
       "2021-01-02 23:02:00              43       08B    1195976.0     1855570.0   \n",
       "\n",
       "                     Year       Updated On   Latitude  Longitude  \\\n",
       "Date                                                               \n",
       "2021-01-02 12:32:00  2021  1/16/2021 15:49  41.875070 -87.741068   \n",
       "2021-01-06 12:18:00  2021  1/16/2021 15:49  41.863792 -87.694560   \n",
       "2021-01-07 10:52:00  2021  1/16/2021 15:49  41.870831 -87.716222   \n",
       "2021-01-01 01:00:00  2021  1/16/2021 15:49  41.755932 -87.611409   \n",
       "2021-01-02 23:02:00  2021  1/16/2021 15:49  41.758573 -87.557322   \n",
       "\n",
       "                                          Location  \n",
       "Date                                                \n",
       "2021-01-02 12:32:00  (41.875069995, -87.741068317)  \n",
       "2021-01-06 12:18:00  (41.863791576, -87.694559683)  \n",
       "2021-01-07 10:52:00  (41.870831024, -87.716221583)  \n",
       "2021-01-01 01:00:00  (41.755931978, -87.611408601)  \n",
       "2021-01-02 23:02:00  (41.758573421, -87.557321761)  \n",
       "\n",
       "[5 rows x 21 columns]"
      ]
     },
     "execution_count": 17,
     "metadata": {},
     "output_type": "execute_result"
    }
   ],
   "source": [
    "crimes.tail()"
   ]
  },
  {
   "cell_type": "code",
   "execution_count": 18,
   "metadata": {},
   "outputs": [
    {
     "data": {
      "text/plain": [
       "DatetimeIndex(['2021-12-19 07:23:00', '2021-04-16 20:45:00',\n",
       "               '2021-10-21 11:00:00', '2021-11-14 06:00:00',\n",
       "               '2021-11-14 04:00:00', '2021-11-14 09:00:00',\n",
       "               '2021-11-14 14:00:00', '2021-11-14 00:00:00',\n",
       "               '2021-01-09 15:59:00', '2021-04-28 20:18:00',\n",
       "               ...\n",
       "               '2021-01-04 18:30:00', '2021-01-04 11:00:00',\n",
       "               '2021-01-04 09:00:00', '2021-01-09 04:19:00',\n",
       "               '2021-01-05 00:46:00', '2021-01-02 12:32:00',\n",
       "               '2021-01-06 12:18:00', '2021-01-07 10:52:00',\n",
       "               '2021-01-01 01:00:00', '2021-01-02 23:02:00'],\n",
       "              dtype='datetime64[ns]', name='Date', length=20000, freq=None)"
      ]
     },
     "execution_count": 18,
     "metadata": {},
     "output_type": "execute_result"
    }
   ],
   "source": [
    "crimes.index"
   ]
  },
  {
   "cell_type": "code",
   "execution_count": null,
   "metadata": {},
   "outputs": [],
   "source": [
    "crimes.info(verbose=True) # setting verbose to true gives us detailed information."
   ]
  },
  {
   "cell_type": "markdown",
   "metadata": {},
   "source": [
    "Resampling is a very powerful feature of Pandas. You can leverage if you have a datetime type index in your dataset. Let's resample the dataset by day. \n",
    "\n",
    "(For more information on re-sampling, look at https://towardsdatascience.com/using-the-pandas-resample-function-a231144194c4 )"
   ]
  },
  {
   "cell_type": "code",
   "execution_count": 19,
   "metadata": {
    "tags": []
   },
   "outputs": [],
   "source": [
    "daily_crimes = crimes['Primary Type'].resample('D').count()  #resample, count crimes per day\n",
    "daily_crimes.sort_index(inplace=True)"
   ]
  },
  {
   "cell_type": "code",
   "execution_count": 20,
   "metadata": {
    "tags": []
   },
   "outputs": [
    {
     "data": {
      "text/plain": [
       "Date\n",
       "2021-12-24    0\n",
       "2021-12-25    0\n",
       "2021-12-26    1\n",
       "2021-12-27    0\n",
       "2021-12-28    1\n",
       "Freq: D, Name: Primary Type, dtype: int64"
      ]
     },
     "execution_count": 20,
     "metadata": {},
     "output_type": "execute_result"
    }
   ],
   "source": [
    "daily_crimes.tail()"
   ]
  },
  {
   "cell_type": "code",
   "execution_count": 21,
   "metadata": {
    "tags": []
   },
   "outputs": [
    {
     "data": {
      "text/plain": [
       "<Axes: xlabel='Date'>"
      ]
     },
     "execution_count": 21,
     "metadata": {},
     "output_type": "execute_result"
    },
    {
     "data": {
      "image/png": "[encoded data removed]",
      "text/plain": [
       "<Figure size 640x480 with 1 Axes>"
      ]
     },
     "metadata": {},
     "output_type": "display_data"
    }
   ],
   "source": [
    "daily_crimesDec = daily_crimes['2021-12']\n",
    "daily_crimesDec.plot()"
   ]
  },
  {
   "cell_type": "markdown",
   "metadata": {},
   "source": [
    "## REVIEW: Pandas data structures\n",
    "\n",
    "Let's explain on the data we have…\n",
    "\n",
    "### Series\n",
    "\n",
    "Series is a one-dimensional labeled array capable of holding any data type (integers, strings, floating point numbers, Python objects, etc.).\n",
    "\n",
    "So, `crime_types` is a series of strings designating types of crimes and labeled with the crime's time of occurrence."
   ]
  },
  {
   "cell_type": "code",
   "execution_count": 22,
   "metadata": {
    "tags": []
   },
   "outputs": [
    {
     "data": {
      "text/plain": [
       "Date\n",
       "2021-12-19 07:23:00              BATTERY\n",
       "2021-04-16 20:45:00                THEFT\n",
       "2021-10-21 11:00:00        OTHER OFFENSE\n",
       "2021-11-14 06:00:00                THEFT\n",
       "2021-11-14 04:00:00              BATTERY\n",
       "                             ...        \n",
       "2021-01-02 12:32:00        OTHER OFFENSE\n",
       "2021-01-06 12:18:00    WEAPONS VIOLATION\n",
       "2021-01-07 10:52:00    WEAPONS VIOLATION\n",
       "2021-01-01 01:00:00              BATTERY\n",
       "2021-01-02 23:02:00              BATTERY\n",
       "Name: Primary Type, Length: 20000, dtype: object"
      ]
     },
     "execution_count": 22,
     "metadata": {},
     "output_type": "execute_result"
    }
   ],
   "source": [
    "crime_types = crimes['Primary Type']\n",
    "crime_types"
   ]
  },
  {
   "cell_type": "markdown",
   "metadata": {},
   "source": [
    "On the other hand, `daily_crimesDec` is a series with the number of crimes per day."
   ]
  },
  {
   "cell_type": "code",
   "execution_count": 23,
   "metadata": {
    "tags": []
   },
   "outputs": [
    {
     "data": {
      "text/plain": [
       "Date\n",
       "2021-12-01    0\n",
       "2021-12-02    2\n",
       "2021-12-03    0\n",
       "2021-12-04    1\n",
       "2021-12-05    0\n",
       "2021-12-06    0\n",
       "2021-12-07    1\n",
       "2021-12-08    0\n",
       "2021-12-09    0\n",
       "2021-12-10    0\n",
       "2021-12-11    0\n",
       "2021-12-12    0\n",
       "2021-12-13    0\n",
       "2021-12-14    0\n",
       "2021-12-15    0\n",
       "2021-12-16    1\n",
       "2021-12-17    1\n",
       "2021-12-18    0\n",
       "2021-12-19    1\n",
       "2021-12-20    1\n",
       "2021-12-21    1\n",
       "2021-12-22    2\n",
       "2021-12-23    0\n",
       "2021-12-24    0\n",
       "2021-12-25    0\n",
       "2021-12-26    1\n",
       "2021-12-27    0\n",
       "2021-12-28    1\n",
       "Freq: D, Name: Primary Type, dtype: int64"
      ]
     },
     "execution_count": 23,
     "metadata": {},
     "output_type": "execute_result"
    }
   ],
   "source": [
    "daily_crimesDec"
   ]
  },
  {
   "cell_type": "markdown",
   "metadata": {},
   "source": [
    "`crime_type` has an index which is a NumPy array"
   ]
  },
  {
   "cell_type": "code",
   "execution_count": 24,
   "metadata": {
    "tags": []
   },
   "outputs": [
    {
     "data": {
      "text/plain": [
       "DatetimeIndex(['2021-12-19 07:23:00', '2021-04-16 20:45:00',\n",
       "               '2021-10-21 11:00:00', '2021-11-14 06:00:00',\n",
       "               '2021-11-14 04:00:00', '2021-11-14 09:00:00',\n",
       "               '2021-11-14 14:00:00', '2021-11-14 00:00:00',\n",
       "               '2021-01-09 15:59:00', '2021-04-28 20:18:00',\n",
       "               ...\n",
       "               '2021-01-04 18:30:00', '2021-01-04 11:00:00',\n",
       "               '2021-01-04 09:00:00', '2021-01-09 04:19:00',\n",
       "               '2021-01-05 00:46:00', '2021-01-02 12:32:00',\n",
       "               '2021-01-06 12:18:00', '2021-01-07 10:52:00',\n",
       "               '2021-01-01 01:00:00', '2021-01-02 23:02:00'],\n",
       "              dtype='datetime64[ns]', name='Date', length=20000, freq=None)"
      ]
     },
     "execution_count": 24,
     "metadata": {},
     "output_type": "execute_result"
    }
   ],
   "source": [
    "crime_types.index"
   ]
  },
  {
   "cell_type": "markdown",
   "metadata": {},
   "source": [
    "… and and array of values too"
   ]
  },
  {
   "cell_type": "code",
   "execution_count": 25,
   "metadata": {
    "tags": []
   },
   "outputs": [
    {
     "data": {
      "text/plain": [
       "array(['BATTERY', 'THEFT', 'OTHER OFFENSE', ..., 'WEAPONS VIOLATION',\n",
       "       'BATTERY', 'BATTERY'], dtype=object)"
      ]
     },
     "execution_count": 25,
     "metadata": {},
     "output_type": "execute_result"
    }
   ],
   "source": [
    "crime_types.values"
   ]
  },
  {
   "cell_type": "markdown",
   "metadata": {},
   "source": [
    "Remember, **data alignment is intrinsic**. If we sort the index, values are still correctly matched to corresponding labels."
   ]
  },
  {
   "cell_type": "code",
   "execution_count": 26,
   "metadata": {
    "tags": []
   },
   "outputs": [
    {
     "data": {
      "text/plain": [
       "Date\n",
       "2021-01-01                 THEFT\n",
       "2021-01-01               ASSAULT\n",
       "2021-01-01               BATTERY\n",
       "2021-01-01         OTHER OFFENSE\n",
       "2021-01-01    DECEPTIVE PRACTICE\n",
       "Name: Primary Type, dtype: object"
      ]
     },
     "execution_count": 26,
     "metadata": {},
     "output_type": "execute_result"
    }
   ],
   "source": [
    "crime_types.sort_index(ascending=True).head()"
   ]
  },
  {
   "cell_type": "code",
   "execution_count": 27,
   "metadata": {
    "tags": []
   },
   "outputs": [
    {
     "data": {
      "text/plain": [
       "Date\n",
       "2021-12-28 00:00:00               ROBBERY\n",
       "2021-12-26 12:00:00    DECEPTIVE PRACTICE\n",
       "2021-12-22 09:00:00    DECEPTIVE PRACTICE\n",
       "2021-12-22 00:01:00    DECEPTIVE PRACTICE\n",
       "2021-12-21 18:30:00               BATTERY\n",
       "Name: Primary Type, dtype: object"
      ]
     },
     "execution_count": 27,
     "metadata": {},
     "output_type": "execute_result"
    }
   ],
   "source": [
    "crime_types.sort_index(ascending=False).head()"
   ]
  },
  {
   "cell_type": "markdown",
   "metadata": {},
   "source": [
    "### DataFrame\n",
    "\n",
    "A table-like data structure. Essentially the whole crimes object is a DataFrame."
   ]
  },
  {
   "cell_type": "code",
   "execution_count": 28,
   "metadata": {
    "tags": []
   },
   "outputs": [
    {
     "data": {
      "text/html": [
       "<div>\n",
       "<style scoped>\n",
       "    .dataframe tbody tr th:only-of-type {\n",
       "        vertical-align: middle;\n",
       "    }\n",
       "\n",
       "    .dataframe tbody tr th {\n",
       "        vertical-align: top;\n",
       "    }\n",
       "\n",
       "    .dataframe thead th {\n",
       "        text-align: right;\n",
       "    }\n",
       "</style>\n",
       "<table border=\"1\" class=\"dataframe\">\n",
       "  <thead>\n",
       "    <tr style=\"text-align: right;\">\n",
       "      <th></th>\n",
       "      <th>ID</th>\n",
       "      <th>Case Number</th>\n",
       "      <th>Block</th>\n",
       "      <th>IUCR</th>\n",
       "      <th>Primary Type</th>\n",
       "      <th>Description</th>\n",
       "      <th>Location Description</th>\n",
       "      <th>Arrest</th>\n",
       "      <th>Domestic</th>\n",
       "      <th>Beat</th>\n",
       "      <th>...</th>\n",
       "      <th>Ward</th>\n",
       "      <th>Community Area</th>\n",
       "      <th>FBI Code</th>\n",
       "      <th>X Coordinate</th>\n",
       "      <th>Y Coordinate</th>\n",
       "      <th>Year</th>\n",
       "      <th>Updated On</th>\n",
       "      <th>Latitude</th>\n",
       "      <th>Longitude</th>\n",
       "      <th>Location</th>\n",
       "    </tr>\n",
       "    <tr>\n",
       "      <th>Date</th>\n",
       "      <th></th>\n",
       "      <th></th>\n",
       "      <th></th>\n",
       "      <th></th>\n",
       "      <th></th>\n",
       "      <th></th>\n",
       "      <th></th>\n",
       "      <th></th>\n",
       "      <th></th>\n",
       "      <th></th>\n",
       "      <th></th>\n",
       "      <th></th>\n",
       "      <th></th>\n",
       "      <th></th>\n",
       "      <th></th>\n",
       "      <th></th>\n",
       "      <th></th>\n",
       "      <th></th>\n",
       "      <th></th>\n",
       "      <th></th>\n",
       "      <th></th>\n",
       "    </tr>\n",
       "  </thead>\n",
       "  <tbody>\n",
       "    <tr>\n",
       "      <th>2021-12-19 07:23:00</th>\n",
       "      <td>12571973</td>\n",
       "      <td>JE482457</td>\n",
       "      <td>042XX S MOZART ST</td>\n",
       "      <td>460</td>\n",
       "      <td>BATTERY</td>\n",
       "      <td>SIMPLE</td>\n",
       "      <td>SIDEWALK</td>\n",
       "      <td>True</td>\n",
       "      <td>True</td>\n",
       "      <td>921</td>\n",
       "      <td>...</td>\n",
       "      <td>15.0</td>\n",
       "      <td>58</td>\n",
       "      <td>08B</td>\n",
       "      <td>1158067.0</td>\n",
       "      <td>1876425.0</td>\n",
       "      <td>2021</td>\n",
       "      <td>9/12/2022 16:45</td>\n",
       "      <td>41.816657</td>\n",
       "      <td>-87.695689</td>\n",
       "      <td>(41.81665685, -87.695688608)</td>\n",
       "    </tr>\n",
       "    <tr>\n",
       "      <th>2021-04-16 20:45:00</th>\n",
       "      <td>12343475</td>\n",
       "      <td>JE202728</td>\n",
       "      <td>056XX N RIDGE AVE</td>\n",
       "      <td>820</td>\n",
       "      <td>THEFT</td>\n",
       "      <td>$500 AND UNDER</td>\n",
       "      <td>OTHER (SPECIFY)</td>\n",
       "      <td>False</td>\n",
       "      <td>False</td>\n",
       "      <td>2013</td>\n",
       "      <td>...</td>\n",
       "      <td>48.0</td>\n",
       "      <td>77</td>\n",
       "      <td>6</td>\n",
       "      <td>NaN</td>\n",
       "      <td>NaN</td>\n",
       "      <td>2021</td>\n",
       "      <td>4/23/2021 16:51</td>\n",
       "      <td>NaN</td>\n",
       "      <td>NaN</td>\n",
       "      <td>NaN</td>\n",
       "    </tr>\n",
       "    <tr>\n",
       "      <th>2021-10-21 11:00:00</th>\n",
       "      <td>12602803</td>\n",
       "      <td>JF125633</td>\n",
       "      <td>083XX S STONY ISLAND AVE</td>\n",
       "      <td>500E</td>\n",
       "      <td>OTHER OFFENSE</td>\n",
       "      <td>EAVESDROPPING</td>\n",
       "      <td>OTHER (SPECIFY)</td>\n",
       "      <td>False</td>\n",
       "      <td>False</td>\n",
       "      <td>412</td>\n",
       "      <td>...</td>\n",
       "      <td>8.0</td>\n",
       "      <td>45</td>\n",
       "      <td>26</td>\n",
       "      <td>1188260.0</td>\n",
       "      <td>1849805.0</td>\n",
       "      <td>2021</td>\n",
       "      <td>2/27/2022 15:46</td>\n",
       "      <td>41.742941</td>\n",
       "      <td>-87.585783</td>\n",
       "      <td>(41.74294124, -87.585783412)</td>\n",
       "    </tr>\n",
       "    <tr>\n",
       "      <th>2021-11-14 06:00:00</th>\n",
       "      <td>12540388</td>\n",
       "      <td>JE444591</td>\n",
       "      <td>086XX S COTTAGE GROVE AVE</td>\n",
       "      <td>850</td>\n",
       "      <td>THEFT</td>\n",
       "      <td>ATTEMPT THEFT</td>\n",
       "      <td>CONVENIENCE STORE</td>\n",
       "      <td>False</td>\n",
       "      <td>False</td>\n",
       "      <td>632</td>\n",
       "      <td>...</td>\n",
       "      <td>6.0</td>\n",
       "      <td>44</td>\n",
       "      <td>6</td>\n",
       "      <td>1183071.0</td>\n",
       "      <td>1847869.0</td>\n",
       "      <td>2021</td>\n",
       "      <td>11/21/2021 15:48</td>\n",
       "      <td>41.737751</td>\n",
       "      <td>-87.604856</td>\n",
       "      <td>(41.737750767, -87.604855911)</td>\n",
       "    </tr>\n",
       "    <tr>\n",
       "      <th>2021-11-14 04:00:00</th>\n",
       "      <td>12541139</td>\n",
       "      <td>JE445494</td>\n",
       "      <td>034XX W 38TH ST</td>\n",
       "      <td>486</td>\n",
       "      <td>BATTERY</td>\n",
       "      <td>DOMESTIC BATTERY SIMPLE</td>\n",
       "      <td>RESIDENCE</td>\n",
       "      <td>False</td>\n",
       "      <td>True</td>\n",
       "      <td>911</td>\n",
       "      <td>...</td>\n",
       "      <td>12.0</td>\n",
       "      <td>58</td>\n",
       "      <td>08B</td>\n",
       "      <td>1154073.0</td>\n",
       "      <td>1879187.0</td>\n",
       "      <td>2021</td>\n",
       "      <td>11/21/2021 15:48</td>\n",
       "      <td>41.824317</td>\n",
       "      <td>-87.710266</td>\n",
       "      <td>(41.824316537, -87.710266215)</td>\n",
       "    </tr>\n",
       "  </tbody>\n",
       "</table>\n",
       "<p>5 rows × 21 columns</p>\n",
       "</div>"
      ],
      "text/plain": [
       "                           ID Case Number                      Block  IUCR  \\\n",
       "Date                                                                         \n",
       "2021-12-19 07:23:00  12571973    JE482457          042XX S MOZART ST   460   \n",
       "2021-04-16 20:45:00  12343475    JE202728          056XX N RIDGE AVE   820   \n",
       "2021-10-21 11:00:00  12602803    JF125633   083XX S STONY ISLAND AVE  500E   \n",
       "2021-11-14 06:00:00  12540388    JE444591  086XX S COTTAGE GROVE AVE   850   \n",
       "2021-11-14 04:00:00  12541139    JE445494            034XX W 38TH ST   486   \n",
       "\n",
       "                      Primary Type              Description  \\\n",
       "Date                                                          \n",
       "2021-12-19 07:23:00        BATTERY                   SIMPLE   \n",
       "2021-04-16 20:45:00          THEFT           $500 AND UNDER   \n",
       "2021-10-21 11:00:00  OTHER OFFENSE            EAVESDROPPING   \n",
       "2021-11-14 06:00:00          THEFT            ATTEMPT THEFT   \n",
       "2021-11-14 04:00:00        BATTERY  DOMESTIC BATTERY SIMPLE   \n",
       "\n",
       "                    Location Description  Arrest  Domestic  Beat  ...  Ward  \\\n",
       "Date                                                              ...         \n",
       "2021-12-19 07:23:00             SIDEWALK    True      True   921  ...  15.0   \n",
       "2021-04-16 20:45:00      OTHER (SPECIFY)   False     False  2013  ...  48.0   \n",
       "2021-10-21 11:00:00      OTHER (SPECIFY)   False     False   412  ...   8.0   \n",
       "2021-11-14 06:00:00    CONVENIENCE STORE   False     False   632  ...   6.0   \n",
       "2021-11-14 04:00:00            RESIDENCE   False      True   911  ...  12.0   \n",
       "\n",
       "                     Community Area  FBI Code X Coordinate  Y Coordinate  \\\n",
       "Date                                                                       \n",
       "2021-12-19 07:23:00              58       08B    1158067.0     1876425.0   \n",
       "2021-04-16 20:45:00              77         6          NaN           NaN   \n",
       "2021-10-21 11:00:00              45        26    1188260.0     1849805.0   \n",
       "2021-11-14 06:00:00              44         6    1183071.0     1847869.0   \n",
       "2021-11-14 04:00:00              58       08B    1154073.0     1879187.0   \n",
       "\n",
       "                     Year        Updated On   Latitude  Longitude  \\\n",
       "Date                                                                \n",
       "2021-12-19 07:23:00  2021   9/12/2022 16:45  41.816657 -87.695689   \n",
       "2021-04-16 20:45:00  2021   4/23/2021 16:51        NaN        NaN   \n",
       "2021-10-21 11:00:00  2021   2/27/2022 15:46  41.742941 -87.585783   \n",
       "2021-11-14 06:00:00  2021  11/21/2021 15:48  41.737751 -87.604856   \n",
       "2021-11-14 04:00:00  2021  11/21/2021 15:48  41.824317 -87.710266   \n",
       "\n",
       "                                          Location  \n",
       "Date                                                \n",
       "2021-12-19 07:23:00   (41.81665685, -87.695688608)  \n",
       "2021-04-16 20:45:00                            NaN  \n",
       "2021-10-21 11:00:00   (41.74294124, -87.585783412)  \n",
       "2021-11-14 06:00:00  (41.737750767, -87.604855911)  \n",
       "2021-11-14 04:00:00  (41.824316537, -87.710266215)  \n",
       "\n",
       "[5 rows x 21 columns]"
      ]
     },
     "execution_count": 28,
     "metadata": {},
     "output_type": "execute_result"
    }
   ],
   "source": [
    "crimes.head()"
   ]
  },
  {
   "cell_type": "markdown",
   "metadata": {},
   "source": [
    "It also has an index of rows:"
   ]
  },
  {
   "cell_type": "code",
   "execution_count": 29,
   "metadata": {},
   "outputs": [
    {
     "data": {
      "text/plain": [
       "DatetimeIndex(['2021-12-19 07:23:00', '2021-04-16 20:45:00',\n",
       "               '2021-10-21 11:00:00', '2021-11-14 06:00:00',\n",
       "               '2021-11-14 04:00:00', '2021-11-14 09:00:00',\n",
       "               '2021-11-14 14:00:00', '2021-11-14 00:00:00',\n",
       "               '2021-01-09 15:59:00', '2021-04-28 20:18:00',\n",
       "               ...\n",
       "               '2021-01-04 18:30:00', '2021-01-04 11:00:00',\n",
       "               '2021-01-04 09:00:00', '2021-01-09 04:19:00',\n",
       "               '2021-01-05 00:46:00', '2021-01-02 12:32:00',\n",
       "               '2021-01-06 12:18:00', '2021-01-07 10:52:00',\n",
       "               '2021-01-01 01:00:00', '2021-01-02 23:02:00'],\n",
       "              dtype='datetime64[ns]', name='Date', length=20000, freq=None)"
      ]
     },
     "execution_count": 29,
     "metadata": {},
     "output_type": "execute_result"
    }
   ],
   "source": [
    "crimes.index"
   ]
  },
  {
   "cell_type": "markdown",
   "metadata": {},
   "source": [
    "… but also an index of columns"
   ]
  },
  {
   "cell_type": "code",
   "execution_count": 30,
   "metadata": {},
   "outputs": [
    {
     "data": {
      "text/plain": [
       "Index(['ID', 'Case Number', 'Block', 'IUCR', 'Primary Type', 'Description',\n",
       "       'Location Description', 'Arrest', 'Domestic', 'Beat', 'District',\n",
       "       'Ward', 'Community Area', 'FBI Code', 'X Coordinate', 'Y Coordinate',\n",
       "       'Year', 'Updated On', 'Latitude', 'Longitude', 'Location'],\n",
       "      dtype='object')"
      ]
     },
     "execution_count": 30,
     "metadata": {},
     "output_type": "execute_result"
    }
   ],
   "source": [
    "crimes.columns"
   ]
  },
  {
   "cell_type": "markdown",
   "metadata": {},
   "source": [
    "## TANGENT: Creating pandas objects\n",
    "\n",
    "So far we've only been creating Pandas objects from CSV files using the `pd.read_csv` function, but we can also create new ones from other Python data structures (which will come in handy later when we get to scraping data from the web)."
   ]
  },
  {
   "cell_type": "code",
   "execution_count": 31,
   "metadata": {},
   "outputs": [
    {
     "data": {
      "text/plain": [
       "A    15\n",
       "B     8\n",
       "C     6\n",
       "D     2\n",
       "E    10\n",
       "dtype: int64"
      ]
     },
     "execution_count": 31,
     "metadata": {},
     "output_type": "execute_result"
    }
   ],
   "source": [
    "s = pd.Series({'A': 15, 'B': 8, 'C': 6, 'D': 2, 'E': 10})\n",
    "s"
   ]
  },
  {
   "cell_type": "code",
   "execution_count": 32,
   "metadata": {},
   "outputs": [
    {
     "data": {
      "text/html": [
       "<div>\n",
       "<style scoped>\n",
       "    .dataframe tbody tr th:only-of-type {\n",
       "        vertical-align: middle;\n",
       "    }\n",
       "\n",
       "    .dataframe tbody tr th {\n",
       "        vertical-align: top;\n",
       "    }\n",
       "\n",
       "    .dataframe thead th {\n",
       "        text-align: right;\n",
       "    }\n",
       "</style>\n",
       "<table border=\"1\" class=\"dataframe\">\n",
       "  <thead>\n",
       "    <tr style=\"text-align: right;\">\n",
       "      <th></th>\n",
       "      <th>age</th>\n",
       "      <th>test</th>\n",
       "    </tr>\n",
       "  </thead>\n",
       "  <tbody>\n",
       "    <tr>\n",
       "      <th>A</th>\n",
       "      <td>15</td>\n",
       "      <td>2.60</td>\n",
       "    </tr>\n",
       "    <tr>\n",
       "      <th>B</th>\n",
       "      <td>8</td>\n",
       "      <td>69.27</td>\n",
       "    </tr>\n",
       "    <tr>\n",
       "      <th>C</th>\n",
       "      <td>6</td>\n",
       "      <td>14.20</td>\n",
       "    </tr>\n",
       "    <tr>\n",
       "      <th>D</th>\n",
       "      <td>2</td>\n",
       "      <td>8.00</td>\n",
       "    </tr>\n",
       "    <tr>\n",
       "      <th>E</th>\n",
       "      <td>10</td>\n",
       "      <td>5.93</td>\n",
       "    </tr>\n",
       "  </tbody>\n",
       "</table>\n",
       "</div>"
      ],
      "text/plain": [
       "   age   test\n",
       "A   15   2.60\n",
       "B    8  69.27\n",
       "C    6  14.20\n",
       "D    2   8.00\n",
       "E   10   5.93"
      ]
     },
     "execution_count": 32,
     "metadata": {},
     "output_type": "execute_result"
    }
   ],
   "source": [
    "df = pd.DataFrame({'age': s, 'test': {'A': 2.6, 'B': 69.27, 'C': 14.2, 'D': 8.0, 'E': 5.93}})\n",
    "df"
   ]
  },
  {
   "cell_type": "markdown",
   "metadata": {},
   "source": [
    "## Selecting values\n",
    "\n",
    "Now let's give a very quick overview of the many ways of data selection in Pandas.\n",
    "\n",
    "### Label-based using `.loc`\n",
    "\n",
    "By single value – this actually returns a series when we select a single column/row in a DataFrame"
   ]
  },
  {
   "cell_type": "code",
   "execution_count": 33,
   "metadata": {},
   "outputs": [
    {
     "data": {
      "text/plain": [
       "age     15.0\n",
       "test     2.6\n",
       "Name: A, dtype: float64"
      ]
     },
     "execution_count": 33,
     "metadata": {},
     "output_type": "execute_result"
    }
   ],
   "source": [
    "df.loc['A']"
   ]
  },
  {
   "cell_type": "markdown",
   "metadata": {},
   "source": [
    "If we're selecting in a Series, we get back a scalar"
   ]
  },
  {
   "cell_type": "code",
   "execution_count": 34,
   "metadata": {},
   "outputs": [
    {
     "data": {
      "text/plain": [
       "15"
      ]
     },
     "execution_count": 34,
     "metadata": {},
     "output_type": "execute_result"
    }
   ],
   "source": [
    "s.loc['A']"
   ]
  },
  {
   "cell_type": "markdown",
   "metadata": {},
   "source": [
    "Or we can select by passing a list of labels to select (which keeps the same dimensionality)"
   ]
  },
  {
   "cell_type": "code",
   "execution_count": 35,
   "metadata": {},
   "outputs": [
    {
     "data": {
      "text/html": [
       "<div>\n",
       "<style scoped>\n",
       "    .dataframe tbody tr th:only-of-type {\n",
       "        vertical-align: middle;\n",
       "    }\n",
       "\n",
       "    .dataframe tbody tr th {\n",
       "        vertical-align: top;\n",
       "    }\n",
       "\n",
       "    .dataframe thead th {\n",
       "        text-align: right;\n",
       "    }\n",
       "</style>\n",
       "<table border=\"1\" class=\"dataframe\">\n",
       "  <thead>\n",
       "    <tr style=\"text-align: right;\">\n",
       "      <th></th>\n",
       "      <th>age</th>\n",
       "      <th>test</th>\n",
       "    </tr>\n",
       "  </thead>\n",
       "  <tbody>\n",
       "    <tr>\n",
       "      <th>A</th>\n",
       "      <td>15</td>\n",
       "      <td>2.60</td>\n",
       "    </tr>\n",
       "    <tr>\n",
       "      <th>B</th>\n",
       "      <td>8</td>\n",
       "      <td>69.27</td>\n",
       "    </tr>\n",
       "  </tbody>\n",
       "</table>\n",
       "</div>"
      ],
      "text/plain": [
       "   age   test\n",
       "A   15   2.60\n",
       "B    8  69.27"
      ]
     },
     "execution_count": 35,
     "metadata": {},
     "output_type": "execute_result"
    }
   ],
   "source": [
    "# using lists\n",
    "df.loc[['A', 'B']]"
   ]
  },
  {
   "cell_type": "code",
   "execution_count": 36,
   "metadata": {},
   "outputs": [
    {
     "data": {
      "text/plain": [
       "A    15\n",
       "B     8\n",
       "dtype: int64"
      ]
     },
     "execution_count": 36,
     "metadata": {},
     "output_type": "execute_result"
    }
   ],
   "source": [
    "s.loc[['A', 'B']]"
   ]
  },
  {
   "cell_type": "markdown",
   "metadata": {},
   "source": [
    "We can also select columns"
   ]
  },
  {
   "cell_type": "code",
   "execution_count": 37,
   "metadata": {},
   "outputs": [
    {
     "data": {
      "text/html": [
       "<div>\n",
       "<style scoped>\n",
       "    .dataframe tbody tr th:only-of-type {\n",
       "        vertical-align: middle;\n",
       "    }\n",
       "\n",
       "    .dataframe tbody tr th {\n",
       "        vertical-align: top;\n",
       "    }\n",
       "\n",
       "    .dataframe thead th {\n",
       "        text-align: right;\n",
       "    }\n",
       "</style>\n",
       "<table border=\"1\" class=\"dataframe\">\n",
       "  <thead>\n",
       "    <tr style=\"text-align: right;\">\n",
       "      <th></th>\n",
       "      <th>age</th>\n",
       "    </tr>\n",
       "  </thead>\n",
       "  <tbody>\n",
       "    <tr>\n",
       "      <th>A</th>\n",
       "      <td>15</td>\n",
       "    </tr>\n",
       "    <tr>\n",
       "      <th>B</th>\n",
       "      <td>8</td>\n",
       "    </tr>\n",
       "    <tr>\n",
       "      <th>C</th>\n",
       "      <td>6</td>\n",
       "    </tr>\n",
       "    <tr>\n",
       "      <th>D</th>\n",
       "      <td>2</td>\n",
       "    </tr>\n",
       "    <tr>\n",
       "      <th>E</th>\n",
       "      <td>10</td>\n",
       "    </tr>\n",
       "  </tbody>\n",
       "</table>\n",
       "</div>"
      ],
      "text/plain": [
       "   age\n",
       "A   15\n",
       "B    8\n",
       "C    6\n",
       "D    2\n",
       "E   10"
      ]
     },
     "execution_count": 37,
     "metadata": {},
     "output_type": "execute_result"
    }
   ],
   "source": [
    "df.loc[:, ['age']]"
   ]
  },
  {
   "cell_type": "markdown",
   "metadata": {},
   "source": [
    "… or both by row and column"
   ]
  },
  {
   "cell_type": "code",
   "execution_count": 38,
   "metadata": {},
   "outputs": [
    {
     "data": {
      "text/html": [
       "<div>\n",
       "<style scoped>\n",
       "    .dataframe tbody tr th:only-of-type {\n",
       "        vertical-align: middle;\n",
       "    }\n",
       "\n",
       "    .dataframe tbody tr th {\n",
       "        vertical-align: top;\n",
       "    }\n",
       "\n",
       "    .dataframe thead th {\n",
       "        text-align: right;\n",
       "    }\n",
       "</style>\n",
       "<table border=\"1\" class=\"dataframe\">\n",
       "  <thead>\n",
       "    <tr style=\"text-align: right;\">\n",
       "      <th></th>\n",
       "      <th>age</th>\n",
       "    </tr>\n",
       "  </thead>\n",
       "  <tbody>\n",
       "    <tr>\n",
       "      <th>A</th>\n",
       "      <td>15</td>\n",
       "    </tr>\n",
       "    <tr>\n",
       "      <th>B</th>\n",
       "      <td>8</td>\n",
       "    </tr>\n",
       "  </tbody>\n",
       "</table>\n",
       "</div>"
      ],
      "text/plain": [
       "   age\n",
       "A   15\n",
       "B    8"
      ]
     },
     "execution_count": 38,
     "metadata": {},
     "output_type": "execute_result"
    }
   ],
   "source": [
    "df.loc[['A','B'], ['age']]"
   ]
  },
  {
   "cell_type": "markdown",
   "metadata": {},
   "source": [
    "Shorthand we've been using already for selecting a whole column"
   ]
  },
  {
   "cell_type": "code",
   "execution_count": 39,
   "metadata": {},
   "outputs": [
    {
     "data": {
      "text/plain": [
       "A    15\n",
       "B     8\n",
       "C     6\n",
       "D     2\n",
       "E    10\n",
       "Name: age, dtype: int64"
      ]
     },
     "execution_count": 39,
     "metadata": {},
     "output_type": "execute_result"
    }
   ],
   "source": [
    "df['age']"
   ]
  },
  {
   "cell_type": "markdown",
   "metadata": {},
   "source": [
    "If the column name doesn't contain spaces or doesn't clash with any object method names we can also use the following"
   ]
  },
  {
   "cell_type": "code",
   "execution_count": 40,
   "metadata": {},
   "outputs": [
    {
     "data": {
      "text/plain": [
       "A    15\n",
       "B     8\n",
       "C     6\n",
       "D     2\n",
       "E    10\n",
       "Name: age, dtype: int64"
      ]
     },
     "execution_count": 40,
     "metadata": {},
     "output_type": "execute_result"
    }
   ],
   "source": [
    "df.age"
   ]
  },
  {
   "cell_type": "markdown",
   "metadata": {},
   "source": [
    "### Index-based using `.iloc`\n",
    "\n",
    "To select using index numbers"
   ]
  },
  {
   "cell_type": "code",
   "execution_count": 41,
   "metadata": {},
   "outputs": [
    {
     "data": {
      "text/html": [
       "<div>\n",
       "<style scoped>\n",
       "    .dataframe tbody tr th:only-of-type {\n",
       "        vertical-align: middle;\n",
       "    }\n",
       "\n",
       "    .dataframe tbody tr th {\n",
       "        vertical-align: top;\n",
       "    }\n",
       "\n",
       "    .dataframe thead th {\n",
       "        text-align: right;\n",
       "    }\n",
       "</style>\n",
       "<table border=\"1\" class=\"dataframe\">\n",
       "  <thead>\n",
       "    <tr style=\"text-align: right;\">\n",
       "      <th></th>\n",
       "      <th>age</th>\n",
       "      <th>test</th>\n",
       "    </tr>\n",
       "  </thead>\n",
       "  <tbody>\n",
       "    <tr>\n",
       "      <th>A</th>\n",
       "      <td>15</td>\n",
       "      <td>2.6</td>\n",
       "    </tr>\n",
       "    <tr>\n",
       "      <th>C</th>\n",
       "      <td>6</td>\n",
       "      <td>14.2</td>\n",
       "    </tr>\n",
       "    <tr>\n",
       "      <th>D</th>\n",
       "      <td>2</td>\n",
       "      <td>8.0</td>\n",
       "    </tr>\n",
       "  </tbody>\n",
       "</table>\n",
       "</div>"
      ],
      "text/plain": [
       "   age  test\n",
       "A   15   2.6\n",
       "C    6  14.2\n",
       "D    2   8.0"
      ]
     },
     "execution_count": 41,
     "metadata": {},
     "output_type": "execute_result"
    }
   ],
   "source": [
    "df.iloc[[0, 2, 3]]"
   ]
  },
  {
   "cell_type": "code",
   "execution_count": 42,
   "metadata": {
    "scrolled": true
   },
   "outputs": [
    {
     "data": {
      "text/html": [
       "<div>\n",
       "<style scoped>\n",
       "    .dataframe tbody tr th:only-of-type {\n",
       "        vertical-align: middle;\n",
       "    }\n",
       "\n",
       "    .dataframe tbody tr th {\n",
       "        vertical-align: top;\n",
       "    }\n",
       "\n",
       "    .dataframe thead th {\n",
       "        text-align: right;\n",
       "    }\n",
       "</style>\n",
       "<table border=\"1\" class=\"dataframe\">\n",
       "  <thead>\n",
       "    <tr style=\"text-align: right;\">\n",
       "      <th></th>\n",
       "      <th>Description</th>\n",
       "    </tr>\n",
       "    <tr>\n",
       "      <th>Date</th>\n",
       "      <th></th>\n",
       "    </tr>\n",
       "  </thead>\n",
       "  <tbody>\n",
       "    <tr>\n",
       "      <th>2021-12-19 07:23:00</th>\n",
       "      <td>SIMPLE</td>\n",
       "    </tr>\n",
       "    <tr>\n",
       "      <th>2021-04-16 20:45:00</th>\n",
       "      <td>$500 AND UNDER</td>\n",
       "    </tr>\n",
       "    <tr>\n",
       "      <th>2021-10-21 11:00:00</th>\n",
       "      <td>EAVESDROPPING</td>\n",
       "    </tr>\n",
       "    <tr>\n",
       "      <th>2021-11-14 06:00:00</th>\n",
       "      <td>ATTEMPT THEFT</td>\n",
       "    </tr>\n",
       "    <tr>\n",
       "      <th>2021-11-14 04:00:00</th>\n",
       "      <td>DOMESTIC BATTERY SIMPLE</td>\n",
       "    </tr>\n",
       "    <tr>\n",
       "      <th>2021-11-14 09:00:00</th>\n",
       "      <td>$500 AND UNDER</td>\n",
       "    </tr>\n",
       "    <tr>\n",
       "      <th>2021-11-14 14:00:00</th>\n",
       "      <td>$500 AND UNDER</td>\n",
       "    </tr>\n",
       "    <tr>\n",
       "      <th>2021-11-14 00:00:00</th>\n",
       "      <td>DOMESTIC BATTERY SIMPLE</td>\n",
       "    </tr>\n",
       "    <tr>\n",
       "      <th>2021-01-09 15:59:00</th>\n",
       "      <td>BY FIRE</td>\n",
       "    </tr>\n",
       "    <tr>\n",
       "      <th>2021-04-28 20:18:00</th>\n",
       "      <td>VIOLATE ORDER OF PROTECTION</td>\n",
       "    </tr>\n",
       "  </tbody>\n",
       "</table>\n",
       "</div>"
      ],
      "text/plain": [
       "                                     Description\n",
       "Date                                            \n",
       "2021-12-19 07:23:00                       SIMPLE\n",
       "2021-04-16 20:45:00               $500 AND UNDER\n",
       "2021-10-21 11:00:00                EAVESDROPPING\n",
       "2021-11-14 06:00:00                ATTEMPT THEFT\n",
       "2021-11-14 04:00:00      DOMESTIC BATTERY SIMPLE\n",
       "2021-11-14 09:00:00               $500 AND UNDER\n",
       "2021-11-14 14:00:00               $500 AND UNDER\n",
       "2021-11-14 00:00:00      DOMESTIC BATTERY SIMPLE\n",
       "2021-01-09 15:59:00                      BY FIRE\n",
       "2021-04-28 20:18:00  VIOLATE ORDER OF PROTECTION"
      ]
     },
     "execution_count": 42,
     "metadata": {},
     "output_type": "execute_result"
    }
   ],
   "source": [
    "crimes.iloc[:10, [5]]"
   ]
  },
  {
   "cell_type": "markdown",
   "metadata": {},
   "source": [
    "### Slicing\n",
    "\n",
    "Selecting by using ranges"
   ]
  },
  {
   "cell_type": "code",
   "execution_count": 43,
   "metadata": {},
   "outputs": [
    {
     "data": {
      "text/html": [
       "<div>\n",
       "<style scoped>\n",
       "    .dataframe tbody tr th:only-of-type {\n",
       "        vertical-align: middle;\n",
       "    }\n",
       "\n",
       "    .dataframe tbody tr th {\n",
       "        vertical-align: top;\n",
       "    }\n",
       "\n",
       "    .dataframe thead th {\n",
       "        text-align: right;\n",
       "    }\n",
       "</style>\n",
       "<table border=\"1\" class=\"dataframe\">\n",
       "  <thead>\n",
       "    <tr style=\"text-align: right;\">\n",
       "      <th></th>\n",
       "      <th>age</th>\n",
       "      <th>test</th>\n",
       "    </tr>\n",
       "  </thead>\n",
       "  <tbody>\n",
       "    <tr>\n",
       "      <th>C</th>\n",
       "      <td>6</td>\n",
       "      <td>14.20</td>\n",
       "    </tr>\n",
       "    <tr>\n",
       "      <th>D</th>\n",
       "      <td>2</td>\n",
       "      <td>8.00</td>\n",
       "    </tr>\n",
       "    <tr>\n",
       "      <th>E</th>\n",
       "      <td>10</td>\n",
       "      <td>5.93</td>\n",
       "    </tr>\n",
       "  </tbody>\n",
       "</table>\n",
       "</div>"
      ],
      "text/plain": [
       "   age   test\n",
       "C    6  14.20\n",
       "D    2   8.00\n",
       "E   10   5.93"
      ]
     },
     "execution_count": 43,
     "metadata": {},
     "output_type": "execute_result"
    }
   ],
   "source": [
    "df.iloc[2:5]"
   ]
  },
  {
   "cell_type": "markdown",
   "metadata": {},
   "source": [
    "Or for short"
   ]
  },
  {
   "cell_type": "code",
   "execution_count": 44,
   "metadata": {},
   "outputs": [
    {
     "data": {
      "text/html": [
       "<div>\n",
       "<style scoped>\n",
       "    .dataframe tbody tr th:only-of-type {\n",
       "        vertical-align: middle;\n",
       "    }\n",
       "\n",
       "    .dataframe tbody tr th {\n",
       "        vertical-align: top;\n",
       "    }\n",
       "\n",
       "    .dataframe thead th {\n",
       "        text-align: right;\n",
       "    }\n",
       "</style>\n",
       "<table border=\"1\" class=\"dataframe\">\n",
       "  <thead>\n",
       "    <tr style=\"text-align: right;\">\n",
       "      <th></th>\n",
       "      <th>age</th>\n",
       "      <th>test</th>\n",
       "    </tr>\n",
       "  </thead>\n",
       "  <tbody>\n",
       "    <tr>\n",
       "      <th>C</th>\n",
       "      <td>6</td>\n",
       "      <td>14.20</td>\n",
       "    </tr>\n",
       "    <tr>\n",
       "      <th>D</th>\n",
       "      <td>2</td>\n",
       "      <td>8.00</td>\n",
       "    </tr>\n",
       "    <tr>\n",
       "      <th>E</th>\n",
       "      <td>10</td>\n",
       "      <td>5.93</td>\n",
       "    </tr>\n",
       "  </tbody>\n",
       "</table>\n",
       "</div>"
      ],
      "text/plain": [
       "   age   test\n",
       "C    6  14.20\n",
       "D    2   8.00\n",
       "E   10   5.93"
      ]
     },
     "execution_count": 44,
     "metadata": {},
     "output_type": "execute_result"
    }
   ],
   "source": [
    "df[2:5]"
   ]
  },
  {
   "cell_type": "markdown",
   "metadata": {},
   "source": [
    "And an awesome feature – slicing is datetime-aware"
   ]
  },
  {
   "cell_type": "code",
   "execution_count": 45,
   "metadata": {},
   "outputs": [
    {
     "data": {
      "text/plain": [
       "Date\n",
       "2021-12-20    1\n",
       "2021-12-21    1\n",
       "2021-12-22    2\n",
       "2021-12-23    0\n",
       "2021-12-24    0\n",
       "Freq: D, Name: Primary Type, dtype: int64"
      ]
     },
     "execution_count": 45,
     "metadata": {},
     "output_type": "execute_result"
    }
   ],
   "source": [
    "daily_crimesDec['2021-12-20':].head()"
   ]
  },
  {
   "cell_type": "markdown",
   "metadata": {},
   "source": [
    "### Boolean indexing\n",
    "\n",
    "Filter based on boolean expressions. Any expression that returns boolean values…"
   ]
  },
  {
   "cell_type": "code",
   "execution_count": 46,
   "metadata": {},
   "outputs": [
    {
     "data": {
      "text/plain": [
       "Date\n",
       "2021-12-01    False\n",
       "2021-12-02     True\n",
       "2021-12-03    False\n",
       "2021-12-04    False\n",
       "2021-12-05    False\n",
       "2021-12-06    False\n",
       "2021-12-07    False\n",
       "2021-12-08    False\n",
       "2021-12-09    False\n",
       "2021-12-10    False\n",
       "2021-12-11    False\n",
       "2021-12-12    False\n",
       "2021-12-13    False\n",
       "2021-12-14    False\n",
       "2021-12-15    False\n",
       "2021-12-16    False\n",
       "2021-12-17    False\n",
       "2021-12-18    False\n",
       "2021-12-19    False\n",
       "2021-12-20    False\n",
       "2021-12-21    False\n",
       "2021-12-22     True\n",
       "2021-12-23    False\n",
       "2021-12-24    False\n",
       "2021-12-25    False\n",
       "2021-12-26    False\n",
       "2021-12-27    False\n",
       "2021-12-28    False\n",
       "Freq: D, Name: Primary Type, dtype: bool"
      ]
     },
     "execution_count": 46,
     "metadata": {},
     "output_type": "execute_result"
    }
   ],
   "source": [
    "daily_crimesDec > 1"
   ]
  },
  {
   "cell_type": "markdown",
   "metadata": {},
   "source": [
    "… can also be used to index values where the boolean expression yields true."
   ]
  },
  {
   "cell_type": "code",
   "execution_count": 47,
   "metadata": {},
   "outputs": [
    {
     "data": {
      "text/plain": [
       "2"
      ]
     },
     "execution_count": 47,
     "metadata": {},
     "output_type": "execute_result"
    }
   ],
   "source": [
    "daily_crimesDec[daily_crimesDec > 1].count()"
   ]
  },
  {
   "cell_type": "markdown",
   "metadata": {},
   "source": [
    "## Reshaping\n",
    "\n",
    "The input data format is often not the most useful for actually processing and visualising the information we're most interested in. Pandas' offers many useful methods for reshaping the data:\n",
    "\n",
    "- `pivot_table` – select exactly the rows/columns you want\n",
    "- `stack` / `unstack` – append to the index, adding more levels of a hierarchical MultiIndex\n",
    "- `groupby` – similar to the SQL `Group By` command\n",
    "- `resample` – like `groupby`, but for creating groups from time intervals (hours, days, weeks, etc.)\n",
    "\n",
    "There are lots of operations you can express using these commands – see more documentation on them [here](https://pandas.pydata.org/pandas-docs/stable/reshaping.html). \n",
    "\n",
    "URL: https://pandas.pydata.org/pandas-docs/stable/user_guide/reshaping.html"
   ]
  },
  {
   "cell_type": "code",
   "execution_count": 48,
   "metadata": {},
   "outputs": [
    {
     "data": {
      "text/html": [
       "<div>\n",
       "<style scoped>\n",
       "    .dataframe tbody tr th:only-of-type {\n",
       "        vertical-align: middle;\n",
       "    }\n",
       "\n",
       "    .dataframe tbody tr th {\n",
       "        vertical-align: top;\n",
       "    }\n",
       "\n",
       "    .dataframe thead th {\n",
       "        text-align: right;\n",
       "    }\n",
       "</style>\n",
       "<table border=\"1\" class=\"dataframe\">\n",
       "  <thead>\n",
       "    <tr style=\"text-align: right;\">\n",
       "      <th></th>\n",
       "      <th>ID</th>\n",
       "      <th>Case Number</th>\n",
       "      <th>Block</th>\n",
       "      <th>IUCR</th>\n",
       "      <th>Primary Type</th>\n",
       "      <th>Description</th>\n",
       "      <th>Location Description</th>\n",
       "      <th>Arrest</th>\n",
       "      <th>Domestic</th>\n",
       "      <th>Beat</th>\n",
       "      <th>...</th>\n",
       "      <th>Ward</th>\n",
       "      <th>Community Area</th>\n",
       "      <th>FBI Code</th>\n",
       "      <th>X Coordinate</th>\n",
       "      <th>Y Coordinate</th>\n",
       "      <th>Year</th>\n",
       "      <th>Updated On</th>\n",
       "      <th>Latitude</th>\n",
       "      <th>Longitude</th>\n",
       "      <th>Location</th>\n",
       "    </tr>\n",
       "    <tr>\n",
       "      <th>Date</th>\n",
       "      <th></th>\n",
       "      <th></th>\n",
       "      <th></th>\n",
       "      <th></th>\n",
       "      <th></th>\n",
       "      <th></th>\n",
       "      <th></th>\n",
       "      <th></th>\n",
       "      <th></th>\n",
       "      <th></th>\n",
       "      <th></th>\n",
       "      <th></th>\n",
       "      <th></th>\n",
       "      <th></th>\n",
       "      <th></th>\n",
       "      <th></th>\n",
       "      <th></th>\n",
       "      <th></th>\n",
       "      <th></th>\n",
       "      <th></th>\n",
       "      <th></th>\n",
       "    </tr>\n",
       "  </thead>\n",
       "  <tbody>\n",
       "    <tr>\n",
       "      <th>2021-12-19 07:23:00</th>\n",
       "      <td>12571973</td>\n",
       "      <td>JE482457</td>\n",
       "      <td>042XX S MOZART ST</td>\n",
       "      <td>460</td>\n",
       "      <td>BATTERY</td>\n",
       "      <td>SIMPLE</td>\n",
       "      <td>SIDEWALK</td>\n",
       "      <td>True</td>\n",
       "      <td>True</td>\n",
       "      <td>921</td>\n",
       "      <td>...</td>\n",
       "      <td>15</td>\n",
       "      <td>58</td>\n",
       "      <td>08B</td>\n",
       "      <td>1158067.0</td>\n",
       "      <td>1876425.0</td>\n",
       "      <td>2021</td>\n",
       "      <td>9/12/2022 16:45</td>\n",
       "      <td>41.816657</td>\n",
       "      <td>-87.695689</td>\n",
       "      <td>(41.81665685, -87.695688608)</td>\n",
       "    </tr>\n",
       "    <tr>\n",
       "      <th>2021-04-16 20:45:00</th>\n",
       "      <td>12343475</td>\n",
       "      <td>JE202728</td>\n",
       "      <td>056XX N RIDGE AVE</td>\n",
       "      <td>820</td>\n",
       "      <td>THEFT</td>\n",
       "      <td>$500 AND UNDER</td>\n",
       "      <td>OTHER (SPECIFY)</td>\n",
       "      <td>False</td>\n",
       "      <td>False</td>\n",
       "      <td>2013</td>\n",
       "      <td>...</td>\n",
       "      <td>48</td>\n",
       "      <td>77</td>\n",
       "      <td>6</td>\n",
       "      <td>NaN</td>\n",
       "      <td>NaN</td>\n",
       "      <td>2021</td>\n",
       "      <td>4/23/2021 16:51</td>\n",
       "      <td>NaN</td>\n",
       "      <td>NaN</td>\n",
       "      <td>NaN</td>\n",
       "    </tr>\n",
       "    <tr>\n",
       "      <th>2021-10-21 11:00:00</th>\n",
       "      <td>12602803</td>\n",
       "      <td>JF125633</td>\n",
       "      <td>083XX S STONY ISLAND AVE</td>\n",
       "      <td>500E</td>\n",
       "      <td>OTHER OFFENSE</td>\n",
       "      <td>EAVESDROPPING</td>\n",
       "      <td>OTHER (SPECIFY)</td>\n",
       "      <td>False</td>\n",
       "      <td>False</td>\n",
       "      <td>412</td>\n",
       "      <td>...</td>\n",
       "      <td>8</td>\n",
       "      <td>45</td>\n",
       "      <td>26</td>\n",
       "      <td>1188260.0</td>\n",
       "      <td>1849805.0</td>\n",
       "      <td>2021</td>\n",
       "      <td>2/27/2022 15:46</td>\n",
       "      <td>41.742941</td>\n",
       "      <td>-87.585783</td>\n",
       "      <td>(41.74294124, -87.585783412)</td>\n",
       "    </tr>\n",
       "    <tr>\n",
       "      <th>2021-11-14 06:00:00</th>\n",
       "      <td>12540388</td>\n",
       "      <td>JE444591</td>\n",
       "      <td>086XX S COTTAGE GROVE AVE</td>\n",
       "      <td>850</td>\n",
       "      <td>THEFT</td>\n",
       "      <td>ATTEMPT THEFT</td>\n",
       "      <td>CONVENIENCE STORE</td>\n",
       "      <td>False</td>\n",
       "      <td>False</td>\n",
       "      <td>632</td>\n",
       "      <td>...</td>\n",
       "      <td>6</td>\n",
       "      <td>44</td>\n",
       "      <td>6</td>\n",
       "      <td>1183071.0</td>\n",
       "      <td>1847869.0</td>\n",
       "      <td>2021</td>\n",
       "      <td>11/21/2021 15:48</td>\n",
       "      <td>41.737751</td>\n",
       "      <td>-87.604856</td>\n",
       "      <td>(41.737750767, -87.604855911)</td>\n",
       "    </tr>\n",
       "    <tr>\n",
       "      <th>2021-11-14 04:00:00</th>\n",
       "      <td>12541139</td>\n",
       "      <td>JE445494</td>\n",
       "      <td>034XX W 38TH ST</td>\n",
       "      <td>486</td>\n",
       "      <td>BATTERY</td>\n",
       "      <td>DOMESTIC BATTERY SIMPLE</td>\n",
       "      <td>RESIDENCE</td>\n",
       "      <td>False</td>\n",
       "      <td>True</td>\n",
       "      <td>911</td>\n",
       "      <td>...</td>\n",
       "      <td>12</td>\n",
       "      <td>58</td>\n",
       "      <td>08B</td>\n",
       "      <td>1154073.0</td>\n",
       "      <td>1879187.0</td>\n",
       "      <td>2021</td>\n",
       "      <td>11/21/2021 15:48</td>\n",
       "      <td>41.824317</td>\n",
       "      <td>-87.710266</td>\n",
       "      <td>(41.824316537, -87.710266215)</td>\n",
       "    </tr>\n",
       "  </tbody>\n",
       "</table>\n",
       "<p>5 rows × 21 columns</p>\n",
       "</div>"
      ],
      "text/plain": [
       "                           ID Case Number                      Block  IUCR  \\\n",
       "Date                                                                         \n",
       "2021-12-19 07:23:00  12571973    JE482457          042XX S MOZART ST   460   \n",
       "2021-04-16 20:45:00  12343475    JE202728          056XX N RIDGE AVE   820   \n",
       "2021-10-21 11:00:00  12602803    JF125633   083XX S STONY ISLAND AVE  500E   \n",
       "2021-11-14 06:00:00  12540388    JE444591  086XX S COTTAGE GROVE AVE   850   \n",
       "2021-11-14 04:00:00  12541139    JE445494            034XX W 38TH ST   486   \n",
       "\n",
       "                      Primary Type              Description  \\\n",
       "Date                                                          \n",
       "2021-12-19 07:23:00        BATTERY                   SIMPLE   \n",
       "2021-04-16 20:45:00          THEFT           $500 AND UNDER   \n",
       "2021-10-21 11:00:00  OTHER OFFENSE            EAVESDROPPING   \n",
       "2021-11-14 06:00:00          THEFT            ATTEMPT THEFT   \n",
       "2021-11-14 04:00:00        BATTERY  DOMESTIC BATTERY SIMPLE   \n",
       "\n",
       "                    Location Description  Arrest  Domestic  Beat  ...  Ward  \\\n",
       "Date                                                              ...         \n",
       "2021-12-19 07:23:00             SIDEWALK    True      True   921  ...    15   \n",
       "2021-04-16 20:45:00      OTHER (SPECIFY)   False     False  2013  ...    48   \n",
       "2021-10-21 11:00:00      OTHER (SPECIFY)   False     False   412  ...     8   \n",
       "2021-11-14 06:00:00    CONVENIENCE STORE   False     False   632  ...     6   \n",
       "2021-11-14 04:00:00            RESIDENCE   False      True   911  ...    12   \n",
       "\n",
       "                     Community Area  FBI Code X Coordinate  Y Coordinate  \\\n",
       "Date                                                                       \n",
       "2021-12-19 07:23:00              58       08B    1158067.0     1876425.0   \n",
       "2021-04-16 20:45:00              77         6          NaN           NaN   \n",
       "2021-10-21 11:00:00              45        26    1188260.0     1849805.0   \n",
       "2021-11-14 06:00:00              44         6    1183071.0     1847869.0   \n",
       "2021-11-14 04:00:00              58       08B    1154073.0     1879187.0   \n",
       "\n",
       "                     Year        Updated On   Latitude  Longitude  \\\n",
       "Date                                                                \n",
       "2021-12-19 07:23:00  2021   9/12/2022 16:45  41.816657 -87.695689   \n",
       "2021-04-16 20:45:00  2021   4/23/2021 16:51        NaN        NaN   \n",
       "2021-10-21 11:00:00  2021   2/27/2022 15:46  41.742941 -87.585783   \n",
       "2021-11-14 06:00:00  2021  11/21/2021 15:48  41.737751 -87.604856   \n",
       "2021-11-14 04:00:00  2021  11/21/2021 15:48  41.824317 -87.710266   \n",
       "\n",
       "                                          Location  \n",
       "Date                                                \n",
       "2021-12-19 07:23:00   (41.81665685, -87.695688608)  \n",
       "2021-04-16 20:45:00                            NaN  \n",
       "2021-10-21 11:00:00   (41.74294124, -87.585783412)  \n",
       "2021-11-14 06:00:00  (41.737750767, -87.604855911)  \n",
       "2021-11-14 04:00:00  (41.824316537, -87.710266215)  \n",
       "\n",
       "[5 rows x 21 columns]"
      ]
     },
     "execution_count": 48,
     "metadata": {},
     "output_type": "execute_result"
    }
   ],
   "source": [
    "crimes_small.head()"
   ]
  },
  {
   "cell_type": "code",
   "execution_count": 49,
   "metadata": {},
   "outputs": [
    {
     "data": {
      "text/html": [
       "<div>\n",
       "<style scoped>\n",
       "    .dataframe tbody tr th:only-of-type {\n",
       "        vertical-align: middle;\n",
       "    }\n",
       "\n",
       "    .dataframe tbody tr th {\n",
       "        vertical-align: top;\n",
       "    }\n",
       "\n",
       "    .dataframe thead th {\n",
       "        text-align: right;\n",
       "    }\n",
       "</style>\n",
       "<table border=\"1\" class=\"dataframe\">\n",
       "  <thead>\n",
       "    <tr style=\"text-align: right;\">\n",
       "      <th></th>\n",
       "      <th></th>\n",
       "      <th>ID</th>\n",
       "      <th>Case Number</th>\n",
       "      <th>Block</th>\n",
       "      <th>IUCR</th>\n",
       "      <th>Description</th>\n",
       "      <th>Location Description</th>\n",
       "      <th>Arrest</th>\n",
       "      <th>Domestic</th>\n",
       "      <th>Beat</th>\n",
       "      <th>District</th>\n",
       "      <th>Ward</th>\n",
       "      <th>Community Area</th>\n",
       "      <th>FBI Code</th>\n",
       "      <th>X Coordinate</th>\n",
       "      <th>Y Coordinate</th>\n",
       "      <th>Year</th>\n",
       "      <th>Updated On</th>\n",
       "      <th>Latitude</th>\n",
       "      <th>Longitude</th>\n",
       "      <th>Location</th>\n",
       "    </tr>\n",
       "    <tr>\n",
       "      <th>Date</th>\n",
       "      <th>Primary Type</th>\n",
       "      <th></th>\n",
       "      <th></th>\n",
       "      <th></th>\n",
       "      <th></th>\n",
       "      <th></th>\n",
       "      <th></th>\n",
       "      <th></th>\n",
       "      <th></th>\n",
       "      <th></th>\n",
       "      <th></th>\n",
       "      <th></th>\n",
       "      <th></th>\n",
       "      <th></th>\n",
       "      <th></th>\n",
       "      <th></th>\n",
       "      <th></th>\n",
       "      <th></th>\n",
       "      <th></th>\n",
       "      <th></th>\n",
       "      <th></th>\n",
       "    </tr>\n",
       "  </thead>\n",
       "  <tbody>\n",
       "    <tr>\n",
       "      <th>2021-12-19 07:23:00</th>\n",
       "      <th>BATTERY</th>\n",
       "      <td>12571973</td>\n",
       "      <td>JE482457</td>\n",
       "      <td>042XX S MOZART ST</td>\n",
       "      <td>460</td>\n",
       "      <td>SIMPLE</td>\n",
       "      <td>SIDEWALK</td>\n",
       "      <td>True</td>\n",
       "      <td>True</td>\n",
       "      <td>921</td>\n",
       "      <td>9</td>\n",
       "      <td>15</td>\n",
       "      <td>58</td>\n",
       "      <td>08B</td>\n",
       "      <td>1158067.0</td>\n",
       "      <td>1876425.0</td>\n",
       "      <td>2021</td>\n",
       "      <td>9/12/2022 16:45</td>\n",
       "      <td>41.816657</td>\n",
       "      <td>-87.695689</td>\n",
       "      <td>(41.81665685, -87.695688608)</td>\n",
       "    </tr>\n",
       "    <tr>\n",
       "      <th>2021-04-16 20:45:00</th>\n",
       "      <th>THEFT</th>\n",
       "      <td>12343475</td>\n",
       "      <td>JE202728</td>\n",
       "      <td>056XX N RIDGE AVE</td>\n",
       "      <td>820</td>\n",
       "      <td>$500 AND UNDER</td>\n",
       "      <td>OTHER (SPECIFY)</td>\n",
       "      <td>False</td>\n",
       "      <td>False</td>\n",
       "      <td>2013</td>\n",
       "      <td>20</td>\n",
       "      <td>48</td>\n",
       "      <td>77</td>\n",
       "      <td>6</td>\n",
       "      <td>NaN</td>\n",
       "      <td>NaN</td>\n",
       "      <td>2021</td>\n",
       "      <td>4/23/2021 16:51</td>\n",
       "      <td>NaN</td>\n",
       "      <td>NaN</td>\n",
       "      <td>NaN</td>\n",
       "    </tr>\n",
       "    <tr>\n",
       "      <th>2021-10-21 11:00:00</th>\n",
       "      <th>OTHER OFFENSE</th>\n",
       "      <td>12602803</td>\n",
       "      <td>JF125633</td>\n",
       "      <td>083XX S STONY ISLAND AVE</td>\n",
       "      <td>500E</td>\n",
       "      <td>EAVESDROPPING</td>\n",
       "      <td>OTHER (SPECIFY)</td>\n",
       "      <td>False</td>\n",
       "      <td>False</td>\n",
       "      <td>412</td>\n",
       "      <td>4</td>\n",
       "      <td>8</td>\n",
       "      <td>45</td>\n",
       "      <td>26</td>\n",
       "      <td>1188260.0</td>\n",
       "      <td>1849805.0</td>\n",
       "      <td>2021</td>\n",
       "      <td>2/27/2022 15:46</td>\n",
       "      <td>41.742941</td>\n",
       "      <td>-87.585783</td>\n",
       "      <td>(41.74294124, -87.585783412)</td>\n",
       "    </tr>\n",
       "    <tr>\n",
       "      <th>2021-11-14 06:00:00</th>\n",
       "      <th>THEFT</th>\n",
       "      <td>12540388</td>\n",
       "      <td>JE444591</td>\n",
       "      <td>086XX S COTTAGE GROVE AVE</td>\n",
       "      <td>850</td>\n",
       "      <td>ATTEMPT THEFT</td>\n",
       "      <td>CONVENIENCE STORE</td>\n",
       "      <td>False</td>\n",
       "      <td>False</td>\n",
       "      <td>632</td>\n",
       "      <td>6</td>\n",
       "      <td>6</td>\n",
       "      <td>44</td>\n",
       "      <td>6</td>\n",
       "      <td>1183071.0</td>\n",
       "      <td>1847869.0</td>\n",
       "      <td>2021</td>\n",
       "      <td>11/21/2021 15:48</td>\n",
       "      <td>41.737751</td>\n",
       "      <td>-87.604856</td>\n",
       "      <td>(41.737750767, -87.604855911)</td>\n",
       "    </tr>\n",
       "    <tr>\n",
       "      <th>2021-11-14 04:00:00</th>\n",
       "      <th>BATTERY</th>\n",
       "      <td>12541139</td>\n",
       "      <td>JE445494</td>\n",
       "      <td>034XX W 38TH ST</td>\n",
       "      <td>486</td>\n",
       "      <td>DOMESTIC BATTERY SIMPLE</td>\n",
       "      <td>RESIDENCE</td>\n",
       "      <td>False</td>\n",
       "      <td>True</td>\n",
       "      <td>911</td>\n",
       "      <td>9</td>\n",
       "      <td>12</td>\n",
       "      <td>58</td>\n",
       "      <td>08B</td>\n",
       "      <td>1154073.0</td>\n",
       "      <td>1879187.0</td>\n",
       "      <td>2021</td>\n",
       "      <td>11/21/2021 15:48</td>\n",
       "      <td>41.824317</td>\n",
       "      <td>-87.710266</td>\n",
       "      <td>(41.824316537, -87.710266215)</td>\n",
       "    </tr>\n",
       "    <tr>\n",
       "      <th>2021-11-14 09:00:00</th>\n",
       "      <th>THEFT</th>\n",
       "      <td>12540496</td>\n",
       "      <td>JE444717</td>\n",
       "      <td>070XX S INDIANA AVE</td>\n",
       "      <td>820</td>\n",
       "      <td>$500 AND UNDER</td>\n",
       "      <td>APARTMENT</td>\n",
       "      <td>False</td>\n",
       "      <td>True</td>\n",
       "      <td>322</td>\n",
       "      <td>3</td>\n",
       "      <td>6</td>\n",
       "      <td>69</td>\n",
       "      <td>6</td>\n",
       "      <td>1178811.0</td>\n",
       "      <td>1858376.0</td>\n",
       "      <td>2021</td>\n",
       "      <td>11/21/2021 15:48</td>\n",
       "      <td>41.766681</td>\n",
       "      <td>-87.620144</td>\n",
       "      <td>(41.766681066, -87.62014422)</td>\n",
       "    </tr>\n",
       "    <tr>\n",
       "      <th>2021-11-14 14:00:00</th>\n",
       "      <th>THEFT</th>\n",
       "      <td>12542477</td>\n",
       "      <td>JE447028</td>\n",
       "      <td>021XX N BINGHAM ST</td>\n",
       "      <td>820</td>\n",
       "      <td>$500 AND UNDER</td>\n",
       "      <td>RESIDENCE</td>\n",
       "      <td>False</td>\n",
       "      <td>False</td>\n",
       "      <td>1431</td>\n",
       "      <td>14</td>\n",
       "      <td>1</td>\n",
       "      <td>22</td>\n",
       "      <td>6</td>\n",
       "      <td>1158583.0</td>\n",
       "      <td>1913745.0</td>\n",
       "      <td>2021</td>\n",
       "      <td>11/21/2021 15:48</td>\n",
       "      <td>41.919056</td>\n",
       "      <td>-87.692774</td>\n",
       "      <td>(41.919056144, -87.692774252)</td>\n",
       "    </tr>\n",
       "    <tr>\n",
       "      <th>2021-11-14 00:00:00</th>\n",
       "      <th>BATTERY</th>\n",
       "      <td>12541098</td>\n",
       "      <td>JE444580</td>\n",
       "      <td>072XX S HAMLIN AVE</td>\n",
       "      <td>486</td>\n",
       "      <td>DOMESTIC BATTERY SIMPLE</td>\n",
       "      <td>RESIDENCE</td>\n",
       "      <td>False</td>\n",
       "      <td>True</td>\n",
       "      <td>833</td>\n",
       "      <td>8</td>\n",
       "      <td>13</td>\n",
       "      <td>65</td>\n",
       "      <td>08B</td>\n",
       "      <td>1152286.0</td>\n",
       "      <td>1856407.0</td>\n",
       "      <td>2021</td>\n",
       "      <td>11/21/2021 15:48</td>\n",
       "      <td>41.761840</td>\n",
       "      <td>-87.717421</td>\n",
       "      <td>(41.761840209, -87.717420956)</td>\n",
       "    </tr>\n",
       "    <tr>\n",
       "      <th>2021-01-09 15:59:00</th>\n",
       "      <th>ARSON</th>\n",
       "      <td>12265790</td>\n",
       "      <td>JE108071</td>\n",
       "      <td>017XX W WINNEMAC AVE</td>\n",
       "      <td>1020</td>\n",
       "      <td>BY FIRE</td>\n",
       "      <td>VEHICLE NON-COMMERCIAL</td>\n",
       "      <td>True</td>\n",
       "      <td>True</td>\n",
       "      <td>2032</td>\n",
       "      <td>20</td>\n",
       "      <td>40</td>\n",
       "      <td>3</td>\n",
       "      <td>9</td>\n",
       "      <td>1164039.0</td>\n",
       "      <td>1933591.0</td>\n",
       "      <td>2021</td>\n",
       "      <td>8/12/2021 16:59</td>\n",
       "      <td>41.973401</td>\n",
       "      <td>-87.672166</td>\n",
       "      <td>(41.973401006, -87.672165851)</td>\n",
       "    </tr>\n",
       "  </tbody>\n",
       "</table>\n",
       "</div>"
      ],
      "text/plain": [
       "                                         ID Case Number  \\\n",
       "Date                Primary Type                          \n",
       "2021-12-19 07:23:00 BATTERY        12571973    JE482457   \n",
       "2021-04-16 20:45:00 THEFT          12343475    JE202728   \n",
       "2021-10-21 11:00:00 OTHER OFFENSE  12602803    JF125633   \n",
       "2021-11-14 06:00:00 THEFT          12540388    JE444591   \n",
       "2021-11-14 04:00:00 BATTERY        12541139    JE445494   \n",
       "2021-11-14 09:00:00 THEFT          12540496    JE444717   \n",
       "2021-11-14 14:00:00 THEFT          12542477    JE447028   \n",
       "2021-11-14 00:00:00 BATTERY        12541098    JE444580   \n",
       "2021-01-09 15:59:00 ARSON          12265790    JE108071   \n",
       "\n",
       "                                                       Block  IUCR  \\\n",
       "Date                Primary Type                                     \n",
       "2021-12-19 07:23:00 BATTERY                042XX S MOZART ST   460   \n",
       "2021-04-16 20:45:00 THEFT                  056XX N RIDGE AVE   820   \n",
       "2021-10-21 11:00:00 OTHER OFFENSE   083XX S STONY ISLAND AVE  500E   \n",
       "2021-11-14 06:00:00 THEFT          086XX S COTTAGE GROVE AVE   850   \n",
       "2021-11-14 04:00:00 BATTERY                  034XX W 38TH ST   486   \n",
       "2021-11-14 09:00:00 THEFT                070XX S INDIANA AVE   820   \n",
       "2021-11-14 14:00:00 THEFT                 021XX N BINGHAM ST   820   \n",
       "2021-11-14 00:00:00 BATTERY               072XX S HAMLIN AVE   486   \n",
       "2021-01-09 15:59:00 ARSON               017XX W WINNEMAC AVE  1020   \n",
       "\n",
       "                                               Description  \\\n",
       "Date                Primary Type                             \n",
       "2021-12-19 07:23:00 BATTERY                         SIMPLE   \n",
       "2021-04-16 20:45:00 THEFT                   $500 AND UNDER   \n",
       "2021-10-21 11:00:00 OTHER OFFENSE            EAVESDROPPING   \n",
       "2021-11-14 06:00:00 THEFT                    ATTEMPT THEFT   \n",
       "2021-11-14 04:00:00 BATTERY        DOMESTIC BATTERY SIMPLE   \n",
       "2021-11-14 09:00:00 THEFT                   $500 AND UNDER   \n",
       "2021-11-14 14:00:00 THEFT                   $500 AND UNDER   \n",
       "2021-11-14 00:00:00 BATTERY        DOMESTIC BATTERY SIMPLE   \n",
       "2021-01-09 15:59:00 ARSON                          BY FIRE   \n",
       "\n",
       "                                     Location Description  Arrest  Domestic  \\\n",
       "Date                Primary Type                                              \n",
       "2021-12-19 07:23:00 BATTERY                      SIDEWALK    True      True   \n",
       "2021-04-16 20:45:00 THEFT                 OTHER (SPECIFY)   False     False   \n",
       "2021-10-21 11:00:00 OTHER OFFENSE         OTHER (SPECIFY)   False     False   \n",
       "2021-11-14 06:00:00 THEFT               CONVENIENCE STORE   False     False   \n",
       "2021-11-14 04:00:00 BATTERY                     RESIDENCE   False      True   \n",
       "2021-11-14 09:00:00 THEFT                       APARTMENT   False      True   \n",
       "2021-11-14 14:00:00 THEFT                       RESIDENCE   False     False   \n",
       "2021-11-14 00:00:00 BATTERY                     RESIDENCE   False      True   \n",
       "2021-01-09 15:59:00 ARSON          VEHICLE NON-COMMERCIAL    True      True   \n",
       "\n",
       "                                   Beat  District  Ward  Community Area  \\\n",
       "Date                Primary Type                                          \n",
       "2021-12-19 07:23:00 BATTERY         921         9    15              58   \n",
       "2021-04-16 20:45:00 THEFT          2013        20    48              77   \n",
       "2021-10-21 11:00:00 OTHER OFFENSE   412         4     8              45   \n",
       "2021-11-14 06:00:00 THEFT           632         6     6              44   \n",
       "2021-11-14 04:00:00 BATTERY         911         9    12              58   \n",
       "2021-11-14 09:00:00 THEFT           322         3     6              69   \n",
       "2021-11-14 14:00:00 THEFT          1431        14     1              22   \n",
       "2021-11-14 00:00:00 BATTERY         833         8    13              65   \n",
       "2021-01-09 15:59:00 ARSON          2032        20    40               3   \n",
       "\n",
       "                                  FBI Code  X Coordinate  Y Coordinate  Year  \\\n",
       "Date                Primary Type                                               \n",
       "2021-12-19 07:23:00 BATTERY            08B     1158067.0     1876425.0  2021   \n",
       "2021-04-16 20:45:00 THEFT                6           NaN           NaN  2021   \n",
       "2021-10-21 11:00:00 OTHER OFFENSE       26     1188260.0     1849805.0  2021   \n",
       "2021-11-14 06:00:00 THEFT                6     1183071.0     1847869.0  2021   \n",
       "2021-11-14 04:00:00 BATTERY            08B     1154073.0     1879187.0  2021   \n",
       "2021-11-14 09:00:00 THEFT                6     1178811.0     1858376.0  2021   \n",
       "2021-11-14 14:00:00 THEFT                6     1158583.0     1913745.0  2021   \n",
       "2021-11-14 00:00:00 BATTERY            08B     1152286.0     1856407.0  2021   \n",
       "2021-01-09 15:59:00 ARSON                9     1164039.0     1933591.0  2021   \n",
       "\n",
       "                                         Updated On   Latitude  Longitude  \\\n",
       "Date                Primary Type                                            \n",
       "2021-12-19 07:23:00 BATTERY         9/12/2022 16:45  41.816657 -87.695689   \n",
       "2021-04-16 20:45:00 THEFT           4/23/2021 16:51        NaN        NaN   \n",
       "2021-10-21 11:00:00 OTHER OFFENSE   2/27/2022 15:46  41.742941 -87.585783   \n",
       "2021-11-14 06:00:00 THEFT          11/21/2021 15:48  41.737751 -87.604856   \n",
       "2021-11-14 04:00:00 BATTERY        11/21/2021 15:48  41.824317 -87.710266   \n",
       "2021-11-14 09:00:00 THEFT          11/21/2021 15:48  41.766681 -87.620144   \n",
       "2021-11-14 14:00:00 THEFT          11/21/2021 15:48  41.919056 -87.692774   \n",
       "2021-11-14 00:00:00 BATTERY        11/21/2021 15:48  41.761840 -87.717421   \n",
       "2021-01-09 15:59:00 ARSON           8/12/2021 16:59  41.973401 -87.672166   \n",
       "\n",
       "                                                        Location  \n",
       "Date                Primary Type                                  \n",
       "2021-12-19 07:23:00 BATTERY         (41.81665685, -87.695688608)  \n",
       "2021-04-16 20:45:00 THEFT                                    NaN  \n",
       "2021-10-21 11:00:00 OTHER OFFENSE   (41.74294124, -87.585783412)  \n",
       "2021-11-14 06:00:00 THEFT          (41.737750767, -87.604855911)  \n",
       "2021-11-14 04:00:00 BATTERY        (41.824316537, -87.710266215)  \n",
       "2021-11-14 09:00:00 THEFT           (41.766681066, -87.62014422)  \n",
       "2021-11-14 14:00:00 THEFT          (41.919056144, -87.692774252)  \n",
       "2021-11-14 00:00:00 BATTERY        (41.761840209, -87.717420956)  \n",
       "2021-01-09 15:59:00 ARSON          (41.973401006, -87.672165851)  "
      ]
     },
     "execution_count": 49,
     "metadata": {},
     "output_type": "execute_result"
    }
   ],
   "source": [
    "crimes_small_mi = crimes_small.set_index(['Primary Type'], append=True)  #adds another index \n",
    "crimes_small_mi  #the dataframe has two indices"
   ]
  },
  {
   "cell_type": "code",
   "execution_count": 50,
   "metadata": {},
   "outputs": [
    {
     "data": {
      "text/plain": [
       "Date                 Primary Type \n",
       "2021-12-19 07:23:00  BATTERY          12571973\n",
       "2021-04-16 20:45:00  THEFT            12343475\n",
       "2021-10-21 11:00:00  OTHER OFFENSE    12602803\n",
       "2021-11-14 06:00:00  THEFT            12540388\n",
       "2021-11-14 04:00:00  BATTERY          12541139\n",
       "2021-11-14 09:00:00  THEFT            12540496\n",
       "2021-11-14 14:00:00  THEFT            12542477\n",
       "2021-11-14 00:00:00  BATTERY          12541098\n",
       "2021-01-09 15:59:00  ARSON            12265790\n",
       "Name: ID, dtype: int64"
      ]
     },
     "execution_count": 50,
     "metadata": {},
     "output_type": "execute_result"
    }
   ],
   "source": [
    "#Preparation for crime counting analysis\n",
    "crimes_small_mi.ID"
   ]
  },
  {
   "cell_type": "code",
   "execution_count": 51,
   "metadata": {},
   "outputs": [
    {
     "data": {
      "text/html": [
       "<div>\n",
       "<style scoped>\n",
       "    .dataframe tbody tr th:only-of-type {\n",
       "        vertical-align: middle;\n",
       "    }\n",
       "\n",
       "    .dataframe tbody tr th {\n",
       "        vertical-align: top;\n",
       "    }\n",
       "\n",
       "    .dataframe thead th {\n",
       "        text-align: right;\n",
       "    }\n",
       "</style>\n",
       "<table border=\"1\" class=\"dataframe\">\n",
       "  <thead>\n",
       "    <tr style=\"text-align: right;\">\n",
       "      <th>Primary Type</th>\n",
       "      <th>ARSON</th>\n",
       "      <th>BATTERY</th>\n",
       "      <th>OTHER OFFENSE</th>\n",
       "      <th>THEFT</th>\n",
       "    </tr>\n",
       "    <tr>\n",
       "      <th>Date</th>\n",
       "      <th></th>\n",
       "      <th></th>\n",
       "      <th></th>\n",
       "      <th></th>\n",
       "    </tr>\n",
       "  </thead>\n",
       "  <tbody>\n",
       "    <tr>\n",
       "      <th>2021-01-09 15:59:00</th>\n",
       "      <td>12265790.0</td>\n",
       "      <td>NaN</td>\n",
       "      <td>NaN</td>\n",
       "      <td>NaN</td>\n",
       "    </tr>\n",
       "    <tr>\n",
       "      <th>2021-04-16 20:45:00</th>\n",
       "      <td>NaN</td>\n",
       "      <td>NaN</td>\n",
       "      <td>NaN</td>\n",
       "      <td>12343475.0</td>\n",
       "    </tr>\n",
       "    <tr>\n",
       "      <th>2021-10-21 11:00:00</th>\n",
       "      <td>NaN</td>\n",
       "      <td>NaN</td>\n",
       "      <td>12602803.0</td>\n",
       "      <td>NaN</td>\n",
       "    </tr>\n",
       "    <tr>\n",
       "      <th>2021-11-14 00:00:00</th>\n",
       "      <td>NaN</td>\n",
       "      <td>12541098.0</td>\n",
       "      <td>NaN</td>\n",
       "      <td>NaN</td>\n",
       "    </tr>\n",
       "    <tr>\n",
       "      <th>2021-11-14 04:00:00</th>\n",
       "      <td>NaN</td>\n",
       "      <td>12541139.0</td>\n",
       "      <td>NaN</td>\n",
       "      <td>NaN</td>\n",
       "    </tr>\n",
       "    <tr>\n",
       "      <th>2021-11-14 06:00:00</th>\n",
       "      <td>NaN</td>\n",
       "      <td>NaN</td>\n",
       "      <td>NaN</td>\n",
       "      <td>12540388.0</td>\n",
       "    </tr>\n",
       "    <tr>\n",
       "      <th>2021-11-14 09:00:00</th>\n",
       "      <td>NaN</td>\n",
       "      <td>NaN</td>\n",
       "      <td>NaN</td>\n",
       "      <td>12540496.0</td>\n",
       "    </tr>\n",
       "    <tr>\n",
       "      <th>2021-11-14 14:00:00</th>\n",
       "      <td>NaN</td>\n",
       "      <td>NaN</td>\n",
       "      <td>NaN</td>\n",
       "      <td>12542477.0</td>\n",
       "    </tr>\n",
       "    <tr>\n",
       "      <th>2021-12-19 07:23:00</th>\n",
       "      <td>NaN</td>\n",
       "      <td>12571973.0</td>\n",
       "      <td>NaN</td>\n",
       "      <td>NaN</td>\n",
       "    </tr>\n",
       "  </tbody>\n",
       "</table>\n",
       "</div>"
      ],
      "text/plain": [
       "Primary Type              ARSON     BATTERY  OTHER OFFENSE       THEFT\n",
       "Date                                                                  \n",
       "2021-01-09 15:59:00  12265790.0         NaN            NaN         NaN\n",
       "2021-04-16 20:45:00         NaN         NaN            NaN  12343475.0\n",
       "2021-10-21 11:00:00         NaN         NaN     12602803.0         NaN\n",
       "2021-11-14 00:00:00         NaN  12541098.0            NaN         NaN\n",
       "2021-11-14 04:00:00         NaN  12541139.0            NaN         NaN\n",
       "2021-11-14 06:00:00         NaN         NaN            NaN  12540388.0\n",
       "2021-11-14 09:00:00         NaN         NaN            NaN  12540496.0\n",
       "2021-11-14 14:00:00         NaN         NaN            NaN  12542477.0\n",
       "2021-12-19 07:23:00         NaN  12571973.0            NaN         NaN"
      ]
     },
     "execution_count": 51,
     "metadata": {},
     "output_type": "execute_result"
    }
   ],
   "source": [
    "crimes_small_mi.ID.unstack(level=1)"
   ]
  },
  {
   "cell_type": "code",
   "execution_count": 52,
   "metadata": {},
   "outputs": [
    {
     "data": {
      "text/html": [
       "<div>\n",
       "<style scoped>\n",
       "    .dataframe tbody tr th:only-of-type {\n",
       "        vertical-align: middle;\n",
       "    }\n",
       "\n",
       "    .dataframe tbody tr th {\n",
       "        vertical-align: top;\n",
       "    }\n",
       "\n",
       "    .dataframe thead th {\n",
       "        text-align: right;\n",
       "    }\n",
       "</style>\n",
       "<table border=\"1\" class=\"dataframe\">\n",
       "  <thead>\n",
       "    <tr style=\"text-align: right;\">\n",
       "      <th>Primary Type</th>\n",
       "      <th>ARSON</th>\n",
       "      <th>BATTERY</th>\n",
       "      <th>OTHER OFFENSE</th>\n",
       "      <th>THEFT</th>\n",
       "    </tr>\n",
       "    <tr>\n",
       "      <th>Date</th>\n",
       "      <th></th>\n",
       "      <th></th>\n",
       "      <th></th>\n",
       "      <th></th>\n",
       "    </tr>\n",
       "  </thead>\n",
       "  <tbody>\n",
       "    <tr>\n",
       "      <th>2021-01-09 15:00:00</th>\n",
       "      <td>1</td>\n",
       "      <td>0</td>\n",
       "      <td>0</td>\n",
       "      <td>0</td>\n",
       "    </tr>\n",
       "    <tr>\n",
       "      <th>2021-01-09 16:00:00</th>\n",
       "      <td>0</td>\n",
       "      <td>0</td>\n",
       "      <td>0</td>\n",
       "      <td>0</td>\n",
       "    </tr>\n",
       "    <tr>\n",
       "      <th>2021-01-09 17:00:00</th>\n",
       "      <td>0</td>\n",
       "      <td>0</td>\n",
       "      <td>0</td>\n",
       "      <td>0</td>\n",
       "    </tr>\n",
       "    <tr>\n",
       "      <th>2021-01-09 18:00:00</th>\n",
       "      <td>0</td>\n",
       "      <td>0</td>\n",
       "      <td>0</td>\n",
       "      <td>0</td>\n",
       "    </tr>\n",
       "    <tr>\n",
       "      <th>2021-01-09 19:00:00</th>\n",
       "      <td>0</td>\n",
       "      <td>0</td>\n",
       "      <td>0</td>\n",
       "      <td>0</td>\n",
       "    </tr>\n",
       "    <tr>\n",
       "      <th>...</th>\n",
       "      <td>...</td>\n",
       "      <td>...</td>\n",
       "      <td>...</td>\n",
       "      <td>...</td>\n",
       "    </tr>\n",
       "    <tr>\n",
       "      <th>2021-12-19 03:00:00</th>\n",
       "      <td>0</td>\n",
       "      <td>0</td>\n",
       "      <td>0</td>\n",
       "      <td>0</td>\n",
       "    </tr>\n",
       "    <tr>\n",
       "      <th>2021-12-19 04:00:00</th>\n",
       "      <td>0</td>\n",
       "      <td>0</td>\n",
       "      <td>0</td>\n",
       "      <td>0</td>\n",
       "    </tr>\n",
       "    <tr>\n",
       "      <th>2021-12-19 05:00:00</th>\n",
       "      <td>0</td>\n",
       "      <td>0</td>\n",
       "      <td>0</td>\n",
       "      <td>0</td>\n",
       "    </tr>\n",
       "    <tr>\n",
       "      <th>2021-12-19 06:00:00</th>\n",
       "      <td>0</td>\n",
       "      <td>0</td>\n",
       "      <td>0</td>\n",
       "      <td>0</td>\n",
       "    </tr>\n",
       "    <tr>\n",
       "      <th>2021-12-19 07:00:00</th>\n",
       "      <td>0</td>\n",
       "      <td>1</td>\n",
       "      <td>0</td>\n",
       "      <td>0</td>\n",
       "    </tr>\n",
       "  </tbody>\n",
       "</table>\n",
       "<p>8249 rows × 4 columns</p>\n",
       "</div>"
      ],
      "text/plain": [
       "Primary Type         ARSON  BATTERY  OTHER OFFENSE  THEFT\n",
       "Date                                                     \n",
       "2021-01-09 15:00:00      1        0              0      0\n",
       "2021-01-09 16:00:00      0        0              0      0\n",
       "2021-01-09 17:00:00      0        0              0      0\n",
       "2021-01-09 18:00:00      0        0              0      0\n",
       "2021-01-09 19:00:00      0        0              0      0\n",
       "...                    ...      ...            ...    ...\n",
       "2021-12-19 03:00:00      0        0              0      0\n",
       "2021-12-19 04:00:00      0        0              0      0\n",
       "2021-12-19 05:00:00      0        0              0      0\n",
       "2021-12-19 06:00:00      0        0              0      0\n",
       "2021-12-19 07:00:00      0        1              0      0\n",
       "\n",
       "[8249 rows x 4 columns]"
      ]
     },
     "execution_count": 52,
     "metadata": {},
     "output_type": "execute_result"
    }
   ],
   "source": [
    "crimes_small_mi.ID.unstack(level=1).resample('h').count()#.plot()"
   ]
  },
  {
   "cell_type": "markdown",
   "metadata": {},
   "source": [
    "Now let's do this for the big dataset"
   ]
  },
  {
   "cell_type": "code",
   "execution_count": null,
   "metadata": {},
   "outputs": [],
   "source": [
    "crimes_mi = crimes.set_index(['Primary Type'], append=True)"
   ]
  },
  {
   "cell_type": "markdown",
   "metadata": {},
   "source": [
    "But turns out the same command we used before would yield a `ValueError: Index contains duplicate entries, cannot reshape`"
   ]
  },
  {
   "cell_type": "code",
   "execution_count": null,
   "metadata": {},
   "outputs": [],
   "source": [
    "crimes_mi.ID.unstack(level=1).resample('h').count().plot()"
   ]
  },
  {
   "cell_type": "markdown",
   "metadata": {},
   "source": [
    "Opps, it seems there are duplicates – the same crime noted under the same minute. Let's see if we can sum those up first…"
   ]
  },
  {
   "cell_type": "code",
   "execution_count": null,
   "metadata": {},
   "outputs": [],
   "source": [
    "crimes_mi['ocurrences'] = np.ones(len(crimes_mi), dtype=int)\n",
    "crimes_grouped = crimes_mi.ocurrences.groupby(level=[0,1]).sum() #group by the times in the index (level 0) and \n",
    "                                                                #also use the columns (level 1)\n",
    "crimes_grouped"
   ]
  },
  {
   "cell_type": "code",
   "execution_count": null,
   "metadata": {},
   "outputs": [],
   "source": [
    "crimes_by_type = crimes_grouped.unstack(level=1).fillna(0).resample('h').sum().fillna(0).astype(int)\n",
    "crimes_by_type.head()"
   ]
  },
  {
   "cell_type": "code",
   "execution_count": null,
   "metadata": {},
   "outputs": [],
   "source": [
    "crimes_by_type.loc[:, ['THEFT', 'HOMICIDE', 'ASSAULT']]['2021'].resample('D').sum().plot()"
   ]
  },
  {
   "cell_type": "markdown",
   "metadata": {},
   "source": [
    "## Create an interactive widget\n",
    "\n",
    "Just a taste – see [the docs](https://ipywidgets.readthedocs.io/en/latest/index.html) for more options."
   ]
  },
  {
   "cell_type": "code",
   "execution_count": 25,
   "metadata": {
    "tags": []
   },
   "outputs": [],
   "source": [
    "from ipywidgets import interact"
   ]
  },
  {
   "cell_type": "code",
   "execution_count": 26,
   "metadata": {
    "tags": []
   },
   "outputs": [
    {
     "ename": "NameError",
     "evalue": "name 'crimes_by_type' is not defined",
     "output_type": "error",
     "traceback": [
      "\u001b[0;31m---------------------------------------------------------------------------\u001b[0m",
      "\u001b[0;31mNameError\u001b[0m                                 Traceback (most recent call last)",
      "Cell \u001b[0;32mIn[26], line 1\u001b[0m\n\u001b[0;32m----> 1\u001b[0m \u001b[38;5;129m@interact\u001b[39m(crime_type \u001b[38;5;241m=\u001b[39m \u001b[43mcrimes_by_type\u001b[49m\u001b[38;5;241m.\u001b[39mcolumns)\n\u001b[1;32m      2\u001b[0m \u001b[38;5;28;01mdef\u001b[39;00m \u001b[38;5;21mplot_chart\u001b[39m(crime_type\u001b[38;5;241m=\u001b[39m\u001b[38;5;124m'\u001b[39m\u001b[38;5;124mTHEFT\u001b[39m\u001b[38;5;124m'\u001b[39m):\n\u001b[1;32m      3\u001b[0m     crimes_by_type\u001b[38;5;241m.\u001b[39mloc[:, crime_type][\u001b[38;5;124m'\u001b[39m\u001b[38;5;124m2021\u001b[39m\u001b[38;5;124m'\u001b[39m]\u001b[38;5;241m.\u001b[39mresample(\u001b[38;5;124m'\u001b[39m\u001b[38;5;124mD\u001b[39m\u001b[38;5;124m'\u001b[39m)\u001b[38;5;241m.\u001b[39msum()\u001b[38;5;241m.\u001b[39mplot(title\u001b[38;5;241m=\u001b[39mcrime_type)\n",
      "\u001b[0;31mNameError\u001b[0m: name 'crimes_by_type' is not defined"
     ]
    }
   ],
   "source": [
    "@interact(crime_type = crimes_by_type.columns)\n",
    "def plot_chart(crime_type='THEFT'):\n",
    "    crimes_by_type.loc[:, crime_type]['2021'].resample('D').sum().plot(title=crime_type)"
   ]
  },
  {
   "cell_type": "code",
   "execution_count": null,
   "metadata": {},
   "outputs": [],
   "source": []
  }
 ],
 "metadata": {
  "kernelspec": {
   "display_name": "Python 3 (ipykernel)",
   "language": "python",
   "name": "python3"
  },
  "language_info": {
   "codemirror_mode": {
    "name": "ipython",
    "version": 3
   },
   "file_extension": ".py",
   "mimetype": "text/x-python",
   "name": "python",
   "nbconvert_exporter": "python",
   "pygments_lexer": "ipython3",
   "version": "3.11.3"
  }
 },
 "nbformat": 4,
 "nbformat_minor": 4
}
